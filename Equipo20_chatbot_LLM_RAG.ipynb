{
 "cells": [
  {
   "cell_type": "markdown",
   "metadata": {
    "id": "-hVND8xY2OKY"
   },
   "source": [
    "# **Procesamiento de Lenguaje Natural**\n",
    "\n",
    "## Maestría en Inteligencia Artificial Aplicada\n",
    "#### Tecnológico de Monterrey\n",
    "#### Prof Luis Eduardo Falcón Morales\n",
    "\n",
    "### **Adtividad en Equipos: sistema LLM + RAG**"
   ]
  },
  {
   "cell_type": "markdown",
   "metadata": {
    "id": "aimHVFOv23lm"
   },
   "source": [
    "* **Nombres y matrículas:**\n",
    "\n",
    "* 🧑‍💻 Ovidio Alejandro Hernández Ruano (A01796714)\n",
    "* 🧑‍💻 José Manuel Toral Cruz (A01122243)\n",
    "* 🧑‍💻 Oscar Enrique García García (A01016093)\n",
    "* 🧑‍💻 Luis Gerardo Sanchez Salazar (A01232963)\n",
    "\n",
    "* **Número de Equipo:**\n",
    "* Equipo #20\n"
   ]
  },
  {
   "cell_type": "markdown",
   "metadata": {
    "id": "7jimvsiVgjMg"
   },
   "source": [
    "* ##### **El formato de este cuaderno de Jupyter es libre, pero debe incuir al menos las siguientes secciones:**\n",
    "\n",
    "  * ##### **Introducción de la problemática a resolver.**\n",
    "  * ##### **Sistema RAG + LLM**\n",
    "  * ##### **El chatbot, incluyendo ejemplos de prueba.**\n",
    "  * ##### **Conclusiones**\n",
    "\n",
    "* ##### **Pueden importar los paquetes o librerías que requieran.**\n",
    "\n",
    "* ##### **Pueden incluir las celdas y líneas de código que deseen.**"
   ]
  },
  {
   "cell_type": "markdown",
   "metadata": {
    "id": "l2akzn895aF_"
   },
   "source": [
    "# **Introducción de la problemática a resolver.**"
   ]
  },
  {
   "cell_type": "markdown",
   "metadata": {
    "id": "Fq3bI2BBBm97"
   },
   "source": [
    "## 💡 Ansiedad y depresión: Falta de acceso inmediato, confiable y seguro a información\n",
    "\n",
    "**La ansiedad y la depresión** son dos de los transtornos de salud mental más comunes a nivel mundial, afectando a millones de personas de todas las edades. (Hohls et al., 2021) A pesar de su prevalencia, muchas personas no cuentan con acceso oportuno a información clara, comprensible y basada en evidencia que les permita entender sus síntomas, buscar ayuda o simplemente sentirse acompañadas en su proceso.\n",
    "\n",
    "Factores como la estigma social, la desinformación, las barreras económicas, la escasez de profesionales en salud mental y largos tiempos de espera para recibir atención dificultan quee quienes sufren de estos trastornos obtengan orientación adecuada. Además, en entornos digitales sobrecargados de contenido, es frecuente encontrar información errónea, poco útil o incluso perjudicial (Hua et al., 2025).\n",
    "\n",
    "En este contexto, se propone el desarrollo de un **chatbot** especializado en ansiedad y depresión, que brinde respuestas confiables, empáticas y accesibles. Este asistente digital tiene como objetivo reducir la brecha de información, orientar a las personas hacia recursos apropiados y contribuir al bienestar emocional desde un enfoque preventivo y educativo.\n",
    "\n",
    "Para el desarrollo del chatbot, se usará Retrieval-Augmented Generation (**RAG**) en combinación de modelos de lenguaje de gran escala (**LLM**), generando así una solución efectiva, principalmente por las siguientes razones:\n",
    "\n",
    "* ✅ **Actualización y precisión sobre el contenido:** RAG permite que el modelo no genere respuestas aleatorias basadas en su entrenamiento previo, sino que consulte una base documental curada como guías clínicas, material psicoeducativo validado, publicaciones científicas, o preguntas frecuentes verificadas, reduciendo el riesgo de respuestas incorrectas o no fundamentadas, lo cual es crucial al tratar temas sensibles como la salud mental.\n",
    "\n",
    "* ✅ **Actualización dinámica y adaptabilidad**: A diferencia de un LLM puro, que no puede aprender nueva información tras su entrenamiento, un sistema RAG puede actualizar fácilmente su corpus de conocimiento sin necesidad de reentrenamiento. Así, el chatbot puede mantenerse actualizado con las últimas recomendaciones clínicas, normativas locales o recursos disponibles (como líneas de ayuda o centros de atención comunitarios) o incluso, diagnósticos, conversaciones, o historiales clínicos del paciente para una experiencia más personalizada.\n",
    "\n",
    "* ✅ **Respuestas contextuales, empáticas y comprensibles**: El LLM permite que las respuestas se generen en lenguaje natural, adaptadas al tono del usuario, con un estilo conversacional empático y accesible. Esto ayuda a que las personas se sientan comprendidas y no juzgadas, y que la información se transmita con claridad y calidez (Palomares, 2024).\n",
    "\n",
    "* ✅ **Escalabilidad y disponibilidad**: Al ser una solución automatizada, el chatbot puede estar disponible 24/7, sin importar la zona horaria ni la demanda, lo que permite llegar a más personas en momentos de urgencia o duda. Esto lo convierte en una herramienta valiosa en comunidades con recursos limitados (AWS, 2025).\n",
    "\n",
    "* ✅ **Privacidad y anonimato**: Muchos usuarios prefieren explorar sus dudas sobre salud mental de forma anónima, sin tener que hablar cara a cara con un profesional desde el inicio. Un chatbot con estas características ofrece un espacio seguro, privado y no intrusivo donde dar los primeros pasos hacia el autocuidado o la búsqueda de ayuda (Hua et al., 2025).\n",
    "\n",
    "Combinar RAG + LLM para desarrollar un chatbot sobre ansiedad y depresión no solo mejora la calidad y seguridad de las respuestas, sino que además ofrece una solución técnica ética, escalable y centrada en el bienestar del usuario. Esta herramienta no pretende reemplazar el acompañamiento profesional, sino funcionar como una guía accesible, informada y confiable que ayude a reducir barreras, brindar contención y facilitar el acceso a recursos de salud mental adecuados.\n",
    "\n",
    "A continuación se presenta una propuesta desarrollada con **fines exclusivamente educativos**. Por ello, las respuestas generadas deben ser interpretadas como orientaciones generales y no deben considerarse asesoramiento médico, diagnóstico clínico ni sustituto de atención profesional. Se recomienda que los usuarios consulten a especialistas en salud mental ante cualquier duda o situación que requiera intervención profesional."
   ]
  },
  {
   "cell_type": "markdown",
   "metadata": {
    "id": "zQL0S7wX54Vh"
   },
   "source": [
    "# **Paquetes y librerías**"
   ]
  },
  {
   "cell_type": "markdown",
   "metadata": {
    "id": "qmeyvDTjBGHV"
   },
   "source": [
    "## 🔍 Procesamiento de Lenguaje Natural (NLP)\n",
    "* **📚 transformers:**  Biblioteca de modelos preentrenados desarrollada por Hugging Face. Permite usar modelos de NLP como BERT, GPT, T5, etc., para tareas como clasificación, resumen, traducción, y más.\n",
    "\n",
    "* **🧠 sentence-transformers:** Extensión sobre transformers enfocada en generar representaciones vectoriales (embeddings) de oraciones y párrafos. Ideal para tareas como búsqueda semántica, comparación de textos y clustering.\n",
    "\n",
    "* **📊 datasets:** Colección de datasets estandarizados de Hugging Face para NLP. Simplifica la carga, preprocesamiento y uso de datos para entrenamiento y evaluación de modelos.\n",
    "\n",
    "## 📦 Vectorización y Búsqueda Semántica\n",
    "* **🧭 faiss-cpu:** Biblioteca de búsqueda eficiente de vectores desarrollada por Facebook AI. Se usa para encontrar rápidamente los elementos más cercanos en grandes conjuntos de embeddings.\n",
    "\n",
    "## 🖼️ Interfaz de Usuario / Aplicaciones Web\n",
    "* **🧪 gradio:**\n",
    " Herramienta para crear interfaces web rápidas y simples para modelos de machine learning. Ideal para prototipar y compartir modelos con inputs y outputs interactivos, lo cuál es perfecto para el Chatbot a desarrollar.\n",
    "\n",
    "## 📄 Lectura de Documentos PDF\n",
    "* **📄 PyMuPDF:** Biblioteca para leer, extraer texto y trabajar con archivos PDF y otros documentos. Muy útil para convertir PDFs a texto para análisis posterior."
   ]
  },
  {
   "cell_type": "code",
   "execution_count": 1,
   "metadata": {
    "colab": {
     "base_uri": "https://localhost:8080/"
    },
    "id": "UVMo8aNh595N",
    "outputId": "82818519-11a4-4a67-ac5a-d3af928b4f85"
   },
   "outputs": [
    {
     "name": "stdout",
     "output_type": "stream",
     "text": [
      "Requirement already satisfied: transformers in /usr/local/lib/python3.11/dist-packages (4.52.4)\n",
      "Requirement already satisfied: filelock in /usr/local/lib/python3.11/dist-packages (from transformers) (3.18.0)\n",
      "Requirement already satisfied: huggingface-hub<1.0,>=0.30.0 in /usr/local/lib/python3.11/dist-packages (from transformers) (0.33.0)\n",
      "Requirement already satisfied: numpy>=1.17 in /usr/local/lib/python3.11/dist-packages (from transformers) (2.0.2)\n",
      "Requirement already satisfied: packaging>=20.0 in /usr/local/lib/python3.11/dist-packages (from transformers) (24.2)\n",
      "Requirement already satisfied: pyyaml>=5.1 in /usr/local/lib/python3.11/dist-packages (from transformers) (6.0.2)\n",
      "Requirement already satisfied: regex!=2019.12.17 in /usr/local/lib/python3.11/dist-packages (from transformers) (2024.11.6)\n",
      "Requirement already satisfied: requests in /usr/local/lib/python3.11/dist-packages (from transformers) (2.32.3)\n",
      "Requirement already satisfied: tokenizers<0.22,>=0.21 in /usr/local/lib/python3.11/dist-packages (from transformers) (0.21.1)\n",
      "Requirement already satisfied: safetensors>=0.4.3 in /usr/local/lib/python3.11/dist-packages (from transformers) (0.5.3)\n",
      "Requirement already satisfied: tqdm>=4.27 in /usr/local/lib/python3.11/dist-packages (from transformers) (4.67.1)\n",
      "Requirement already satisfied: fsspec>=2023.5.0 in /usr/local/lib/python3.11/dist-packages (from huggingface-hub<1.0,>=0.30.0->transformers) (2025.3.2)\n",
      "Requirement already satisfied: typing-extensions>=3.7.4.3 in /usr/local/lib/python3.11/dist-packages (from huggingface-hub<1.0,>=0.30.0->transformers) (4.14.0)\n",
      "Requirement already satisfied: hf-xet<2.0.0,>=1.1.2 in /usr/local/lib/python3.11/dist-packages (from huggingface-hub<1.0,>=0.30.0->transformers) (1.1.3)\n",
      "Requirement already satisfied: charset-normalizer<4,>=2 in /usr/local/lib/python3.11/dist-packages (from requests->transformers) (3.4.2)\n",
      "Requirement already satisfied: idna<4,>=2.5 in /usr/local/lib/python3.11/dist-packages (from requests->transformers) (3.10)\n",
      "Requirement already satisfied: urllib3<3,>=1.21.1 in /usr/local/lib/python3.11/dist-packages (from requests->transformers) (2.4.0)\n",
      "Requirement already satisfied: certifi>=2017.4.17 in /usr/local/lib/python3.11/dist-packages (from requests->transformers) (2025.6.15)\n",
      "Requirement already satisfied: sentence-transformers in /usr/local/lib/python3.11/dist-packages (4.1.0)\n",
      "Requirement already satisfied: transformers<5.0.0,>=4.41.0 in /usr/local/lib/python3.11/dist-packages (from sentence-transformers) (4.52.4)\n",
      "Requirement already satisfied: tqdm in /usr/local/lib/python3.11/dist-packages (from sentence-transformers) (4.67.1)\n",
      "Requirement already satisfied: torch>=1.11.0 in /usr/local/lib/python3.11/dist-packages (from sentence-transformers) (2.6.0+cu124)\n",
      "Requirement already satisfied: scikit-learn in /usr/local/lib/python3.11/dist-packages (from sentence-transformers) (1.6.1)\n",
      "Requirement already satisfied: scipy in /usr/local/lib/python3.11/dist-packages (from sentence-transformers) (1.15.3)\n",
      "Requirement already satisfied: huggingface-hub>=0.20.0 in /usr/local/lib/python3.11/dist-packages (from sentence-transformers) (0.33.0)\n",
      "Requirement already satisfied: Pillow in /usr/local/lib/python3.11/dist-packages (from sentence-transformers) (11.2.1)\n",
      "Requirement already satisfied: typing_extensions>=4.5.0 in /usr/local/lib/python3.11/dist-packages (from sentence-transformers) (4.14.0)\n",
      "Requirement already satisfied: filelock in /usr/local/lib/python3.11/dist-packages (from huggingface-hub>=0.20.0->sentence-transformers) (3.18.0)\n",
      "Requirement already satisfied: fsspec>=2023.5.0 in /usr/local/lib/python3.11/dist-packages (from huggingface-hub>=0.20.0->sentence-transformers) (2025.3.2)\n",
      "Requirement already satisfied: packaging>=20.9 in /usr/local/lib/python3.11/dist-packages (from huggingface-hub>=0.20.0->sentence-transformers) (24.2)\n",
      "Requirement already satisfied: pyyaml>=5.1 in /usr/local/lib/python3.11/dist-packages (from huggingface-hub>=0.20.0->sentence-transformers) (6.0.2)\n",
      "Requirement already satisfied: requests in /usr/local/lib/python3.11/dist-packages (from huggingface-hub>=0.20.0->sentence-transformers) (2.32.3)\n",
      "Requirement already satisfied: hf-xet<2.0.0,>=1.1.2 in /usr/local/lib/python3.11/dist-packages (from huggingface-hub>=0.20.0->sentence-transformers) (1.1.3)\n",
      "Requirement already satisfied: networkx in /usr/local/lib/python3.11/dist-packages (from torch>=1.11.0->sentence-transformers) (3.5)\n",
      "Requirement already satisfied: jinja2 in /usr/local/lib/python3.11/dist-packages (from torch>=1.11.0->sentence-transformers) (3.1.6)\n",
      "Collecting nvidia-cuda-nvrtc-cu12==12.4.127 (from torch>=1.11.0->sentence-transformers)\n",
      "  Downloading nvidia_cuda_nvrtc_cu12-12.4.127-py3-none-manylinux2014_x86_64.whl.metadata (1.5 kB)\n",
      "Collecting nvidia-cuda-runtime-cu12==12.4.127 (from torch>=1.11.0->sentence-transformers)\n",
      "  Downloading nvidia_cuda_runtime_cu12-12.4.127-py3-none-manylinux2014_x86_64.whl.metadata (1.5 kB)\n",
      "Collecting nvidia-cuda-cupti-cu12==12.4.127 (from torch>=1.11.0->sentence-transformers)\n",
      "  Downloading nvidia_cuda_cupti_cu12-12.4.127-py3-none-manylinux2014_x86_64.whl.metadata (1.6 kB)\n",
      "Collecting nvidia-cudnn-cu12==9.1.0.70 (from torch>=1.11.0->sentence-transformers)\n",
      "  Downloading nvidia_cudnn_cu12-9.1.0.70-py3-none-manylinux2014_x86_64.whl.metadata (1.6 kB)\n",
      "Collecting nvidia-cublas-cu12==12.4.5.8 (from torch>=1.11.0->sentence-transformers)\n",
      "  Downloading nvidia_cublas_cu12-12.4.5.8-py3-none-manylinux2014_x86_64.whl.metadata (1.5 kB)\n",
      "Collecting nvidia-cufft-cu12==11.2.1.3 (from torch>=1.11.0->sentence-transformers)\n",
      "  Downloading nvidia_cufft_cu12-11.2.1.3-py3-none-manylinux2014_x86_64.whl.metadata (1.5 kB)\n",
      "Collecting nvidia-curand-cu12==10.3.5.147 (from torch>=1.11.0->sentence-transformers)\n",
      "  Downloading nvidia_curand_cu12-10.3.5.147-py3-none-manylinux2014_x86_64.whl.metadata (1.5 kB)\n",
      "Collecting nvidia-cusolver-cu12==11.6.1.9 (from torch>=1.11.0->sentence-transformers)\n",
      "  Downloading nvidia_cusolver_cu12-11.6.1.9-py3-none-manylinux2014_x86_64.whl.metadata (1.6 kB)\n",
      "Collecting nvidia-cusparse-cu12==12.3.1.170 (from torch>=1.11.0->sentence-transformers)\n",
      "  Downloading nvidia_cusparse_cu12-12.3.1.170-py3-none-manylinux2014_x86_64.whl.metadata (1.6 kB)\n",
      "Requirement already satisfied: nvidia-cusparselt-cu12==0.6.2 in /usr/local/lib/python3.11/dist-packages (from torch>=1.11.0->sentence-transformers) (0.6.2)\n",
      "Requirement already satisfied: nvidia-nccl-cu12==2.21.5 in /usr/local/lib/python3.11/dist-packages (from torch>=1.11.0->sentence-transformers) (2.21.5)\n",
      "Requirement already satisfied: nvidia-nvtx-cu12==12.4.127 in /usr/local/lib/python3.11/dist-packages (from torch>=1.11.0->sentence-transformers) (12.4.127)\n",
      "Collecting nvidia-nvjitlink-cu12==12.4.127 (from torch>=1.11.0->sentence-transformers)\n",
      "  Downloading nvidia_nvjitlink_cu12-12.4.127-py3-none-manylinux2014_x86_64.whl.metadata (1.5 kB)\n",
      "Requirement already satisfied: triton==3.2.0 in /usr/local/lib/python3.11/dist-packages (from torch>=1.11.0->sentence-transformers) (3.2.0)\n",
      "Requirement already satisfied: sympy==1.13.1 in /usr/local/lib/python3.11/dist-packages (from torch>=1.11.0->sentence-transformers) (1.13.1)\n",
      "Requirement already satisfied: mpmath<1.4,>=1.1.0 in /usr/local/lib/python3.11/dist-packages (from sympy==1.13.1->torch>=1.11.0->sentence-transformers) (1.3.0)\n",
      "Requirement already satisfied: numpy>=1.17 in /usr/local/lib/python3.11/dist-packages (from transformers<5.0.0,>=4.41.0->sentence-transformers) (2.0.2)\n",
      "Requirement already satisfied: regex!=2019.12.17 in /usr/local/lib/python3.11/dist-packages (from transformers<5.0.0,>=4.41.0->sentence-transformers) (2024.11.6)\n",
      "Requirement already satisfied: tokenizers<0.22,>=0.21 in /usr/local/lib/python3.11/dist-packages (from transformers<5.0.0,>=4.41.0->sentence-transformers) (0.21.1)\n",
      "Requirement already satisfied: safetensors>=0.4.3 in /usr/local/lib/python3.11/dist-packages (from transformers<5.0.0,>=4.41.0->sentence-transformers) (0.5.3)\n",
      "Requirement already satisfied: joblib>=1.2.0 in /usr/local/lib/python3.11/dist-packages (from scikit-learn->sentence-transformers) (1.5.1)\n",
      "Requirement already satisfied: threadpoolctl>=3.1.0 in /usr/local/lib/python3.11/dist-packages (from scikit-learn->sentence-transformers) (3.6.0)\n",
      "Requirement already satisfied: MarkupSafe>=2.0 in /usr/local/lib/python3.11/dist-packages (from jinja2->torch>=1.11.0->sentence-transformers) (3.0.2)\n",
      "Requirement already satisfied: charset-normalizer<4,>=2 in /usr/local/lib/python3.11/dist-packages (from requests->huggingface-hub>=0.20.0->sentence-transformers) (3.4.2)\n",
      "Requirement already satisfied: idna<4,>=2.5 in /usr/local/lib/python3.11/dist-packages (from requests->huggingface-hub>=0.20.0->sentence-transformers) (3.10)\n",
      "Requirement already satisfied: urllib3<3,>=1.21.1 in /usr/local/lib/python3.11/dist-packages (from requests->huggingface-hub>=0.20.0->sentence-transformers) (2.4.0)\n",
      "Requirement already satisfied: certifi>=2017.4.17 in /usr/local/lib/python3.11/dist-packages (from requests->huggingface-hub>=0.20.0->sentence-transformers) (2025.6.15)\n",
      "Downloading nvidia_cublas_cu12-12.4.5.8-py3-none-manylinux2014_x86_64.whl (363.4 MB)\n",
      "\u001b[2K   \u001b[90m━━━━━━━━━━━━━━━━━━━━━━━━━━━━━━━━━━━━━━━━\u001b[0m \u001b[32m363.4/363.4 MB\u001b[0m \u001b[31m3.3 MB/s\u001b[0m eta \u001b[36m0:00:00\u001b[0m\n",
      "\u001b[?25hDownloading nvidia_cuda_cupti_cu12-12.4.127-py3-none-manylinux2014_x86_64.whl (13.8 MB)\n",
      "\u001b[2K   \u001b[90m━━━━━━━━━━━━━━━━━━━━━━━━━━━━━━━━━━━━━━━━\u001b[0m \u001b[32m13.8/13.8 MB\u001b[0m \u001b[31m73.0 MB/s\u001b[0m eta \u001b[36m0:00:00\u001b[0m\n",
      "\u001b[?25hDownloading nvidia_cuda_nvrtc_cu12-12.4.127-py3-none-manylinux2014_x86_64.whl (24.6 MB)\n",
      "\u001b[2K   \u001b[90m━━━━━━━━━━━━━━━━━━━━━━━━━━━━━━━━━━━━━━━━\u001b[0m \u001b[32m24.6/24.6 MB\u001b[0m \u001b[31m61.2 MB/s\u001b[0m eta \u001b[36m0:00:00\u001b[0m\n",
      "\u001b[?25hDownloading nvidia_cuda_runtime_cu12-12.4.127-py3-none-manylinux2014_x86_64.whl (883 kB)\n",
      "\u001b[2K   \u001b[90m━━━━━━━━━━━━━━━━━━━━━━━━━━━━━━━━━━━━━━━━\u001b[0m \u001b[32m883.7/883.7 kB\u001b[0m \u001b[31m22.8 MB/s\u001b[0m eta \u001b[36m0:00:00\u001b[0m\n",
      "\u001b[?25hDownloading nvidia_cudnn_cu12-9.1.0.70-py3-none-manylinux2014_x86_64.whl (664.8 MB)\n",
      "\u001b[2K   \u001b[90m━━━━━━━━━━━━━━━━━━━━━━━━━━━━━━━━━━━━━━━━\u001b[0m \u001b[32m664.8/664.8 MB\u001b[0m \u001b[31m2.0 MB/s\u001b[0m eta \u001b[36m0:00:00\u001b[0m\n",
      "\u001b[?25hDownloading nvidia_cufft_cu12-11.2.1.3-py3-none-manylinux2014_x86_64.whl (211.5 MB)\n",
      "\u001b[2K   \u001b[90m━━━━━━━━━━━━━━━━━━━━━━━━━━━━━━━━━━━━━━━━\u001b[0m \u001b[32m211.5/211.5 MB\u001b[0m \u001b[31m5.4 MB/s\u001b[0m eta \u001b[36m0:00:00\u001b[0m\n",
      "\u001b[?25hDownloading nvidia_curand_cu12-10.3.5.147-py3-none-manylinux2014_x86_64.whl (56.3 MB)\n",
      "\u001b[2K   \u001b[90m━━━━━━━━━━━━━━━━━━━━━━━━━━━━━━━━━━━━━━━━\u001b[0m \u001b[32m56.3/56.3 MB\u001b[0m \u001b[31m12.0 MB/s\u001b[0m eta \u001b[36m0:00:00\u001b[0m\n",
      "\u001b[?25hDownloading nvidia_cusolver_cu12-11.6.1.9-py3-none-manylinux2014_x86_64.whl (127.9 MB)\n",
      "\u001b[2K   \u001b[90m━━━━━━━━━━━━━━━━━━━━━━━━━━━━━━━━━━━━━━━━\u001b[0m \u001b[32m127.9/127.9 MB\u001b[0m \u001b[31m8.3 MB/s\u001b[0m eta \u001b[36m0:00:00\u001b[0m\n",
      "\u001b[?25hDownloading nvidia_cusparse_cu12-12.3.1.170-py3-none-manylinux2014_x86_64.whl (207.5 MB)\n",
      "\u001b[2K   \u001b[90m━━━━━━━━━━━━━━━━━━━━━━━━━━━━━━━━━━━━━━━━\u001b[0m \u001b[32m207.5/207.5 MB\u001b[0m \u001b[31m7.3 MB/s\u001b[0m eta \u001b[36m0:00:00\u001b[0m\n",
      "\u001b[?25hDownloading nvidia_nvjitlink_cu12-12.4.127-py3-none-manylinux2014_x86_64.whl (21.1 MB)\n",
      "\u001b[2K   \u001b[90m━━━━━━━━━━━━━━━━━━━━━━━━━━━━━━━━━━━━━━━━\u001b[0m \u001b[32m21.1/21.1 MB\u001b[0m \u001b[31m70.7 MB/s\u001b[0m eta \u001b[36m0:00:00\u001b[0m\n",
      "\u001b[?25hInstalling collected packages: nvidia-nvjitlink-cu12, nvidia-curand-cu12, nvidia-cufft-cu12, nvidia-cuda-runtime-cu12, nvidia-cuda-nvrtc-cu12, nvidia-cuda-cupti-cu12, nvidia-cublas-cu12, nvidia-cusparse-cu12, nvidia-cudnn-cu12, nvidia-cusolver-cu12\n",
      "  Attempting uninstall: nvidia-nvjitlink-cu12\n",
      "    Found existing installation: nvidia-nvjitlink-cu12 12.5.82\n",
      "    Uninstalling nvidia-nvjitlink-cu12-12.5.82:\n",
      "      Successfully uninstalled nvidia-nvjitlink-cu12-12.5.82\n",
      "  Attempting uninstall: nvidia-curand-cu12\n",
      "    Found existing installation: nvidia-curand-cu12 10.3.6.82\n",
      "    Uninstalling nvidia-curand-cu12-10.3.6.82:\n",
      "      Successfully uninstalled nvidia-curand-cu12-10.3.6.82\n",
      "  Attempting uninstall: nvidia-cufft-cu12\n",
      "    Found existing installation: nvidia-cufft-cu12 11.2.3.61\n",
      "    Uninstalling nvidia-cufft-cu12-11.2.3.61:\n",
      "      Successfully uninstalled nvidia-cufft-cu12-11.2.3.61\n",
      "  Attempting uninstall: nvidia-cuda-runtime-cu12\n",
      "    Found existing installation: nvidia-cuda-runtime-cu12 12.5.82\n",
      "    Uninstalling nvidia-cuda-runtime-cu12-12.5.82:\n",
      "      Successfully uninstalled nvidia-cuda-runtime-cu12-12.5.82\n",
      "  Attempting uninstall: nvidia-cuda-nvrtc-cu12\n",
      "    Found existing installation: nvidia-cuda-nvrtc-cu12 12.5.82\n",
      "    Uninstalling nvidia-cuda-nvrtc-cu12-12.5.82:\n",
      "      Successfully uninstalled nvidia-cuda-nvrtc-cu12-12.5.82\n",
      "  Attempting uninstall: nvidia-cuda-cupti-cu12\n",
      "    Found existing installation: nvidia-cuda-cupti-cu12 12.5.82\n",
      "    Uninstalling nvidia-cuda-cupti-cu12-12.5.82:\n",
      "      Successfully uninstalled nvidia-cuda-cupti-cu12-12.5.82\n",
      "  Attempting uninstall: nvidia-cublas-cu12\n",
      "    Found existing installation: nvidia-cublas-cu12 12.5.3.2\n",
      "    Uninstalling nvidia-cublas-cu12-12.5.3.2:\n",
      "      Successfully uninstalled nvidia-cublas-cu12-12.5.3.2\n",
      "  Attempting uninstall: nvidia-cusparse-cu12\n",
      "    Found existing installation: nvidia-cusparse-cu12 12.5.1.3\n",
      "    Uninstalling nvidia-cusparse-cu12-12.5.1.3:\n",
      "      Successfully uninstalled nvidia-cusparse-cu12-12.5.1.3\n",
      "  Attempting uninstall: nvidia-cudnn-cu12\n",
      "    Found existing installation: nvidia-cudnn-cu12 9.3.0.75\n",
      "    Uninstalling nvidia-cudnn-cu12-9.3.0.75:\n",
      "      Successfully uninstalled nvidia-cudnn-cu12-9.3.0.75\n",
      "  Attempting uninstall: nvidia-cusolver-cu12\n",
      "    Found existing installation: nvidia-cusolver-cu12 11.6.3.83\n",
      "    Uninstalling nvidia-cusolver-cu12-11.6.3.83:\n",
      "      Successfully uninstalled nvidia-cusolver-cu12-11.6.3.83\n",
      "Successfully installed nvidia-cublas-cu12-12.4.5.8 nvidia-cuda-cupti-cu12-12.4.127 nvidia-cuda-nvrtc-cu12-12.4.127 nvidia-cuda-runtime-cu12-12.4.127 nvidia-cudnn-cu12-9.1.0.70 nvidia-cufft-cu12-11.2.1.3 nvidia-curand-cu12-10.3.5.147 nvidia-cusolver-cu12-11.6.1.9 nvidia-cusparse-cu12-12.3.1.170 nvidia-nvjitlink-cu12-12.4.127\n",
      "Collecting faiss-cpu\n",
      "  Downloading faiss_cpu-1.11.0-cp311-cp311-manylinux_2_28_x86_64.whl.metadata (4.8 kB)\n",
      "Requirement already satisfied: numpy<3.0,>=1.25.0 in /usr/local/lib/python3.11/dist-packages (from faiss-cpu) (2.0.2)\n",
      "Requirement already satisfied: packaging in /usr/local/lib/python3.11/dist-packages (from faiss-cpu) (24.2)\n",
      "Downloading faiss_cpu-1.11.0-cp311-cp311-manylinux_2_28_x86_64.whl (31.3 MB)\n",
      "\u001b[2K   \u001b[90m━━━━━━━━━━━━━━━━━━━━━━━━━━━━━━━━━━━━━━━━\u001b[0m \u001b[32m31.3/31.3 MB\u001b[0m \u001b[31m72.4 MB/s\u001b[0m eta \u001b[36m0:00:00\u001b[0m\n",
      "\u001b[?25hInstalling collected packages: faiss-cpu\n",
      "Successfully installed faiss-cpu-1.11.0\n",
      "Requirement already satisfied: gradio in /usr/local/lib/python3.11/dist-packages (5.31.0)\n",
      "Requirement already satisfied: aiofiles<25.0,>=22.0 in /usr/local/lib/python3.11/dist-packages (from gradio) (24.1.0)\n",
      "Requirement already satisfied: anyio<5.0,>=3.0 in /usr/local/lib/python3.11/dist-packages (from gradio) (4.9.0)\n",
      "Requirement already satisfied: fastapi<1.0,>=0.115.2 in /usr/local/lib/python3.11/dist-packages (from gradio) (0.115.12)\n",
      "Requirement already satisfied: ffmpy in /usr/local/lib/python3.11/dist-packages (from gradio) (0.6.0)\n",
      "Requirement already satisfied: gradio-client==1.10.1 in /usr/local/lib/python3.11/dist-packages (from gradio) (1.10.1)\n",
      "Requirement already satisfied: groovy~=0.1 in /usr/local/lib/python3.11/dist-packages (from gradio) (0.1.2)\n",
      "Requirement already satisfied: httpx>=0.24.1 in /usr/local/lib/python3.11/dist-packages (from gradio) (0.28.1)\n",
      "Requirement already satisfied: huggingface-hub>=0.28.1 in /usr/local/lib/python3.11/dist-packages (from gradio) (0.33.0)\n",
      "Requirement already satisfied: jinja2<4.0 in /usr/local/lib/python3.11/dist-packages (from gradio) (3.1.6)\n",
      "Requirement already satisfied: markupsafe<4.0,>=2.0 in /usr/local/lib/python3.11/dist-packages (from gradio) (3.0.2)\n",
      "Requirement already satisfied: numpy<3.0,>=1.0 in /usr/local/lib/python3.11/dist-packages (from gradio) (2.0.2)\n",
      "Requirement already satisfied: orjson~=3.0 in /usr/local/lib/python3.11/dist-packages (from gradio) (3.10.18)\n",
      "Requirement already satisfied: packaging in /usr/local/lib/python3.11/dist-packages (from gradio) (24.2)\n",
      "Requirement already satisfied: pandas<3.0,>=1.0 in /usr/local/lib/python3.11/dist-packages (from gradio) (2.2.2)\n",
      "Requirement already satisfied: pillow<12.0,>=8.0 in /usr/local/lib/python3.11/dist-packages (from gradio) (11.2.1)\n",
      "Requirement already satisfied: pydantic<2.12,>=2.0 in /usr/local/lib/python3.11/dist-packages (from gradio) (2.11.7)\n",
      "Requirement already satisfied: pydub in /usr/local/lib/python3.11/dist-packages (from gradio) (0.25.1)\n",
      "Requirement already satisfied: python-multipart>=0.0.18 in /usr/local/lib/python3.11/dist-packages (from gradio) (0.0.20)\n",
      "Requirement already satisfied: pyyaml<7.0,>=5.0 in /usr/local/lib/python3.11/dist-packages (from gradio) (6.0.2)\n",
      "Requirement already satisfied: ruff>=0.9.3 in /usr/local/lib/python3.11/dist-packages (from gradio) (0.11.13)\n",
      "Requirement already satisfied: safehttpx<0.2.0,>=0.1.6 in /usr/local/lib/python3.11/dist-packages (from gradio) (0.1.6)\n",
      "Requirement already satisfied: semantic-version~=2.0 in /usr/local/lib/python3.11/dist-packages (from gradio) (2.10.0)\n",
      "Requirement already satisfied: starlette<1.0,>=0.40.0 in /usr/local/lib/python3.11/dist-packages (from gradio) (0.46.2)\n",
      "Requirement already satisfied: tomlkit<0.14.0,>=0.12.0 in /usr/local/lib/python3.11/dist-packages (from gradio) (0.13.3)\n",
      "Requirement already satisfied: typer<1.0,>=0.12 in /usr/local/lib/python3.11/dist-packages (from gradio) (0.16.0)\n",
      "Requirement already satisfied: typing-extensions~=4.0 in /usr/local/lib/python3.11/dist-packages (from gradio) (4.14.0)\n",
      "Requirement already satisfied: uvicorn>=0.14.0 in /usr/local/lib/python3.11/dist-packages (from gradio) (0.34.3)\n",
      "Requirement already satisfied: fsspec in /usr/local/lib/python3.11/dist-packages (from gradio-client==1.10.1->gradio) (2025.3.2)\n",
      "Requirement already satisfied: websockets<16.0,>=10.0 in /usr/local/lib/python3.11/dist-packages (from gradio-client==1.10.1->gradio) (15.0.1)\n",
      "Requirement already satisfied: idna>=2.8 in /usr/local/lib/python3.11/dist-packages (from anyio<5.0,>=3.0->gradio) (3.10)\n",
      "Requirement already satisfied: sniffio>=1.1 in /usr/local/lib/python3.11/dist-packages (from anyio<5.0,>=3.0->gradio) (1.3.1)\n",
      "Requirement already satisfied: certifi in /usr/local/lib/python3.11/dist-packages (from httpx>=0.24.1->gradio) (2025.6.15)\n",
      "Requirement already satisfied: httpcore==1.* in /usr/local/lib/python3.11/dist-packages (from httpx>=0.24.1->gradio) (1.0.9)\n",
      "Requirement already satisfied: h11>=0.16 in /usr/local/lib/python3.11/dist-packages (from httpcore==1.*->httpx>=0.24.1->gradio) (0.16.0)\n",
      "Requirement already satisfied: filelock in /usr/local/lib/python3.11/dist-packages (from huggingface-hub>=0.28.1->gradio) (3.18.0)\n",
      "Requirement already satisfied: requests in /usr/local/lib/python3.11/dist-packages (from huggingface-hub>=0.28.1->gradio) (2.32.3)\n",
      "Requirement already satisfied: tqdm>=4.42.1 in /usr/local/lib/python3.11/dist-packages (from huggingface-hub>=0.28.1->gradio) (4.67.1)\n",
      "Requirement already satisfied: hf-xet<2.0.0,>=1.1.2 in /usr/local/lib/python3.11/dist-packages (from huggingface-hub>=0.28.1->gradio) (1.1.3)\n",
      "Requirement already satisfied: python-dateutil>=2.8.2 in /usr/local/lib/python3.11/dist-packages (from pandas<3.0,>=1.0->gradio) (2.9.0.post0)\n",
      "Requirement already satisfied: pytz>=2020.1 in /usr/local/lib/python3.11/dist-packages (from pandas<3.0,>=1.0->gradio) (2025.2)\n",
      "Requirement already satisfied: tzdata>=2022.7 in /usr/local/lib/python3.11/dist-packages (from pandas<3.0,>=1.0->gradio) (2025.2)\n",
      "Requirement already satisfied: annotated-types>=0.6.0 in /usr/local/lib/python3.11/dist-packages (from pydantic<2.12,>=2.0->gradio) (0.7.0)\n",
      "Requirement already satisfied: pydantic-core==2.33.2 in /usr/local/lib/python3.11/dist-packages (from pydantic<2.12,>=2.0->gradio) (2.33.2)\n",
      "Requirement already satisfied: typing-inspection>=0.4.0 in /usr/local/lib/python3.11/dist-packages (from pydantic<2.12,>=2.0->gradio) (0.4.1)\n",
      "Requirement already satisfied: click>=8.0.0 in /usr/local/lib/python3.11/dist-packages (from typer<1.0,>=0.12->gradio) (8.2.1)\n",
      "Requirement already satisfied: shellingham>=1.3.0 in /usr/local/lib/python3.11/dist-packages (from typer<1.0,>=0.12->gradio) (1.5.4)\n",
      "Requirement already satisfied: rich>=10.11.0 in /usr/local/lib/python3.11/dist-packages (from typer<1.0,>=0.12->gradio) (13.9.4)\n",
      "Requirement already satisfied: six>=1.5 in /usr/local/lib/python3.11/dist-packages (from python-dateutil>=2.8.2->pandas<3.0,>=1.0->gradio) (1.17.0)\n",
      "Requirement already satisfied: markdown-it-py>=2.2.0 in /usr/local/lib/python3.11/dist-packages (from rich>=10.11.0->typer<1.0,>=0.12->gradio) (3.0.0)\n",
      "Requirement already satisfied: pygments<3.0.0,>=2.13.0 in /usr/local/lib/python3.11/dist-packages (from rich>=10.11.0->typer<1.0,>=0.12->gradio) (2.19.1)\n",
      "Requirement already satisfied: charset-normalizer<4,>=2 in /usr/local/lib/python3.11/dist-packages (from requests->huggingface-hub>=0.28.1->gradio) (3.4.2)\n",
      "Requirement already satisfied: urllib3<3,>=1.21.1 in /usr/local/lib/python3.11/dist-packages (from requests->huggingface-hub>=0.28.1->gradio) (2.4.0)\n",
      "Requirement already satisfied: mdurl~=0.1 in /usr/local/lib/python3.11/dist-packages (from markdown-it-py>=2.2.0->rich>=10.11.0->typer<1.0,>=0.12->gradio) (0.1.2)\n",
      "Requirement already satisfied: datasets in /usr/local/lib/python3.11/dist-packages (2.14.4)\n",
      "Requirement already satisfied: numpy>=1.17 in /usr/local/lib/python3.11/dist-packages (from datasets) (2.0.2)\n",
      "Requirement already satisfied: pyarrow>=8.0.0 in /usr/local/lib/python3.11/dist-packages (from datasets) (18.1.0)\n",
      "Requirement already satisfied: dill<0.3.8,>=0.3.0 in /usr/local/lib/python3.11/dist-packages (from datasets) (0.3.7)\n",
      "Requirement already satisfied: pandas in /usr/local/lib/python3.11/dist-packages (from datasets) (2.2.2)\n",
      "Requirement already satisfied: requests>=2.19.0 in /usr/local/lib/python3.11/dist-packages (from datasets) (2.32.3)\n",
      "Requirement already satisfied: tqdm>=4.62.1 in /usr/local/lib/python3.11/dist-packages (from datasets) (4.67.1)\n",
      "Requirement already satisfied: xxhash in /usr/local/lib/python3.11/dist-packages (from datasets) (3.5.0)\n",
      "Requirement already satisfied: multiprocess in /usr/local/lib/python3.11/dist-packages (from datasets) (0.70.15)\n",
      "Requirement already satisfied: fsspec>=2021.11.1 in /usr/local/lib/python3.11/dist-packages (from fsspec[http]>=2021.11.1->datasets) (2025.3.2)\n",
      "Requirement already satisfied: aiohttp in /usr/local/lib/python3.11/dist-packages (from datasets) (3.11.15)\n",
      "Requirement already satisfied: huggingface-hub<1.0.0,>=0.14.0 in /usr/local/lib/python3.11/dist-packages (from datasets) (0.33.0)\n",
      "Requirement already satisfied: packaging in /usr/local/lib/python3.11/dist-packages (from datasets) (24.2)\n",
      "Requirement already satisfied: pyyaml>=5.1 in /usr/local/lib/python3.11/dist-packages (from datasets) (6.0.2)\n",
      "Requirement already satisfied: aiohappyeyeballs>=2.3.0 in /usr/local/lib/python3.11/dist-packages (from aiohttp->datasets) (2.6.1)\n",
      "Requirement already satisfied: aiosignal>=1.1.2 in /usr/local/lib/python3.11/dist-packages (from aiohttp->datasets) (1.3.2)\n",
      "Requirement already satisfied: attrs>=17.3.0 in /usr/local/lib/python3.11/dist-packages (from aiohttp->datasets) (25.3.0)\n",
      "Requirement already satisfied: frozenlist>=1.1.1 in /usr/local/lib/python3.11/dist-packages (from aiohttp->datasets) (1.7.0)\n",
      "Requirement already satisfied: multidict<7.0,>=4.5 in /usr/local/lib/python3.11/dist-packages (from aiohttp->datasets) (6.4.4)\n",
      "Requirement already satisfied: propcache>=0.2.0 in /usr/local/lib/python3.11/dist-packages (from aiohttp->datasets) (0.3.2)\n",
      "Requirement already satisfied: yarl<2.0,>=1.17.0 in /usr/local/lib/python3.11/dist-packages (from aiohttp->datasets) (1.20.1)\n",
      "Requirement already satisfied: filelock in /usr/local/lib/python3.11/dist-packages (from huggingface-hub<1.0.0,>=0.14.0->datasets) (3.18.0)\n",
      "Requirement already satisfied: typing-extensions>=3.7.4.3 in /usr/local/lib/python3.11/dist-packages (from huggingface-hub<1.0.0,>=0.14.0->datasets) (4.14.0)\n",
      "Requirement already satisfied: hf-xet<2.0.0,>=1.1.2 in /usr/local/lib/python3.11/dist-packages (from huggingface-hub<1.0.0,>=0.14.0->datasets) (1.1.3)\n",
      "Requirement already satisfied: charset-normalizer<4,>=2 in /usr/local/lib/python3.11/dist-packages (from requests>=2.19.0->datasets) (3.4.2)\n",
      "Requirement already satisfied: idna<4,>=2.5 in /usr/local/lib/python3.11/dist-packages (from requests>=2.19.0->datasets) (3.10)\n",
      "Requirement already satisfied: urllib3<3,>=1.21.1 in /usr/local/lib/python3.11/dist-packages (from requests>=2.19.0->datasets) (2.4.0)\n",
      "Requirement already satisfied: certifi>=2017.4.17 in /usr/local/lib/python3.11/dist-packages (from requests>=2.19.0->datasets) (2025.6.15)\n",
      "Requirement already satisfied: python-dateutil>=2.8.2 in /usr/local/lib/python3.11/dist-packages (from pandas->datasets) (2.9.0.post0)\n",
      "Requirement already satisfied: pytz>=2020.1 in /usr/local/lib/python3.11/dist-packages (from pandas->datasets) (2025.2)\n",
      "Requirement already satisfied: tzdata>=2022.7 in /usr/local/lib/python3.11/dist-packages (from pandas->datasets) (2025.2)\n",
      "Requirement already satisfied: six>=1.5 in /usr/local/lib/python3.11/dist-packages (from python-dateutil>=2.8.2->pandas->datasets) (1.17.0)\n",
      "Collecting PyMuPDF\n",
      "  Downloading pymupdf-1.26.1-cp39-abi3-manylinux_2_28_x86_64.whl.metadata (3.4 kB)\n",
      "Downloading pymupdf-1.26.1-cp39-abi3-manylinux_2_28_x86_64.whl (24.1 MB)\n",
      "\u001b[2K   \u001b[90m━━━━━━━━━━━━━━━━━━━━━━━━━━━━━━━━━━━━━━━━\u001b[0m \u001b[32m24.1/24.1 MB\u001b[0m \u001b[31m94.8 MB/s\u001b[0m eta \u001b[36m0:00:00\u001b[0m\n",
      "\u001b[?25hInstalling collected packages: PyMuPDF\n",
      "Successfully installed PyMuPDF-1.26.1\n"
     ]
    }
   ],
   "source": [
    "# Incluyan a continuación todas las celdas (de código o texto) que deseen...\n",
    "!pip install transformers\n",
    "!pip install sentence-transformers\n",
    "!pip install faiss-cpu\n",
    "!pip install gradio\n",
    "!pip install datasets\n",
    "!pip install PyMuPDF"
   ]
  },
  {
   "cell_type": "markdown",
   "metadata": {
    "id": "WJtWHl5iBMpo"
   },
   "source": [
    "## 🧱 Utilidades del Sistema y Datos\n",
    "\n",
    "* **📂 os:** Módulo estándar de Python para interactuar con el sistema operativo. Se usa para operaciones como navegar entre carpetas, crear directorios o manipular archivos.\n",
    "\n",
    "* **📦 pickle:** Biblioteca estándar de Python para serializar y deserializar objetos. Útil para guardar modelos, datos procesados o estructuras en archivos binarios para reutilización.\n",
    "\n",
    "* **🔢 numpy:** Paquete fundamental para computación numérica en Python. Permite manejar arrays y realizar operaciones matemáticas eficientes a nivel de matriz.\n",
    "\n",
    "* **🌎 IPython.display:** Importamos las funciones `display` y `HTML` para desplegar contenido enriquecido como HTML dentro de celdas de Google Colab.\n",
    "\n",
    "* **🔡 re:** Módulo de expresiones regulares en Python. Se usa para buscar, reemplazar o dividir texto mediante patrones definidos.\n",
    "\n",
    "## 📄 Procesamiento de Documentos PDF\n",
    "\n",
    "* **📄 fitz (PyMuPDF):** Interfaz principal de la biblioteca PyMuPDF. Permite abrir, leer y extraer texto o imágenes de archivos PDF y otros documentos.\n",
    "\n",
    "## 📦 Búsqueda Semántica\n",
    "\n",
    "* **🧭 faiss:** Biblioteca de Facebook AI para búsqueda rápida de vectores en grandes volúmenes de datos. Se usa para tareas de similitud semántica y recuperación de información basada en embeddings.\n",
    "\n",
    "## 🔍 Procesamiento de Lenguaje Natural (NLP)\n",
    "\n",
    "* **🧠 sentence-transformers:** Biblioteca que permite generar embeddings semánticos de textos. Generalmente utilizada para tareas como clustering, recuperación semántica y comparación de oraciones.\n",
    "\n",
    "* **🧬 transformers (AutoTokenizer, AutoModelForSeq2SeqLM, pipeline):** Componentes clave de la librería Hugging Face Transformers:\n",
    "  - **AutoTokenizer:** Convierte texto a tokens entendibles por modelos.\n",
    "  - **AutoModelForSeq2SeqLM:** Carga modelos preentrenados para tareas de secuencia a secuencia.\n",
    "  - **pipeline:** Interfaz simplificada para aplicar tareas comunes con modelos preentrenados.\n",
    "\n",
    "* **🗣️ nltk & sent_tokenize:** `nltk` es una biblioteca para procesamiento de lenguaje natural. En este caso, se utiliza para **tokenizar texto en oraciones** mediante `sent_tokenize`, útil para dividir grandes textos en unidades más manejables.\n",
    "\n",
    "## 📐 Normalización de Vectores\n",
    "\n",
    "* **📐 normalize:** Se utiliza para escalar vectores de forma que tengan una norma unitaria. Es esencial para calcular similitudes de forma coherente entre vectores."
   ]
  },
  {
   "cell_type": "code",
   "execution_count": 2,
   "metadata": {
    "colab": {
     "base_uri": "https://localhost:8080/"
    },
    "id": "X2KsDfQ0BUh_",
    "outputId": "0107665e-4b1e-4781-84ce-df54e23f2774"
   },
   "outputs": [
    {
     "name": "stderr",
     "output_type": "stream",
     "text": [
      "[nltk_data] Downloading package punkt to /root/nltk_data...\n",
      "[nltk_data]   Unzipping tokenizers/punkt.zip.\n",
      "[nltk_data] Downloading package punkt_tab to /root/nltk_data...\n",
      "[nltk_data]   Unzipping tokenizers/punkt_tab.zip.\n"
     ]
    }
   ],
   "source": [
    "import os\n",
    "import fitz\n",
    "import faiss\n",
    "import pickle\n",
    "import numpy as np\n",
    "import re\n",
    "import nltk\n",
    "nltk.download(\"punkt\")\n",
    "nltk.download('punkt_tab')\n",
    "from nltk.tokenize import sent_tokenize\n",
    "from IPython.display import display, HTML\n",
    "from sentence_transformers import SentenceTransformer\n",
    "from transformers import AutoTokenizer, AutoModelForSeq2SeqLM, pipeline\n",
    "from sklearn.preprocessing import normalize"
   ]
  },
  {
   "cell_type": "markdown",
   "metadata": {
    "id": "tthhwfJhBo0o"
   },
   "source": [
    "## 📂 Archivos PDF y sus descripciones\n",
    "\n",
    "A continuación se enlistan los archivos a utilizar para el chatbot, junto con su tema principal y una berve descripción de su conrtenido.\n",
    "\n",
    "**1. empatia_comunicacion.pdf**\n",
    "* Tema: Empatía en la comunicación\n",
    "* Descripción: Describe el concepto de empatía desde el punto de vista cognitivo y emocional, destacando la importancia de las neuronas espejo y cómo la empatía mejora la calidad de la comunicación interpersonal. Incluye técnicas como la escucha activa, actitud de apertura y rechazo de prejuicios\n",
    "\n",
    "\n",
    "**2. primeras-paginas-lo-mejor-de-tu-vida-es.pdf**\n",
    "* Tema: Autoestima y confianza personal\n",
    "* Descripción: Fragmento del libro de Ma. Jesús Álava Reyes. Enfatiza la importancia de confiar en uno mismo para alcanzar la felicidad. Incluye reflexiones, testimonios y capítulos orientados al desarrollo de la autoconfianza y la superación del sufrimiento emocional\n",
    "\n",
    "\n",
    "**3. Guia de Primeros Auxilios Psicológicos_Integra.pdf**\n",
    "* Tema: Primeros Auxilios Psicológicos (PAP)\n",
    "* Descripción: Guía orientada a personas en movilidad humana. Explica qué es una crisis psicológica, cómo se manifiesta, tipos de intervención, principios del PAP, y autocuidado del personal interviniente. Incluye técnicas como escucha empática, estabilización y contención emocional\n",
    "\n",
    "\n",
    "**4. depresion.pdf**\n",
    "* Tema: Depresión\n",
    "* Descripción: Documento del National Institute of Mental Health. Define la depresión, sus síntomas, causas, tipos (mayor, distimia, estacional, posparto, etc.), diagnóstico y tratamientos (psicoterapia, medicamentos, terapia de estimulación cerebral)\n",
    "\n",
    "\n",
    "**5. Abre-tu-mente-modo-positivo-salud-mental.pdf**\n",
    "* Tema: Promoción de salud mental en jóvenes\n",
    "* Descripción: Guía educativa dirigida a docentes y familias. Aborda temas como salud mental, adolescencia, estilo de vida saludable, relaciones sociales, emociones, inteligencia emocional y prevención de problemas de salud mental.\n",
    "\n",
    "\n",
    "**6. AtencionPrimAmb1988_spa.pdf**\n",
    "* Tema: Atención Primaria Ambiental (APA)\n",
    "* Descripción: Publicación de la OPS que presenta el concepto de APA. Ofrece un enfoque holístico para mejorar el ambiente y la salud pública. Incluye marco conceptual, principios, problemas ambientales locales, participación ciudadana y organización de centros APA\n",
    "\n",
    "\n",
    "**7. 9789243548203_spa.pdf**\n",
    "* Tema: Primera Ayuda Psicológica (OMS)\n",
    "* Descripción: Guía práctica para trabajadores de campo en situaciones de emergencia. Define PAP, principios de acción (observar, escuchar, conectar), cómo ayudar de forma responsable y cómo cuidarse como interviniente. Incluye ejercicios y casos simulados\n",
    "\n",
    "\n",
    "**8. empatia.pdf**\n",
    "* Tema: Empatía y neurociencia\n",
    "* Descripción: Presentación sobre empatía desde una perspectiva emocional, cognitiva y neurocientífica.\n",
    "\n",
    "\n",
    "**9. Guiasautoayudadepresionansiedad.pdf**\n",
    "* Tema: Autoayuda para depresión y ansiedad\n",
    "* Descripción: Conjunto de guías del Servicio Andaluz de Salud. Contienen información y actividades sobre depresión, ansiedad, duelo, autoestima, control de pensamientos, técnicas de relajación, afrontamiento del estrés, etcértera."
   ]
  },
  {
   "cell_type": "markdown",
   "metadata": {
    "id": "muh29EoTYcDI"
   },
   "source": [
    "## 📁 Creación de Carpeta y Descarga Condicional de Archivos\n",
    "\n",
    "Este bloque de código verifica si existe una carpeta llamada `pdf` en el entorno (`/content/pdf`) y realiza las siguientes acciones:\n",
    "\n",
    "* 🗂️ **Crea la carpeta si no existe**, asegurando el espacio necesario para almacenar los archivos PDF.\n",
    "* 🔍 **Verifica si la carpeta está vacía**:\n",
    "  - Si está vacía, **descarga los archivos desde una carpeta pública en Google Drive** usando `gdown`.\n",
    "  - Si ya contiene archivos, **omite la descarga** para evitar redundancias."
   ]
  },
  {
   "cell_type": "code",
   "execution_count": 3,
   "metadata": {
    "colab": {
     "base_uri": "https://localhost:8080/"
    },
    "id": "qD_iRBEQcHj9",
    "outputId": "ca387300-e84f-4083-9161-25427dae5aec"
   },
   "outputs": [
    {
     "name": "stdout",
     "output_type": "stream",
     "text": [
      "✅ Carpeta creada: /content/pdf\n",
      "📥 La carpeta está vacía. Iniciando descarga de contenidos...\n",
      "Retrieving folder contents\n",
      "Processing file 1kG5IIlGvSiQ0ssXATpeObGRZbFwf58QP 9789243548203_spa.pdf\n",
      "Processing file 1Xjx71RvGUBeujBbI8UKlqrQmq7YHm-ta Abre-tu-mente-modo-positivo-salud-mental.pdf\n",
      "Processing file 1RqMKjObfW74KOjsigrp5yEGyfQ7CHhqc AtencionPrimAmb1988_spa.pdf\n",
      "Processing file 1RY6Te6pvkc_4YpVYnbUBvm___1gpdoH6 depresion.pdf\n",
      "Processing file 1G-pEX_H2UXOZitt7cfjTLZgEAnDmfFIe empatia_comunicacion.pdf\n",
      "Processing file 1wmn6s6ydyh23PFVIdr1UsaQoJDXO7ouk empatia.pdf\n",
      "Processing file 1Yg0JTjMj6UWECVpuOBlB13zMm9pid-J0 Guia de Primeros Auxilios Psicológicos_Integra.pdf\n",
      "Processing file 1hRSuv2xQ5BurzmlZylc3zB7YzgtWaAil Guiasautoayudadepresionansiedad.pdf\n",
      "Processing file 1yGMaILcMOQmZYkLu0vys0deRj5dqt7UP primeras-paginas-primeras-paginas-lo-mejor-de-tu-vida-es.pdf\n",
      "Retrieving folder contents completed\n",
      "Building directory structure\n",
      "Building directory structure completed\n",
      "Downloading...\n",
      "From: https://drive.google.com/uc?id=1kG5IIlGvSiQ0ssXATpeObGRZbFwf58QP\n",
      "To: /content/pdf/9789243548203_spa.pdf\n",
      "100% 5.17M/5.17M [00:00<00:00, 39.1MB/s]\n",
      "Downloading...\n",
      "From: https://drive.google.com/uc?id=1Xjx71RvGUBeujBbI8UKlqrQmq7YHm-ta\n",
      "To: /content/pdf/Abre-tu-mente-modo-positivo-salud-mental.pdf\n",
      "100% 3.82M/3.82M [00:00<00:00, 24.9MB/s]\n",
      "Downloading...\n",
      "From: https://drive.google.com/uc?id=1RqMKjObfW74KOjsigrp5yEGyfQ7CHhqc\n",
      "To: /content/pdf/AtencionPrimAmb1988_spa.pdf\n",
      "100% 5.19M/5.19M [00:00<00:00, 27.9MB/s]\n",
      "Downloading...\n",
      "From: https://drive.google.com/uc?id=1RY6Te6pvkc_4YpVYnbUBvm___1gpdoH6\n",
      "To: /content/pdf/depresion.pdf\n",
      "100% 2.81M/2.81M [00:00<00:00, 21.6MB/s]\n",
      "Downloading...\n",
      "From: https://drive.google.com/uc?id=1G-pEX_H2UXOZitt7cfjTLZgEAnDmfFIe\n",
      "To: /content/pdf/empatia_comunicacion.pdf\n",
      "100% 195k/195k [00:00<00:00, 3.64MB/s]\n",
      "Downloading...\n",
      "From: https://drive.google.com/uc?id=1wmn6s6ydyh23PFVIdr1UsaQoJDXO7ouk\n",
      "To: /content/pdf/empatia.pdf\n",
      "100% 23.6M/23.6M [00:00<00:00, 84.2MB/s]\n",
      "Downloading...\n",
      "From: https://drive.google.com/uc?id=1Yg0JTjMj6UWECVpuOBlB13zMm9pid-J0\n",
      "To: /content/pdf/Guia de Primeros Auxilios Psicológicos_Integra.pdf\n",
      "100% 941k/941k [00:00<00:00, 9.93MB/s]\n",
      "Downloading...\n",
      "From: https://drive.google.com/uc?id=1hRSuv2xQ5BurzmlZylc3zB7YzgtWaAil\n",
      "To: /content/pdf/Guiasautoayudadepresionansiedad.pdf\n",
      "100% 21.5M/21.5M [00:00<00:00, 87.5MB/s]\n",
      "Downloading...\n",
      "From: https://drive.google.com/uc?id=1yGMaILcMOQmZYkLu0vys0deRj5dqt7UP\n",
      "To: /content/pdf/primeras-paginas-primeras-paginas-lo-mejor-de-tu-vida-es.pdf\n",
      "100% 161k/161k [00:00<00:00, 3.58MB/s]\n",
      "Download completed\n"
     ]
    }
   ],
   "source": [
    "# Crear la carpeta \"pdf\" si es que no existe\n",
    "folder_path = \"/content/pdf\"\n",
    "if not os.path.exists(folder_path):\n",
    "    os.makedirs(folder_path)\n",
    "    print(f\"✅ Carpeta creada: {folder_path}\")\n",
    "else:\n",
    "    print(f\"📁 La carpeta ya existe: {folder_path}\")\n",
    "\n",
    "# Revisar si la carpeta está vacía y descargar los archivos de la misma. Si no, saltar descarga.\n",
    "if not os.listdir(folder_path):\n",
    "    print(\"📥 La carpeta está vacía. Iniciando descarga de contenidos...\")\n",
    "    folder_url = \"https://drive.google.com/drive/folders/1WxKzp5YHdhS4hf47zFUScL9FHpRSaexE?usp=sharing\"\n",
    "    !gdown --folder {folder_url} -O {folder_path}\n",
    "else:\n",
    "    print(\"✅ La carpeta ya tiene contenidos. Se omite la descarga.\")"
   ]
  },
  {
   "cell_type": "markdown",
   "metadata": {
    "id": "z9J9Y_yWYlE3"
   },
   "source": [
    "## 📄 Extracción y Visualización de Contenido de Archivos PDF\n",
    "\n",
    "Este bloque realiza la lectura, procesamiento y previsualización del contenido de archivos PDF utilizando PyMuPDF (`fitz`):\n",
    "\n",
    "* **📥 `extract_text_from_pdf(file_path)`**  \n",
    "  Función que **abre un archivo PDF y concatena el texto de todas sus páginas** en un solo string, utilizando `fitz` para extraer el texto página por página.\n",
    "\n",
    "* **📂 Procesamiento de archivos PDF**  \n",
    "  Recorre todos los archivos dentro de la carpeta `/content/pdf`, aplica la función anterior y guarda los resultados en un diccionario `pdf_texts` con la estructura `{nombre_archivo: texto_extraído}`.\n",
    "\n",
    "* **👀 Previsualización de contenido**  \n",
    "  Por cada archivo procesado, **muestra los primeros 100 caracteres del contenido extraído**, lo cual permite verificar rápidamente si la extracción fue exitosa y si el contenido es legible."
   ]
  },
  {
   "cell_type": "code",
   "execution_count": 4,
   "metadata": {
    "colab": {
     "base_uri": "https://localhost:8080/"
    },
    "id": "sX3Ea3jlghLf",
    "outputId": "6dd0a5cb-7782-4e77-f739-e83b51505a47"
   },
   "outputs": [
    {
     "name": "stdout",
     "output_type": "stream",
     "text": [
      ">>> Desplegando previzualización del contenido del archivo 📚[Abre-tu-mente-modo-positivo-salud-mental.pdf]:\n",
      "\n",
      "1\n",
      "GUÍA PARA\n",
      "DOCENTES Y FAMILIAS\n",
      "PROMOCIÓN DE SALUD\n",
      "MENTAL EN JÓVENES\n",
      "PROMOCIÓN DE SALUD MENTAL EN JÓ\n",
      "================================================================================\n",
      ">>> Desplegando previzualización del contenido del archivo 📚[Guiasautoayudadepresionansiedad.pdf]:\n",
      "\n",
      "PARA LA DEPRESIÓN Y LOS TRASTORNOS DE ANSIEDAD\n",
      "PARA LA DEPRESIÓN Y LOS TRASTORNOS DE ANSIEDAD\n",
      "Servic\n",
      "================================================================================\n",
      ">>> Desplegando previzualización del contenido del archivo 📚[empatia.pdf]:\n",
      "\n",
      "EMPATÍA\n",
      "EL ARTE DE COMPRENDER EMOCIONES\n",
      "EMPATÍA\n",
      "EL ARTE DE COMPRENDER EMOCIONES\n",
      "3\n",
      " Mahatma G a n d h\n",
      "================================================================================\n",
      ">>> Desplegando previzualización del contenido del archivo 📚[depresion.pdf]:\n",
      "\n",
      "Depresión \n",
      " \n",
      "¿Qué es la depresión?\n",
      "Todas las personas se sienten tristes o decaídas de vez en cuando\n",
      "================================================================================\n",
      ">>> Desplegando previzualización del contenido del archivo 📚[9789243548203_spa.pdf]:\n",
      "\n",
      "Primera ayuda psicológica:  Guía para trabajadores de \n",
      "campo\n",
      "Catalogación por la Biblioteca de la OM\n",
      "================================================================================\n",
      ">>> Desplegando previzualización del contenido del archivo 📚[empatia_comunicacion.pdf]:\n",
      "\n",
      "1\n",
      "Empatía en la comunicación \n",
      "La empatía en la comunicación es fundamental para lograr una conexión \n",
      "================================================================================\n",
      ">>> Desplegando previzualización del contenido del archivo 📚[Guia de Primeros Auxilios Psicológicos_Integra.pdf]:\n",
      "\n",
      "Guía de Primeros Auxilios \n",
      "Psicológicos (PAP) a personas en \n",
      "situación de movilidad humana\n",
      "Guía de P\n",
      "================================================================================\n",
      ">>> Desplegando previzualización del contenido del archivo 📚[primeras-paginas-primeras-paginas-lo-mejor-de-tu-vida-es.pdf]:\n",
      "\n",
      "Lo mejor de tu vida eres tú\n",
      "Confía en la fuerza de tus emociones\n",
      "M.ª Jesús Álava Reyes\n",
      "Índice\n",
      "Agrade\n",
      "================================================================================\n",
      ">>> Desplegando previzualización del contenido del archivo 📚[AtencionPrimAmb1988_spa.pdf]:\n",
      "\n",
      "Organización Panamericana de la Salud \n",
      "#k' Organización Mundial de la Salud \n",
      "División de Salud y Amb\n",
      "================================================================================\n"
     ]
    }
   ],
   "source": [
    "# Función para extraer y concatenar el texto de todas las páginas de un archivo PDF usando PyMuPDF (fitz)\n",
    "def extract_text_from_pdf(file_path):\n",
    "    doc = fitz.open(file_path)\n",
    "    text = \"\"\n",
    "    for page in doc:\n",
    "        text += page.get_text()\n",
    "    return text\n",
    "\n",
    "# Procesar todos los archivos PDF subidos\n",
    "pdf_texts = {}\n",
    "for filename in os.listdir(folder_path):\n",
    "      file_path = os.path.join(folder_path, filename)\n",
    "      text = extract_text_from_pdf(file_path)\n",
    "      pdf_texts[filename] = text\n",
    "\n",
    "# Mostrar los primeros 1000 caracteres de un archivo\n",
    "for name, content in pdf_texts.items():\n",
    "    print(f\">>> Desplegando previzualización del contenido del archivo 📚[{name}]:\\n\")\n",
    "    print(content[:100])\n",
    "    print(\"=\" * 80)"
   ]
  },
  {
   "cell_type": "markdown",
   "metadata": {
    "id": "sVO3U5JxBpDi"
   },
   "source": [
    "## 🧠 Carga de Modelo de Embeddings Multilingüe\n",
    "\n",
    "📦 A continuación se carga un modelo preentrenado de la librería `sentence-transformers`, específicamente el modelo **`paraphrase-multilingual-MiniLM-L12-v2`**, el cual genera embeddings (representaciones vectoriales) de frases o textos.\n",
    "\n",
    "### ✅ Razones para usar este modelo:\n",
    "* 🌍 **Multilingüe:** Soporta más de 50 idiomas, ideal para trabajar con datos en distintos idiomas sin necesidad de traducir.\n",
    "* ⚡ **Ligero y rápido:** Basado en la arquitectura MiniLM, lo que permite un buen equilibrio entre rendimiento y velocidad, incluso sin GPU.\n",
    "* 🔍 **Precisión en similitud semántica:** Entrenado para tareas como detección de paráfrasis y búsqueda semántica, lo que lo hace muy útil para clustering, recuperación de texto y comparación de oraciones."
   ]
  },
  {
   "cell_type": "code",
   "execution_count": 5,
   "metadata": {
    "colab": {
     "base_uri": "https://localhost:8080/",
     "height": 461,
     "referenced_widgets": [
      "a4ad780d80884f21865d54af5036f491",
      "5817a0b5ad7f4b4d822898b4d293d6fc",
      "69da51bf6fe74fbba3a2b8da5aa10963",
      "4de334ae91804829928d27aa4063232e",
      "b81d77e0a13641fbb2f49755c9709231",
      "2f7b43e5bcea432a91fb8e5b944218eb",
      "f583f438e51f44bd95a7bf80a00a208b",
      "2a8a0e6d461844fba627c99dde62355b",
      "978e14f621794012951a210bf8038ad8",
      "f4e33e5a8377424fb85b439294e56129",
      "aadacb67cd2c48269835f06eccd1e495",
      "6c58d681b32747ae8479c5e71c8e9e5b",
      "7998b5874cbc434692a89caa58935c28",
      "a5e8c6d5f5b14689a87e4a11a3baa6e6",
      "f1b08b69ead54c83a0edbafe78247e89",
      "a47fda8fb4f7439698a267274c9669f9",
      "7318bd9672254913bc010019cacee7e9",
      "e5519cbdead14db9888a1b8dc475ab6d",
      "d03586b436b84d029aaad79faafcf1cc",
      "262f5841d7154218a1d20184e64fa56a",
      "180e746c035844759af07370aa8f6ccb",
      "44d490a1496245e7be537f19a7060a50",
      "90951d56a72f466a999e69aa80e22483",
      "51591a1f5c82436187317137133b1cc3",
      "4fcf42d24d37425d9c061bf9940d80a8",
      "3566ecacebb742048cc07121ba0dd11c",
      "1fa6e549356d4f1d9d6f8fd44cdd089f",
      "5febce52dc394955936a6bda2a739a7f",
      "6968af8e2e5641bdbb89d00e0dc6dcfc",
      "8e72a4346840417795e2578f0c4038f0",
      "60dab94fe4b64f0b8c27253044b49dd5",
      "5c0744ad52014c81a044eb32c5189d6a",
      "9e56dea315954db4b5048f035541611f",
      "d635d12cc081423399b0d217da327b4e",
      "e8e32dfb27ae47d992c86caa6b9b17fa",
      "587ae625a2e944bda1674cc1dc125724",
      "283805eda4104249acf989401da821ac",
      "91f6fbab1b5c464bbbb4586e10905178",
      "696497e229524200a527efe596d6bf4c",
      "68d78c5d2c7c4b679d28642129a5baa9",
      "b1add9abc29346199002b79680e0c5a1",
      "f19133e270c64e4eb71fe105a07a5a50",
      "9f2fb752a7b14f2488aa4a15085479ca",
      "be0b73cbd8774f4aa9c7d958cb7233a6",
      "dbc01ef789bb4730a8486a36e34d8df2",
      "386db1fcd54840b099fed9c2e3dd5b56",
      "f111492cb2164e72be380247d533deff",
      "3198363122d24254ab16b0c1e2c5eb6d",
      "8157e51118a74ba8bf465ccbd50574d8",
      "2331b78e7abc4aaa929402e537ee5f62",
      "615a02a755de4dc6af7cd930a9157186",
      "c392b1a462e34271970e2c2296e5a065",
      "c949671fda0740ae9099e922f60c29f0",
      "a35f829ce4fd46878f36812c32ee3d87",
      "0524a3c2b3e84aa6835dd0e4271bacdb",
      "cfdb7ac67aa04bb19df80bcc7eb30b40",
      "7b595f38bdc844f29258ef961a37e8b3",
      "88d2c5578818472b8dc2a73ce1e70eb3",
      "680ac445d242484ab969643af9181ecd",
      "4a27616be8db45818090606d8529b6cd",
      "7819dda6de564dc3b97a0abf9724ec5d",
      "eddcbd557c4d478e812486a93fab04fe",
      "c087600593844cd1bda2ba95d00e3453",
      "08d52bd533344178b184d2c813dfd4ce",
      "9ad9f819b5254c9f84a5e8ef196a09b4",
      "3f946a16bc3d43af88d04a4433f93d03",
      "e737dba5b54c425cae33de090296e377",
      "981ade79e5794b63b3f87017c4065f28",
      "70346c24be0d41cd994ee689fbc1cd92",
      "aa52469b288045c78e0cc0790e0c63de",
      "3d491405368d44a0ac6395eb57c591b4",
      "05d87c6fba28495d9f7117eb5eef6877",
      "9af75a53ed10485daaa80a7642032989",
      "d28df919fae3417a88dc42c3d73d51d9",
      "d1c7ad43d6ad4042a8f867f22884b976",
      "1c20b932d7064e8b8262ad0091eb1b9c",
      "5eb0039c069745de857de1d8dc7f5fa1",
      "7018b260ea9441278471c487369b3240",
      "c2079e4671a04adc81f293b9961ae665",
      "ad7d6d8aeb5e4030b3904a55f21444ce",
      "09f66952d23e4b43a5eb39221d3d9aa1",
      "737b646ae1aa4a59b2a3be246e236efa",
      "6b98f4f7edc74b4babd3d3aeeabfda49",
      "5168275d972d42eba0e2742145c9c555",
      "3b3d2b00afb14aff9f5181c8ef1e3cdc",
      "da6016807db449799651b010e727ddde",
      "ba671abf036d4bcd829f1ad3f124d82c",
      "2b1e330a91ca4303a57be88ac831e53b",
      "06e78bf3d9354ccebc628e1417dc7489",
      "abc23f8e38344d729c7a40f1217659bb",
      "0c84ca236826424ab49f13d38750448b",
      "71ba7a7e64e14b7d9ba1ccfa422e5ffb",
      "a96a9cf608254e05844847993a00c71a",
      "c816c28e20154fe4a13a37dcaf53140a",
      "1a2505655a614fdfafc61ac063c387f5",
      "1997268a436f4275bd9286c515eca606",
      "2b1bc823bb5e406680efa20ec4e592a2",
      "04a7990acde1424ba6656d73740f4b1a",
      "e01ef1137d054c7e94bd12df8e41dfda",
      "1ca7ea7f38a84319ae3ab2193c6f1548",
      "d6a832853bb94dbab48ec53f2f587fa2",
      "87b0f1bfaf3e48408db58eaf213d0cd7",
      "2a958bdf2c224b21b6eb109804a4e1c3",
      "36cd79b70bc54123a604d1629091e7c5",
      "d0344babcb1741138436b0fa80017d66",
      "f310677335e94795a2b0577bd08fcc07",
      "2d94e248dbdb4868b087ec780af6ad30",
      "3a5b661f200d4f4dbd3aa0bae3998c3d",
      "ad6dee7eb6574afea5bcad5dee7b7693",
      "03985ce21a1947a69ec6ba13bb754433"
     ]
    },
    "id": "Bfs5Zxc9j7Uf",
    "outputId": "3bd36a93-47f1-4fe1-db7c-9c9138e70e75"
   },
   "outputs": [
    {
     "name": "stderr",
     "output_type": "stream",
     "text": [
      "/usr/local/lib/python3.11/dist-packages/huggingface_hub/utils/_auth.py:94: UserWarning: \n",
      "The secret `HF_TOKEN` does not exist in your Colab secrets.\n",
      "To authenticate with the Hugging Face Hub, create a token in your settings tab (https://huggingface.co/settings/tokens), set it as secret in your Google Colab and restart your session.\n",
      "You will be able to reuse this secret in all of your notebooks.\n",
      "Please note that authentication is recommended but still optional to access public models or datasets.\n",
      "  warnings.warn(\n"
     ]
    },
    {
     "data": {
      "application/vnd.jupyter.widget-view+json": {
       "model_id": "a4ad780d80884f21865d54af5036f491",
       "version_major": 2,
       "version_minor": 0
      },
      "text/plain": [
       "modules.json:   0%|          | 0.00/229 [00:00<?, ?B/s]"
      ]
     },
     "metadata": {},
     "output_type": "display_data"
    },
    {
     "data": {
      "application/vnd.jupyter.widget-view+json": {
       "model_id": "6c58d681b32747ae8479c5e71c8e9e5b",
       "version_major": 2,
       "version_minor": 0
      },
      "text/plain": [
       "config_sentence_transformers.json:   0%|          | 0.00/122 [00:00<?, ?B/s]"
      ]
     },
     "metadata": {},
     "output_type": "display_data"
    },
    {
     "data": {
      "application/vnd.jupyter.widget-view+json": {
       "model_id": "90951d56a72f466a999e69aa80e22483",
       "version_major": 2,
       "version_minor": 0
      },
      "text/plain": [
       "README.md:   0%|          | 0.00/3.89k [00:00<?, ?B/s]"
      ]
     },
     "metadata": {},
     "output_type": "display_data"
    },
    {
     "data": {
      "application/vnd.jupyter.widget-view+json": {
       "model_id": "d635d12cc081423399b0d217da327b4e",
       "version_major": 2,
       "version_minor": 0
      },
      "text/plain": [
       "sentence_bert_config.json:   0%|          | 0.00/53.0 [00:00<?, ?B/s]"
      ]
     },
     "metadata": {},
     "output_type": "display_data"
    },
    {
     "data": {
      "application/vnd.jupyter.widget-view+json": {
       "model_id": "dbc01ef789bb4730a8486a36e34d8df2",
       "version_major": 2,
       "version_minor": 0
      },
      "text/plain": [
       "config.json:   0%|          | 0.00/645 [00:00<?, ?B/s]"
      ]
     },
     "metadata": {},
     "output_type": "display_data"
    },
    {
     "data": {
      "application/vnd.jupyter.widget-view+json": {
       "model_id": "cfdb7ac67aa04bb19df80bcc7eb30b40",
       "version_major": 2,
       "version_minor": 0
      },
      "text/plain": [
       "model.safetensors:   0%|          | 0.00/471M [00:00<?, ?B/s]"
      ]
     },
     "metadata": {},
     "output_type": "display_data"
    },
    {
     "data": {
      "application/vnd.jupyter.widget-view+json": {
       "model_id": "e737dba5b54c425cae33de090296e377",
       "version_major": 2,
       "version_minor": 0
      },
      "text/plain": [
       "tokenizer_config.json:   0%|          | 0.00/480 [00:00<?, ?B/s]"
      ]
     },
     "metadata": {},
     "output_type": "display_data"
    },
    {
     "data": {
      "application/vnd.jupyter.widget-view+json": {
       "model_id": "7018b260ea9441278471c487369b3240",
       "version_major": 2,
       "version_minor": 0
      },
      "text/plain": [
       "tokenizer.json:   0%|          | 0.00/9.08M [00:00<?, ?B/s]"
      ]
     },
     "metadata": {},
     "output_type": "display_data"
    },
    {
     "data": {
      "application/vnd.jupyter.widget-view+json": {
       "model_id": "06e78bf3d9354ccebc628e1417dc7489",
       "version_major": 2,
       "version_minor": 0
      },
      "text/plain": [
       "special_tokens_map.json:   0%|          | 0.00/239 [00:00<?, ?B/s]"
      ]
     },
     "metadata": {},
     "output_type": "display_data"
    },
    {
     "data": {
      "application/vnd.jupyter.widget-view+json": {
       "model_id": "1ca7ea7f38a84319ae3ab2193c6f1548",
       "version_major": 2,
       "version_minor": 0
      },
      "text/plain": [
       "config.json:   0%|          | 0.00/190 [00:00<?, ?B/s]"
      ]
     },
     "metadata": {},
     "output_type": "display_data"
    }
   ],
   "source": [
    "# Cargando modelo preentrenado\n",
    "model_sentence = SentenceTransformer(\"sentence-transformers/paraphrase-multilingual-MiniLM-L12-v2\")"
   ]
  },
  {
   "cell_type": "markdown",
   "metadata": {
    "id": "WqHZsyC_ZmNK"
   },
   "source": [
    "## ✂️ División Semántica de Texto por Oraciones\n",
    "\n",
    "Esta función divide un texto en fragmentos **respetando los límites de tokens y las fronteras semánticas de las oraciones**, usando `sent_tokenize()` de NLTK.\n",
    "\n",
    "### ⚙️ ¿Cómo funciona?\n",
    "* 🧠 Divide el texto en oraciones individuales.\n",
    "* 📦 Agrupa las oraciones en bloques cuya **longitud no supere `max_tokens` (por defecto 25 palabras)**.\n",
    "* 🔁 Aplica **solapamiento configurable (`overlap`)** entre bloques, preservando coherencia contextual entre fragmentos.\n",
    "* ✅ Devuelve una lista de bloques listos para análisis semántico, embeddings o respuestas de chatbot."
   ]
  },
  {
   "cell_type": "code",
   "execution_count": 6,
   "metadata": {
    "id": "QRStndlYL_hD"
   },
   "outputs": [],
   "source": [
    "# CHUNKING SEMANTICO CON NLTK\n",
    "# Función para dividir el texto en fragmentos (oraciones)\n",
    "def split_text_semantic(text, max_tokens=25, overlap=1):\n",
    "    sentences = sent_tokenize(text)\n",
    "    chunks = []\n",
    "    current_chunk = []\n",
    "    current_len = 0\n",
    "    for sentence in sentences:\n",
    "        token_count = len(sentence.split())\n",
    "        if current_len + token_count > max_tokens:\n",
    "            chunks.append(\" \".join(current_chunk))\n",
    "            current_chunk = current_chunk[-overlap:] if overlap > 0 else []\n",
    "            current_len = sum(len(s.split()) for s in current_chunk)\n",
    "        current_chunk.append(sentence)\n",
    "        current_len += token_count\n",
    "\n",
    "    if current_chunk:\n",
    "        chunks.append(\" \".join(current_chunk))\n",
    "\n",
    "    return chunks\n",
    "\n",
    "# Función para dividir el texto en fragmentos (chunks) - NOT USED\n",
    "def split_text(text, chunk_size=500, overlap=50): ##chunk_size=5000, overlap=50)\n",
    "    chunks = []\n",
    "    for i in range(0, len(text), chunk_size - overlap):\n",
    "        chunks.append(text[i:i + chunk_size])\n",
    "    return chunks"
   ]
  },
  {
   "cell_type": "markdown",
   "metadata": {
    "id": "BsckZ09AxzBA"
   },
   "source": [
    "## 🧠 Fragmentación, Vectorización y Creación del Índice Semántico\n",
    "\n",
    "* **Fragmenta textos PDF, genera sus embeddings y construye un índice FAISS para habilitar búsquedas semánticas en un chatbot.**\n",
    "\n",
    "### ⚙️ ¿Cómo funciona?\n",
    "\n",
    "* 🧩 **Fragmentación semántica de documentos**  \n",
    "  Recorre los textos extraídos de los PDFs y los divide en fragmentos utilizando `split_text_semantic`, que respeta los límites de oración y evita cortes arbitrarios. Luego, cada fragmento se guarda junto con su metadato correspondiente (nombre del archivo y contenido del fragmento).\n",
    "\n",
    "* 🧬 **Generación y normalización de embeddings**  \n",
    "  Los fragmentos generados se convierten en vectores semánticos (embeddings) mediante un modelo de `sentence-transformers`. A continuación, se normalizan para que todos tengan norma unitaria, lo cual es necesario para aplicar similitud coseno correctamente.\n",
    "\n",
    "* 🧭 **Construcción del índice FAISS**  \n",
    "  Se crea un índice FAISS utilizando `IndexFlatIP`, diseñado para trabajar con similitud coseno entre vectores normalizados. Luego se agregan todos los embeddings al índice para habilitar búsquedas rápidas y precisas.\n",
    "\n",
    "Este flujo pemrite que el chatbot pueda realizar búsquedas semánticas inteligentes y responder preguntas con base en el contenido de múltiples documentos PDF.\n"
   ]
  },
  {
   "cell_type": "code",
   "execution_count": 7,
   "metadata": {
    "colab": {
     "base_uri": "https://localhost:8080/",
     "height": 49,
     "referenced_widgets": [
      "002d3c9f814b4da1a2016b20f6ace2a6",
      "f76a4af7f7c94f4086ac58f31d423b44",
      "d8519b5f9aa9465187901ec50a843204",
      "3fb4c190840f4284a952931ac8a7990f",
      "dd0e2879503b42ccada2a5fcc8749a91",
      "9d969e947bee49e6bf4ce17127c57263",
      "885c171e33c54f13a045f3ccf3de03c5",
      "69a0a21f4ef84732b7d4367f47e80c65",
      "f767b961b2584f66ae45e2a485ecc5e6",
      "e3b1bbb9c7a449efa7e6de6482c59f60",
      "0b4dce4e2f924f5a9a378c42b116d380"
     ]
    },
    "id": "CikjqV0MiO0L",
    "outputId": "d86e5e00-bea3-4a10-cb2c-19c8db933a9d"
   },
   "outputs": [
    {
     "data": {
      "application/vnd.jupyter.widget-view+json": {
       "model_id": "002d3c9f814b4da1a2016b20f6ace2a6",
       "version_major": 2,
       "version_minor": 0
      },
      "text/plain": [
       "Batches:   0%|          | 0/208 [00:00<?, ?it/s]"
      ]
     },
     "metadata": {},
     "output_type": "display_data"
    }
   ],
   "source": [
    "# Recorrer todos los archivos PDF, divide su contenido en fragmentos,\n",
    "# y guarda tanto los textos como los metadatos (nombre del archivo y texto del fragmento)\n",
    "all_chunks = []\n",
    "metadata = []\n",
    "for filename, text in pdf_texts.items():\n",
    "    #chunks = split_text(text)\n",
    "    chunks = split_text_semantic(text)\n",
    "    all_chunks.extend(chunks)\n",
    "    metadata.extend([{\"source\": filename, \"text\": chunk} for chunk in chunks])\n",
    "\n",
    "# Crear embeddings\n",
    "embeddings = model_sentence.encode(all_chunks, show_progress_bar=True)\n",
    "embeddings = normalize(embeddings, axis=1)  # normalizar para usar cosine similarity (IndexFlatIP)\n",
    "\n",
    "# Crear índice FAISS\n",
    "dimension = embeddings.shape[1]\n",
    "#index = faiss.IndexFlatL2(dimension)\n",
    "index = faiss.IndexFlatIP(dimension) # Se usa IndexFlatIP oara cosine similatiry\n",
    "index.add(np.array(embeddings))"
   ]
  },
  {
   "cell_type": "markdown",
   "metadata": {
    "id": "GLr68Bo-yI9T"
   },
   "source": [
    "## 💾 Guardado del Índice y Metadatos\n",
    "\n",
    "* **Guarda el índice FAISS y los metadatos para reutilizarlos sin reprocesar los documentos.**\n",
    "\n",
    "### ⚙️ ¿Cómo funciona?\n",
    "\n",
    "* 🧭 **Guardar el índice FAISS**  \n",
    "  Se almacena el índice generado en un archivo `.faiss`, lo que permite reutilizarlo en futuras sesiones sin tener que volver a generar todos los embeddings y reconstruir el índice desde cero.\n",
    "\n",
    "* 🗂️ **Guardar los metadatos**  \n",
    "  Los metadatos (información del fragmento y su documento de origen) se guardan en un archivo `.pkl` usando `pickle`. Esto es esencial para que, al recuperar un fragmento desde el índice, el chatbot pueda identificar de qué archivo proviene y mostrarlo correctamente."
   ]
  },
  {
   "cell_type": "code",
   "execution_count": 8,
   "metadata": {
    "id": "t4fkfNKljEhv"
   },
   "outputs": [],
   "source": [
    "# Guardar FAISS index\n",
    "faiss.write_index(index, \"chatbot_index.faiss\")\n",
    "\n",
    "# Guardar los metadatos\n",
    "with open(\"chatbot_metadata.pkl\", \"wb\") as f:\n",
    "    pickle.dump(metadata, f)"
   ]
  },
  {
   "cell_type": "markdown",
   "metadata": {
    "id": "KF87r29u5glB"
   },
   "source": [
    "# **Sistema RAG + LLM**"
   ]
  },
  {
   "cell_type": "markdown",
   "metadata": {
    "id": "4eLAz39byWFB"
   },
   "source": [
    "Un sistema **RAG** (Retrieval-Augmented Generation) es una arquitectura de inteligencia artificial que combina recuperación de información con generación de texto, con el objetivo de mejorar la precisión, relevancia y actualidad de las respuestas generadas por modelos de lenguaje."
   ]
  },
  {
   "cell_type": "markdown",
   "metadata": {
    "id": "yqrMSMxG42ZJ"
   },
   "source": [
    "## 🧠 Modelos LLM y de Embeddings\n",
    "\n",
    "* **Carga un modelo de lenguaje para generación de respuestas y un modelo de embeddings para comprensión semántica.**\n",
    "\n",
    "### ⚙️ ¿Cómo funciona?\n",
    "\n",
    "* 💬 **Modelo generador de respuestas (LLM)**  \n",
    "  Se carga el modelo `google/flan-t5-base`, un modelo de tipo encoder-decoder optimizado para tareas text-to-text.  \n",
    "  A través de `AutoTokenizer` y `AutoModelForSeq2SeqLM` de `transformers`, se inicializa el modelo junto con su tokenizador, y se configura un `pipeline` de generación de texto (`text2text-generation`).  \n",
    "  Este modelo permite al chatbot **redactar respuestas completas en lenguaje natural** a partir de consultas y contextos.\n",
    "\n",
    "* 🧩 **Modelo de embeddings semánticos**  \n",
    "  Se carga el modelo `paraphrase-multilingual-MiniLM-L12-v2` de `sentence-transformers`, el cual convierte oraciones o fragmentos de texto en vectores numéricos.  \n",
    "  Estos vectores permiten comparar significados y buscar respuestas relevantes dentro del índice FAISS.\n"
   ]
  },
  {
   "cell_type": "code",
   "execution_count": 9,
   "metadata": {
    "colab": {
     "base_uri": "https://localhost:8080/",
     "height": 258,
     "referenced_widgets": [
      "72f8342793274074995652f0813d8019",
      "56de842232ca46f38d1772540d319dcc",
      "3239d840b591407fb87cb3aeee19cc9f",
      "c2ba17a8591a48b8b547a40769373545",
      "c3446762560d4f9194c624cab8981807",
      "3bbf5a67bd0c4b9bbb6b78156b5a4bfb",
      "1e7daac520ee4ea89ba79675fef1a742",
      "bc7a037d2d2a422a82a2c144b89b52fe",
      "8d366ee2554e490aa8585959704f09dc",
      "15b4663569dc4970962e49fdf681617e",
      "c5ff17e936de4d8aa21ad39e8fe52d11",
      "df812e397b55451195e99f76da3d55a0",
      "de4458bea41c4ea9b2793fe83cc42da4",
      "573b330625744696a70ccfea322ee128",
      "58692e7f4d8d4e569d44b95f7d91fd2a",
      "a54fa2010f544b19a36b706165b4e8d6",
      "f19147cb11704d91a3032d006dd2bb14",
      "1413f188d1f645c3b2c0b16ea56be939",
      "e0d328bbfa4d49a88828a2361f8ad818",
      "0aec675a349441b9a76bc777dc24adad",
      "fe08349ddd69470fa2a3c6ebbe04b29f",
      "ff14d6ccf8894fa79e81879c6b0059cf",
      "7aa4002f4afd4eaa9f212c77482c3356",
      "7ef3331b3002403a8db744ce4f35390c",
      "d9a9ffacf7bf4f489c528315e5c9d778",
      "b51b7c3c62ff4371899f9c96167a4c18",
      "07ad363ae2d348ef99fbea43a49e91f2",
      "2a512871f49d49ffbffcfcf81e660369",
      "7b2e4467356148f1b38cda8b630d2212",
      "9c97478bcaf9407fb171e8e15dcaccd5",
      "e631fcb427d44f14a43c05f911ba10a5",
      "bc9ad01f255b4689a429f185e57367d1",
      "e274fabb5b68464da125a9e49154f5b5",
      "09a207ec3f9f41d99a454a300a365c42",
      "f9b0c1e6d9e74d55b89baf562d9a94c4",
      "c0757ef3253c4f849919fa64f184a829",
      "302451321d784d60a0354150688ed8bc",
      "24bb4e2674354ecf8a5f32918e6706df",
      "58c1526752be4804a95230719811e080",
      "3c24244c4ecc4ce39df57da7c814c223",
      "c0728050490f4f3c97410e9e3d7c9a1c",
      "b825164b29d1464d91d98951a7b8a0a0",
      "31f21e9df5154bdc828fb170cc942e15",
      "2c84c168992e4a4bbc30624e65835cab",
      "195343f87e134aa5a396c547157f1036",
      "419adeb6f7d54d1bb3943bdbfd1185fb",
      "0aa1c89f3f5e48a3b15550343d7fe51a",
      "c0f03d8d4b404238af1a9931b4f3673f",
      "fbe31529fe954bdfaddf99d6297061c1",
      "31c1c49b801946b380f2e37ffb84c44e",
      "d1e060891dc94f4b8f16159b2fb540bf",
      "7b042327ecd14e24b33a3fc964cb71b7",
      "ee3cd309e8be4300b55d9cfd4b4522d2",
      "c0d9c8ae892f4fa681134afa8a21d8b5",
      "077a0f43aa3e482ca3ab49405b9f8447",
      "d5a68037d2a241c9ba1030ddfcb6cda1",
      "a18e26f4ac3741ee9e9323264608151b",
      "b8a70670af6a4727af23f8c70b508f84",
      "8f5f861c1c73404383118dc830589ed4",
      "a17ad26be5c645c2be1e08b9c2689b06",
      "5dfe34bca31c451f85d285c34bea1fd0",
      "0313f775c5554d93b499a9d1cfbaa470",
      "5332319a67c4433689697531daf3c9c1",
      "b4c731844afe4502ae192cb8b8a1e899",
      "291fdcfd20304675a9220a303d3ccbb1",
      "80810645cc3742d08589fa76ec16ccaf",
      "c555f7d6a0b74117903c19bf0e9fe5a9",
      "8deaf267b12d47d7a86e63ba270d4386",
      "620fe85e3f264cc39f929391ed5b932f",
      "7c98003faa954b1db93d7d40df3d8a7a",
      "21c6e23f85e142b5b5c73f01023bdf97",
      "e18cd6a61f4b44738ba8d883a59404d9",
      "cb69a4029dcf43ef821f8fc4e85b5b66",
      "09fd9f2e17ef4ff88a934dd9a448193f",
      "faf36512e4b54673beca52a826c98f40",
      "ebe14b850cb94af696c78a9466d91295",
      "cac160f4131943f88b339af87ff4dadd"
     ]
    },
    "id": "SsTf0kyInanM",
    "outputId": "2680326e-a486-414c-b2fa-aee048f5c7f7"
   },
   "outputs": [
    {
     "data": {
      "application/vnd.jupyter.widget-view+json": {
       "model_id": "72f8342793274074995652f0813d8019",
       "version_major": 2,
       "version_minor": 0
      },
      "text/plain": [
       "tokenizer_config.json:   0%|          | 0.00/2.54k [00:00<?, ?B/s]"
      ]
     },
     "metadata": {},
     "output_type": "display_data"
    },
    {
     "data": {
      "application/vnd.jupyter.widget-view+json": {
       "model_id": "df812e397b55451195e99f76da3d55a0",
       "version_major": 2,
       "version_minor": 0
      },
      "text/plain": [
       "spiece.model:   0%|          | 0.00/792k [00:00<?, ?B/s]"
      ]
     },
     "metadata": {},
     "output_type": "display_data"
    },
    {
     "data": {
      "application/vnd.jupyter.widget-view+json": {
       "model_id": "7aa4002f4afd4eaa9f212c77482c3356",
       "version_major": 2,
       "version_minor": 0
      },
      "text/plain": [
       "tokenizer.json:   0%|          | 0.00/2.42M [00:00<?, ?B/s]"
      ]
     },
     "metadata": {},
     "output_type": "display_data"
    },
    {
     "data": {
      "application/vnd.jupyter.widget-view+json": {
       "model_id": "09a207ec3f9f41d99a454a300a365c42",
       "version_major": 2,
       "version_minor": 0
      },
      "text/plain": [
       "special_tokens_map.json:   0%|          | 0.00/2.20k [00:00<?, ?B/s]"
      ]
     },
     "metadata": {},
     "output_type": "display_data"
    },
    {
     "data": {
      "application/vnd.jupyter.widget-view+json": {
       "model_id": "195343f87e134aa5a396c547157f1036",
       "version_major": 2,
       "version_minor": 0
      },
      "text/plain": [
       "config.json:   0%|          | 0.00/1.40k [00:00<?, ?B/s]"
      ]
     },
     "metadata": {},
     "output_type": "display_data"
    },
    {
     "data": {
      "application/vnd.jupyter.widget-view+json": {
       "model_id": "d5a68037d2a241c9ba1030ddfcb6cda1",
       "version_major": 2,
       "version_minor": 0
      },
      "text/plain": [
       "model.safetensors:   0%|          | 0.00/990M [00:00<?, ?B/s]"
      ]
     },
     "metadata": {},
     "output_type": "display_data"
    },
    {
     "data": {
      "application/vnd.jupyter.widget-view+json": {
       "model_id": "c555f7d6a0b74117903c19bf0e9fe5a9",
       "version_major": 2,
       "version_minor": 0
      },
      "text/plain": [
       "generation_config.json:   0%|          | 0.00/147 [00:00<?, ?B/s]"
      ]
     },
     "metadata": {},
     "output_type": "display_data"
    },
    {
     "name": "stderr",
     "output_type": "stream",
     "text": [
      "Device set to use cuda:0\n"
     ]
    }
   ],
   "source": [
    "# LLM para generar respuestas\n",
    "model_name = \"google/flan-t5-base\"\n",
    "tokenizer = AutoTokenizer.from_pretrained(model_name)\n",
    "model = AutoModelForSeq2SeqLM.from_pretrained(model_name)\n",
    "generator = pipeline(\"text2text-generation\", model=model, tokenizer=tokenizer)\n",
    "\n",
    "# Modelo para embeddings (vectorización)\n",
    "embedder = SentenceTransformer(\"sentence-transformers/paraphrase-multilingual-MiniLM-L12-v2\")"
   ]
  },
  {
   "cell_type": "markdown",
   "metadata": {
    "id": "qEm3RbcU5Je0"
   },
   "source": [
    "## 🧠 Búsqueda Semántica y Generación de Respuestas\n",
    "\n",
    "* **Estas funciones permiten buscar fragmentos relevantes mediante similitud semántica y generar respuestas con un modelo LLM.**\n",
    "\n",
    "### ⚙️ ¿Cómo funciona?\n",
    "\n",
    "* 🔎 **`search_similar_chunks( )`**  \n",
    "  Genera un embedding para la consulta del usuario y lo compara contra el índice FAISS para encontrar los fragmentos más relevantes.  \n",
    "  Si no se encuentra ningún resultado con una similitud suficiente (basada en el `threshold`), retorna `None`.  \n",
    "  Si hay coincidencias, devuelve los textos correspondientes desde los metadatos.\n",
    "\n",
    "* 🧩 **`build_prompt( )`**  \n",
    "  Construye un mensaje (prompt) combinando los fragmentos de contexto recuperados con la pregunta del usuario.  \n",
    "  Este prompt es lo que se le entrega al modelo generador para que forme una respuesta informada y contextualizada.\n",
    "\n",
    "* 💬 **`generate_answer( )`**  \n",
    "  Orquesta el flujo completo: busca los fragmentos más parecidos a la consulta, genera el prompt y produce una respuesta con el modelo `flan-t5-base`.  \n",
    "  Si no se encuentran fragmentos relevantes, devuelve un mensaje de disculpa.\n",
    "\n",
    "* 💾 **Carga del índice y metadatos**  \n",
    "  Se cargan el índice FAISS (`chatbot_index.faiss`) y los metadatos (`chatbot_metadata.pkl`) previamente guardados, para que el sistema esté listo para responder sin tener que reentrenar o reprocesar documentos."
   ]
  },
  {
   "cell_type": "code",
   "execution_count": 10,
   "metadata": {
    "id": "WlVqMthHneso"
   },
   "outputs": [],
   "source": [
    "def build_prompt(query, context_chunks):\n",
    "    context = \"\\n\".join(context_chunks)\n",
    "    prompt = (\n",
    "        f\"Based in this context:\\n\"\n",
    "        f\"{context}\\n\\n\"\n",
    "        f\"Answer in spanish the following question:\\n\"\n",
    "        f\"{query}.\\n\\n\"\n",
    "        f\"Remove typos.\\n\\n\"\n",
    "        f\"Fix typos and grammar.\"\n",
    "    )\n",
    "    return prompt\n",
    "\n",
    "def search_similar_chunks(query, top_k=4, threshold=0.4):\n",
    "    query_embedding = embedder.encode([query])\n",
    "    query_embedding = normalize(query_embedding, axis=1) #Normalizar los embeddings\n",
    "    distances, indices = index.search(query_embedding, top_k)\n",
    "    if max(distances[0] < threshold):\n",
    "      return None\n",
    "\n",
    "    results = []\n",
    "    for i in indices[0]:\n",
    "        results.append(metadata[i]['text'])\n",
    "    return results\n",
    "\n",
    "def generate_answer(query, top_k=4):\n",
    "    chunks = search_similar_chunks(query, top_k=top_k)\n",
    "    if chunks is None:\n",
    "      return \"Lo siento, no encontré información suficiente para responder a eso.\"\n",
    "    prompt = build_prompt(query, chunks)\n",
    "\n",
    "    output = generator(prompt, max_new_tokens=160, do_sample=False)\n",
    "    answer = output[0]['generated_text'] + \"[...]\"\n",
    "    return answer\n",
    "\n",
    "# Cargar índice\n",
    "index = faiss.read_index(\"chatbot_index.faiss\")\n",
    "\n",
    "# Cargar metadatos\n",
    "with open(\"chatbot_metadata.pkl\", \"rb\") as f:\n",
    "    metadata = pickle.load(f)"
   ]
  },
  {
   "cell_type": "markdown",
   "metadata": {
    "id": "OOfeqsQb5ttD"
   },
   "source": [
    "# **El chatbot, incluyendo ejemplos de prueba.**"
   ]
  },
  {
   "cell_type": "markdown",
   "metadata": {
    "id": "OiyJ8qcM5ltH"
   },
   "source": [
    "## 🤖 Prueba de Consultas al Chatbot\n",
    "\n",
    "* **Evalúa una lista de preguntas simuladas y muestra las respuestas generadas.**\n",
    "\n",
    "### ⚙️ ¿Cómo funciona?\n",
    "\n",
    "* 🧾 **Lista de preguntas (`queries`)**  \n",
    "  Contiene ejemplos representativos de preguntas que un usuario podría hacerle al chatbot, relacionadas con ansiedad, depresión y emociones humanas.\n",
    "\n",
    "* 🔄 **Bucle de interacción con el chatbot**  \n",
    "  Para cada pregunta:\n",
    "  - Se imprime la consulta.\n",
    "  - Se llama a `generate_answer()` para obtener una respuesta contextual.\n",
    "  - La respuesta se imprime.\n",
    "\n",
    "Este bloque permite probar y validar cómo responde el sistema a distintas consultas, ideal para demostraciones, testing o debugging del chatbot.\n"
   ]
  },
  {
   "cell_type": "code",
   "execution_count": 11,
   "metadata": {
    "colab": {
     "base_uri": "https://localhost:8080/"
    },
    "id": "0t3eNHkfkGvx",
    "outputId": "8795d1f0-85c7-465b-e52d-8ed438e89de0"
   },
   "outputs": [
    {
     "name": "stdout",
     "output_type": "stream",
     "text": [
      "============================================================\n",
      ">> 👨🏻‍💻 Pregunta realizada:\n",
      "Cómo superar la ansiedad?\n",
      "\n",
      "++ 💻 Respuesta del chatbot:\n",
      "A continuación le ofrecemos algunos consejos sobre cómo afrontar la ansiedad: • Controle su preocupación. Escoja un lugar y una hora para preocuparse. • Los sntomas de ansiedad originales pueden volver. Considere otras formas de hacer frente a sus sntomas. Por ejemplo, aprenda a relajarse. Cambiar los comportamientos relacionados con la ansiedad • Trate de reconocer cuando está evitando la[...]\n",
      "============================================================\n",
      ">> 👨🏻‍💻 Pregunta realizada:\n",
      "Qué es ansiedad?\n",
      "\n",
      "++ 💻 Respuesta del chatbot:\n",
      "La palabra ansiedad se utiliza para describir la respuesta mental y fsica que se produce ante situaciones de peligro. Se trata de una reacción normal que experimenta todo el mundo a veces (por ejemplo, antes de una prueba médica, al hablar en pblico, antes de una cita importante, etc.). Para qué se utilizan? Para la ansiedad Los sntomas de la ansiedad incluyen: agitación, tensión, irrit[...]\n",
      "============================================================\n",
      ">> 👨🏻‍💻 Pregunta realizada:\n",
      "Cuando es grave la ansiedad?\n",
      "\n",
      "++ 💻 Respuesta del chatbot:\n",
      "La ansiedad se convierte en un problema cuando los sntomas son: • Graves y desagradables. • Duran mucho tiempo. • Ocurren con demasiada frecuencia. S. Son los siguientes: • Trastorno de ansiedad generalizada. La ansiedad puede ser una sensación general y constante de preocupación. Para la ansiedad Los sntomas de la ansiedad incluyen: agitación, tensión, irritabilidad, palpitaciones, temblores, sudoración[...]\n",
      "============================================================\n",
      ">> 👨🏻‍💻 Pregunta realizada:\n",
      "Cuales son los síntomas de la ansiedad?\n",
      "\n",
      "++ 💻 Respuesta del chatbot:\n",
      "Para la ansiedad Los sntomas de la ansiedad incluyen: agitación, tensión, irritabilidad, palpitaciones, temblores, sudoración, preocuparse en exceso, dormir mal, falta de concentración, respiración rápida, sensación de “pellizco en el estómago” y tensión muscular. Aunque la mayora de la gente se ha sentido ansiosa en algn momento de su vida, a veces los [...]\n",
      "============================================================\n",
      ">> 👨🏻‍💻 Pregunta realizada:\n",
      "Como superar la tristeza?\n",
      "\n"
     ]
    },
    {
     "name": "stderr",
     "output_type": "stream",
     "text": [
      "Token indices sequence length is longer than the specified maximum sequence length for this model (517 > 512). Running this sequence through the model will result in indexing errors\n"
     ]
    },
    {
     "name": "stdout",
     "output_type": "stream",
     "text": [
      "++ 💻 Respuesta del chatbot:\n",
      "En ocasiones, la tristeza va en aumento llegando un momento en que interfiere en la vida normal, disminuyendo la ingesta alimentaria, y provocando que la persona se abandone e incluso que aparezcan ideas de suicidio. Cómo afrontar el duelo? 8 Qué ayuda puedo obtener? En ocasiones, la tristeza va en aumento llegando un momento en que interfiere en la vida normal, disminu[...]\n",
      "============================================================\n",
      ">> 👨🏻‍💻 Pregunta realizada:\n",
      "Qué es una depresión?\n",
      "\n",
      "++ 💻 Respuesta del chatbot:\n",
      "La depresión es una enfermedad, como lo es la diabetes o una lcera de estómago. Para hablar de depresión, y por lo tanto de enfermedad se requiere: • que estos sentimientos se presenten de forma (casi) continua durante un perodo superior a dos semanas; • que causen un malestar importante en una o varias áreas de la vida diaria (dificultad o imposibilidad de levantarse, de ir[...]\n",
      "============================================================\n",
      ">> 👨🏻‍💻 Pregunta realizada:\n",
      "Cuales son las causas de la depresión?\n",
      "\n",
      "++ 💻 Respuesta del chatbot:\n",
      "5 Cuáles son las causas de la depresión? Por lo general, se considera que existen “factores” biológicos, psicológicos y ambientales (aquéllos relacionados con el entorno social o la familia). En que consiste la depresión? 7 • Otros: - A veces una enfermedad fsica (cáncer, diabetes, enfermedades cardiacas, Parkinson, trastornos de la alimentación, trombosis, Alzheimer...) o la toma de [...]\n",
      "============================================================\n",
      ">> 👨🏻‍💻 Pregunta realizada:\n",
      "Quieres ser mi amigo?\n",
      "\n",
      "++ 💻 Respuesta del chatbot:\n",
      "- Puedo pedirle a una amiga que me acompae y aprovechar para conversar. - Me dará fuerza y energa. Para poder mantener relaciones de amistad sanas es fundamental que nos queramos a nosotros/as mismos/as, puesto que, si no nos queremos, permitiramos que nos traten de una manera poco sana. 33 4. Cuida tus relaciones personales. Habla más con tus amistades y familiare[...]\n",
      "============================================================\n",
      ">> 👨🏻‍💻 Pregunta realizada:\n",
      "Que es un iPhone?\n",
      "\n",
      "++ 💻 Respuesta del chatbot:\n",
      "Lo siento, no encontré información suficiente para responder a eso.\n"
     ]
    }
   ],
   "source": [
    "queries = [\n",
    "    \"Cómo superar la ansiedad?\",\n",
    "    \"Qué es ansiedad?\",\n",
    "    \"Cuando es grave la ansiedad?\",\n",
    "    \"Cuales son los síntomas de la ansiedad?\",\n",
    "    \"Como superar la tristeza?\",\n",
    "    \"Qué es una depresión?\",\n",
    "    \"Cuales son las causas de la depresión?\",\n",
    "    \"Quieres ser mi amigo?\",\n",
    "    \"Que es un iPhone?\"\n",
    "           ]\n",
    "\n",
    "for query in queries:\n",
    "  print(f\"=\"*60)\n",
    "  print(f\">> 👨🏻‍💻 Pregunta realizada:\\n{query}\\n\")\n",
    "  respuesta = generate_answer(query)\n",
    "  print(\"++ 💻 Respuesta del chatbot:\")\n",
    "  print(respuesta)"
   ]
  },
  {
   "cell_type": "markdown",
   "metadata": {
    "id": "mBUXG3vr56ev"
   },
   "source": [
    "## 🖼️ Despliegue de Interfaz Interactiva con Gradio\n",
    "\n",
    "* **Por último, se crea una interfaz web simple para interactuar con el chatbot directamente desde el navegador.**\n",
    "\n",
    "### ⚙️ ¿Cómo funciona?\n",
    "\n",
    "* 🔌 **`chat_interface(question)`**  \n",
    "  Define una función que toma una pregunta como entrada, genera una respuesta utilizando `generate_answer()`, y la retorna. Esta será la función que conecta la interfaz con la lógica del chatbot.\n",
    "\n",
    "* 🧪 **`gr.Interface(...)`**  \n",
    "  Utiliza la librería `Gradio` para crear una interfaz gráfica mínima:\n",
    "  - `inputs=\"text\"` permite al usuario ingresar una pregunta en una caja de texto.\n",
    "  - `outputs=\"text\"` muestra la respuesta generada.\n",
    "  - `launch(share=True)` despliega la interfaz y genera un enlace público para compartirla fácilmente.\n",
    "\n",
    "  ### Captura de interfaz con Gradio:\n",
    "  <img src=\"https://drive.google.com/uc?id=1cyyi2xpzoqWzWiK4OQVcgSx9eUTEwXwx\" width=\"1200\">"
   ]
  },
  {
   "cell_type": "markdown",
   "metadata": {
    "id": "6QVsp7TrQsvS"
   },
   "source": [
    "\n"
   ]
  },
  {
   "cell_type": "code",
   "execution_count": 12,
   "metadata": {
    "colab": {
     "base_uri": "https://localhost:8080/",
     "height": 611
    },
    "id": "Lw1bxsYeQrMn",
    "outputId": "573e8ee2-dbe2-4bb5-ca71-d988ddd0fba9"
   },
   "outputs": [
    {
     "name": "stdout",
     "output_type": "stream",
     "text": [
      "Colab notebook detected. To show errors in colab notebook, set debug=True in launch()\n",
      "* Running on public URL: https://5ac8a693ff3b3bdc17.gradio.live\n",
      "\n",
      "This share link expires in 1 week. For free permanent hosting and GPU upgrades, run `gradio deploy` from the terminal in the working directory to deploy to Hugging Face Spaces (https://huggingface.co/spaces)\n"
     ]
    },
    {
     "data": {
      "text/html": [
       "<div><iframe src=\"https://5ac8a693ff3b3bdc17.gradio.live\" width=\"100%\" height=\"500\" allow=\"autoplay; camera; microphone; clipboard-read; clipboard-write;\" frameborder=\"0\" allowfullscreen></iframe></div>"
      ],
      "text/plain": [
       "<IPython.core.display.HTML object>"
      ]
     },
     "metadata": {},
     "output_type": "display_data"
    },
    {
     "data": {
      "text/plain": []
     },
     "execution_count": 12,
     "metadata": {},
     "output_type": "execute_result"
    }
   ],
   "source": [
    "import gradio as gr\n",
    "def chat_interface(question):\n",
    "    answer = generate_answer(question)\n",
    "    return answer\n",
    "gr.Interface(fn=chat_interface, inputs=\"text\", outputs=\"text\").launch(share=True)"
   ]
  },
  {
   "cell_type": "markdown",
   "metadata": {
    "id": "Kx-dZSFJz9cK"
   },
   "source": [
    "\n",
    "# **Conclusiones:**"
   ]
  },
  {
   "cell_type": "markdown",
   "metadata": {
    "id": "3w3usdaC0BCj"
   },
   "source": [
    "* #### **Conclusiones de la actividad chatbot LLM + RAG:**\n",
    "\n",
    "**Aprendizajes generales**\n",
    "- Como equipo, logramos implementar un enfoque de Retrieval-Augmented Generation que permitió combinar la potencia de los modelos generativos con la precisión del sistema de recuperación documental mediante FAISS. Esto demostró ser útil para responder preguntas específicas del dominio de salud mental, generando respuestas contextualizadas y coherentes.\n",
    "\n",
    "- Al utilizar corpus en español y modelos preentrenados compatibles con el idioma, se buscó la adecuación lingüística del chatbot para usuarios hispanohablantes. Este enfoque nos confirma la importancia de adaptar los modelos LLM a las necesidades culturales y lingüísticas de los usuarios.\n",
    "\n",
    "- El prototipo desarrollado tiene potencial para convertirse en una herramienta de apoyo accesible para personas en búsqueda de información confiable y actualizada relacionada con salud mental.\n",
    "\n",
    "- Se comprendió la arquitectura RAG como una solución que combina lo mejor del acceso a información (retrieval) con la generación fluida de lenguaje natural (LLM).\n",
    "\n",
    "- Se identificó que los modelos LLM por sí solos pueden llegar a tener límites si no están conectados a una base de conocimiento actualizada o contextual.\n",
    "\n",
    "- El enfoque RAG permitió ofrecer respuestas más precisas, relevantes y trazables, especialmente útil en temas delicados como salud mental.\n",
    "\n",
    "\n",
    "**Técnicas y Herramientas Implementadas**\n",
    "\n",
    "- Se utilizaron embeddings semánticos para representar texto y permitir búsquedas por similitud en lugar de coincidencia exacta de palabras clave.\n",
    "\n",
    "- Se trabajó con herramientas como FAISS para construir índices de recuperación eficientes.\n",
    "\n",
    "- Se aplicó un umbral de similitud para filtrar respuestas no relacionadas, mejorando la precisión del chatbot.\n",
    "\n",
    "- Se integró el sistema en una interfaz interactiva mediante Gradio, facilitando la interacción con el usuario final.\n",
    "\n",
    "- Se reafirmó la importancia del preprocesamiento del texto, incluyendo limpieza, normalización y tokenización.\n",
    "\n",
    "- Se emplearon modelos preentrenados de HuggingFace Transformers para tareas de generación de texto, en busca de coherencia y naturalidad.\n",
    "\n",
    "- Se comprobó que los LLM pueden ampliar, matizar o contextualizar mejor la información cuando se utilizan junto con RAG.\n",
    "\n",
    "- Se logró generar respuestas basadas en fuentes específicas.\n",
    "\n",
    "- Se apreciaron los beneficos de que es un enfoque modular y escalable, permitiendo incorporar nuevos documentos sin necesidad de reentrenar el modelo.\n",
    "\n",
    "**Retos y Reflexiones**\n",
    "\n",
    "- Se observan oportunidades en las respuestas, ya que hay errores ligeros en cuanto a formato, idiomas y gramática. Algunas opciones para mejorarlo pudiera ser hacer un proceso de limpieza más extensivo, aplicar filtros de idioma, post-procesar la respuesta o incluso usar modelos más pesados, robustos y potentes que usualmente son de paga.\n",
    "\n",
    "- Se identificó que definir un umbral de similitud adecuado es clave para evitar respuestas irrelevantes y se identificó como `top_k` y `max_new_tokens` aon claves para generar respuestas coherentes.\n",
    "\n",
    "- Se recalca la importancia de hacer un prompt correcto. En nuestro caso particular, generó una gran diferencia hacer el prompt en inglés, esto probablemente debido a la preferencia del modelo pre-entrenado seleccionado por el idioma. Solicitar la respuetsa en español y pedir eliminar errores tambien mostró una mejora significativa en la calidad de la respuesta.\n",
    "\n",
    "- Se observó que la curación del corpus (selección y fragmentación del contenido) tiene un impacto directo en la calidad del chatbot. La selección de documentos debe ser un proceso realizado con cuidado.\n",
    "\n",
    "- Se concluyó que este enfoque puede adaptarse a otros dominios como educación, derecho, atención médica o servicio al cliente.\n",
    "\n",
    "- Se reconoció que la estructura RAG es multilingüe y adaptable, facilitando su implementación en diversos contextos.\n",
    "\n",
    "- Se evidenció el potencial para escalar esta tecnología hacia sistemas más complejos como tutores virtuales, asistentes personales o motores de búsqueda especializados."
   ]
  },
  {
   "cell_type": "markdown",
   "metadata": {
    "id": "KLCGSshm7k9j"
   },
   "source": [
    "# Referencias\n",
    "\n",
    "### Referencias\n",
    "\n",
    "* Amazon Web Services (AWS). (2025). *¿Qué es la generación aumentada por recuperación (RAG)?*. Recuperado de https://aws.amazon.com/es/what-is/retrieval-augmented-generation/\n",
    "* DeepLearning.AI. (2024). *LangChain for LLM Application Development*. Recuperado de https://www.deeplearning.ai/short-courses/langchain-for-llm-application-development/\n",
    "* Google Cloud. (2025). *Uso de RAG: casos de uso de generación aumentada por recuperación*. Recuperado de https://cloud.google.com/use-cases/retrieval-augmented-generation?hl=es\n",
    "* Gradio. (2025). *Quickstart Guide for Gradio: construir y compartir demos de ML en Python*. Recuperado de https://www.gradio.app/guides/quickstart\n",
    "* Hohls, J. K., König, H.-H., Quirke, E., & Hajek, A. (2021). Anxiety, Depression and Quality of Life--A Systematic Review of Evidence from Longitudinal Observational Studies. *International Journal of Environmental Research and Public Health*, *18*(22), 12022. https://doi.org/10.3390/ijerph182212022\n",
    "* Hua, Y., Na, H., Li, Z., & et al. (2025). A scoping review of large language models for generative tasks in mental health care. *npj Digital Medicine*, *8*, 230. https://doi.org/10.1038/s41746-025-01611-4\n",
    "* O'Reilly Media. (2025). *Retrieval‑Augmented Generation (RAG) and LLMs*. Recuperado de https://www.oreilly.com/live-events/retrieval-augmented-generation-rag-and-llms/0790145078618/\n",
    "* Palomares, I. (2024). *Boost LLM Accuracy with Retrieval Augmented Generation (RAG) & Reranking*. Recuperado de https://www.datacamp.com/es/tutorial/boost-llm-accuracy-retrieval-augmented-generation-rag-reranking"
   ]
  },
  {
   "cell_type": "markdown",
   "metadata": {
    "id": "CtB5Q3m41YQ0"
   },
   "source": [
    "# **Fin de la actividad chatbot: LLM + RAG**"
   ]
  }
 ],
 "metadata": {
  "accelerator": "GPU",
  "colab": {
   "gpuType": "T4",
   "provenance": []
  },
  "kernelspec": {
   "display_name": "Python 3",
   "name": "python3"
  },
  "language_info": {
   "name": "python"
  }
 },
 "nbformat": 4,
 "nbformat_minor": 0
}
