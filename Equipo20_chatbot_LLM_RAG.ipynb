{
 "cells": [
  {
   "cell_type": "markdown",
   "metadata": {
    "id": "-hVND8xY2OKY"
   },
   "source": [
    "# **Procesamiento de Lenguaje Natural**\n",
    "\n",
    "## Maestría en Inteligencia Artificial Aplicada\n",
    "#### Tecnológico de Monterrey\n",
    "#### Prof Luis Eduardo Falcón Morales\n",
    "\n",
    "### **Adtividad en Equipos: sistema LLM + RAG**"
   ]
  },
  {
   "cell_type": "markdown",
   "metadata": {
    "id": "aimHVFOv23lm"
   },
   "source": [
    "* **Nombres y matrículas:**\n",
    "\n",
    "* 🧑‍💻 Ovidio Alejandro Hernández Ruano (A01796714)\n",
    "* 🧑‍💻 José Manuel Toral Cruz (A01122243)\n",
    "* 🧑‍💻 Oscar Enrique García García (A01016093)\n",
    "* 🧑‍💻 Luis Gerardo Sanchez Salazar (A01232963)\n",
    "\n",
    "* **Número de Equipo:**\n",
    "* Equipo #20\n"
   ]
  },
  {
   "cell_type": "markdown",
   "metadata": {
    "id": "7jimvsiVgjMg"
   },
   "source": [
    "* ##### **El formato de este cuaderno de Jupyter es libre, pero debe incuir al menos las siguientes secciones:**\n",
    "\n",
    "  * ##### **Introducción de la problemática a resolver.**\n",
    "  * ##### **Sistema RAG + LLM**\n",
    "  * ##### **El chatbot, incluyendo ejemplos de prueba.**\n",
    "  * ##### **Conclusiones**\n",
    "\n",
    "* ##### **Pueden importar los paquetes o librerías que requieran.**\n",
    "\n",
    "* ##### **Pueden incluir las celdas y líneas de código que deseen.**"
   ]
  },
  {
   "cell_type": "markdown",
   "metadata": {
    "id": "l2akzn895aF_"
   },
   "source": [
    "# **Introducción de la problemática a resolver.**"
   ]
  },
  {
   "cell_type": "markdown",
   "metadata": {
    "id": "Fq3bI2BBBm97"
   },
   "source": [
    "## 💡 Ansiedad y depresión: Falta de acceso inmediato, confiable y seguro a información\n",
    "\n",
    "**La ansiedad y la depresión** son dos de los transtornos de salud mental más comunes a nivel mundial, afectando a millones de personas de todas las edades. (Hohls et al., 2021) A pesar de su prevalencia, muchas personas no cuentan con acceso oportuno a información clara, comprensible y basada en evidencia que les permita entender sus síntomas, buscar ayuda o simplemente sentirse acompañadas en su proceso.\n",
    "\n",
    "Factores como la estigma social, la desinformación, las barreras económicas, la escasez de profesionales en salud mental y largos tiempos de espera para recibir atención dificultan quee quienes sufren de estos trastornos obtengan orientación adecuada. Además, en entornos digitales sobrecargados de contenido, es frecuente encontrar información errónea, poco útil o incluso perjudicial (Hua et al., 2025).\n",
    "\n",
    "En este contexto, se propone el desarrollo de un **chatbot** especializado en ansiedad y depresión, que brinde respuestas confiables, empáticas y accesibles. Este asistente digital tiene como objetivo reducir la brecha de información, orientar a las personas hacia recursos apropiados y contribuir al bienestar emocional desde un enfoque preventivo y educativo.\n",
    "\n",
    "Para el desarrollo del chatbot, se usará Retrieval-Augmented Generation (**RAG**) en combinación de modelos de lenguaje de gran escala (**LLM**), generando así una solución efectiva, principalmente por las siguientes razones:\n",
    "\n",
    "* ✅ **Actualización y precisión sobre el contenido:** RAG permite que el modelo no genere respuestas aleatorias basadas en su entrenamiento previo, sino que consulte una base documental curada como guías clínicas, material psicoeducativo validado, publicaciones científicas, o preguntas frecuentes verificadas, reduciendo el riesgo de respuestas incorrectas o no fundamentadas, lo cual es crucial al tratar temas sensibles como la salud mental.\n",
    "\n",
    "* ✅ **Actualización dinámica y adaptabilidad**: A diferencia de un LLM puro, que no puede aprender nueva información tras su entrenamiento, un sistema RAG puede actualizar fácilmente su corpus de conocimiento sin necesidad de reentrenamiento. Así, el chatbot puede mantenerse actualizado con las últimas recomendaciones clínicas, normativas locales o recursos disponibles (como líneas de ayuda o centros de atención comunitarios) o incluso, diagnósticos, conversaciones, o historiales clínicos del paciente para una experiencia más personalizada.\n",
    "\n",
    "* ✅ **Respuestas contextuales, empáticas y comprensibles**: El LLM permite que las respuestas se generen en lenguaje natural, adaptadas al tono del usuario, con un estilo conversacional empático y accesible. Esto ayuda a que las personas se sientan comprendidas y no juzgadas, y que la información se transmita con claridad y calidez (Palomares, 2024).\n",
    "\n",
    "* ✅ **Escalabilidad y disponibilidad**: Al ser una solución automatizada, el chatbot puede estar disponible 24/7, sin importar la zona horaria ni la demanda, lo que permite llegar a más personas en momentos de urgencia o duda. Esto lo convierte en una herramienta valiosa en comunidades con recursos limitados (AWS, 2025).\n",
    "\n",
    "* ✅ **Privacidad y anonimato**: Muchos usuarios prefieren explorar sus dudas sobre salud mental de forma anónima, sin tener que hablar cara a cara con un profesional desde el inicio. Un chatbot con estas características ofrece un espacio seguro, privado y no intrusivo donde dar los primeros pasos hacia el autocuidado o la búsqueda de ayuda (Hua et al., 2025).\n",
    "\n",
    "Combinar RAG + LLM para desarrollar un chatbot sobre ansiedad y depresión no solo mejora la calidad y seguridad de las respuestas, sino que además ofrece una solución técnica ética, escalable y centrada en el bienestar del usuario. Esta herramienta no pretende reemplazar el acompañamiento profesional, sino funcionar como una guía accesible, informada y confiable que ayude a reducir barreras, brindar contención y facilitar el acceso a recursos de salud mental adecuados.\n",
    "\n",
    "A continuación se presenta una propuesta desarrollada con **fines exclusivamente educativos**. Por ello, las respuestas generadas deben ser interpretadas como orientaciones generales y no deben considerarse asesoramiento médico, diagnóstico clínico ni sustituto de atención profesional. Se recomienda que los usuarios consulten a especialistas en salud mental ante cualquier duda o situación que requiera intervención profesional."
   ]
  },
  {
   "cell_type": "markdown",
   "metadata": {
    "id": "zQL0S7wX54Vh"
   },
   "source": [
    "# **Paquetes y librerías**"
   ]
  },
  {
   "cell_type": "markdown",
   "metadata": {
    "id": "qmeyvDTjBGHV"
   },
   "source": [
    "## 🔍 Procesamiento de Lenguaje Natural (NLP)\n",
    "* **📚 transformers:**  Biblioteca de modelos preentrenados desarrollada por Hugging Face. Permite usar modelos de NLP como BERT, GPT, T5, etc., para tareas como clasificación, resumen, traducción, y más.\n",
    "\n",
    "* **🧠 sentence-transformers:** Extensión sobre transformers enfocada en generar representaciones vectoriales (embeddings) de oraciones y párrafos. Ideal para tareas como búsqueda semántica, comparación de textos y clustering.\n",
    "\n",
    "* **📊 datasets:** Colección de datasets estandarizados de Hugging Face para NLP. Simplifica la carga, preprocesamiento y uso de datos para entrenamiento y evaluación de modelos.\n",
    "\n",
    "## 📦 Vectorización y Búsqueda Semántica\n",
    "* **🧭 faiss-cpu:** Biblioteca de búsqueda eficiente de vectores desarrollada por Facebook AI. Se usa para encontrar rápidamente los elementos más cercanos en grandes conjuntos de embeddings.\n",
    "\n",
    "## 🖼️ Interfaz de Usuario / Aplicaciones Web\n",
    "* **🧪 gradio:**\n",
    " Herramienta para crear interfaces web rápidas y simples para modelos de machine learning. Ideal para prototipar y compartir modelos con inputs y outputs interactivos, lo cuál es perfecto para el Chatbot a desarrollar.\n",
    "\n",
    "## 📄 Lectura de Documentos PDF\n",
    "* **📄 PyMuPDF:** Biblioteca para leer, extraer texto y trabajar con archivos PDF y otros documentos. Muy útil para convertir PDFs a texto para análisis posterior."
   ]
  },
  {
   "cell_type": "code",
   "execution_count": 1,
   "metadata": {
    "colab": {
     "base_uri": "https://localhost:8080/"
    },
    "id": "UVMo8aNh595N",
    "outputId": "3ad0c9dc-ce22-4f2f-8b55-cfb4e12a78cc"
   },
   "outputs": [
    {
     "name": "stdout",
     "output_type": "stream",
     "text": [
      "Requirement already satisfied: transformers in /usr/local/lib/python3.11/dist-packages (4.52.4)\n",
      "Requirement already satisfied: filelock in /usr/local/lib/python3.11/dist-packages (from transformers) (3.18.0)\n",
      "Requirement already satisfied: huggingface-hub<1.0,>=0.30.0 in /usr/local/lib/python3.11/dist-packages (from transformers) (0.33.0)\n",
      "Requirement already satisfied: numpy>=1.17 in /usr/local/lib/python3.11/dist-packages (from transformers) (2.0.2)\n",
      "Requirement already satisfied: packaging>=20.0 in /usr/local/lib/python3.11/dist-packages (from transformers) (24.2)\n",
      "Requirement already satisfied: pyyaml>=5.1 in /usr/local/lib/python3.11/dist-packages (from transformers) (6.0.2)\n",
      "Requirement already satisfied: regex!=2019.12.17 in /usr/local/lib/python3.11/dist-packages (from transformers) (2024.11.6)\n",
      "Requirement already satisfied: requests in /usr/local/lib/python3.11/dist-packages (from transformers) (2.32.3)\n",
      "Requirement already satisfied: tokenizers<0.22,>=0.21 in /usr/local/lib/python3.11/dist-packages (from transformers) (0.21.1)\n",
      "Requirement already satisfied: safetensors>=0.4.3 in /usr/local/lib/python3.11/dist-packages (from transformers) (0.5.3)\n",
      "Requirement already satisfied: tqdm>=4.27 in /usr/local/lib/python3.11/dist-packages (from transformers) (4.67.1)\n",
      "Requirement already satisfied: fsspec>=2023.5.0 in /usr/local/lib/python3.11/dist-packages (from huggingface-hub<1.0,>=0.30.0->transformers) (2025.3.2)\n",
      "Requirement already satisfied: typing-extensions>=3.7.4.3 in /usr/local/lib/python3.11/dist-packages (from huggingface-hub<1.0,>=0.30.0->transformers) (4.14.0)\n",
      "Requirement already satisfied: hf-xet<2.0.0,>=1.1.2 in /usr/local/lib/python3.11/dist-packages (from huggingface-hub<1.0,>=0.30.0->transformers) (1.1.3)\n",
      "Requirement already satisfied: charset-normalizer<4,>=2 in /usr/local/lib/python3.11/dist-packages (from requests->transformers) (3.4.2)\n",
      "Requirement already satisfied: idna<4,>=2.5 in /usr/local/lib/python3.11/dist-packages (from requests->transformers) (3.10)\n",
      "Requirement already satisfied: urllib3<3,>=1.21.1 in /usr/local/lib/python3.11/dist-packages (from requests->transformers) (2.4.0)\n",
      "Requirement already satisfied: certifi>=2017.4.17 in /usr/local/lib/python3.11/dist-packages (from requests->transformers) (2025.6.15)\n",
      "Requirement already satisfied: sentence-transformers in /usr/local/lib/python3.11/dist-packages (4.1.0)\n",
      "Requirement already satisfied: transformers<5.0.0,>=4.41.0 in /usr/local/lib/python3.11/dist-packages (from sentence-transformers) (4.52.4)\n",
      "Requirement already satisfied: tqdm in /usr/local/lib/python3.11/dist-packages (from sentence-transformers) (4.67.1)\n",
      "Requirement already satisfied: torch>=1.11.0 in /usr/local/lib/python3.11/dist-packages (from sentence-transformers) (2.6.0+cu124)\n",
      "Requirement already satisfied: scikit-learn in /usr/local/lib/python3.11/dist-packages (from sentence-transformers) (1.6.1)\n",
      "Requirement already satisfied: scipy in /usr/local/lib/python3.11/dist-packages (from sentence-transformers) (1.15.3)\n",
      "Requirement already satisfied: huggingface-hub>=0.20.0 in /usr/local/lib/python3.11/dist-packages (from sentence-transformers) (0.33.0)\n",
      "Requirement already satisfied: Pillow in /usr/local/lib/python3.11/dist-packages (from sentence-transformers) (11.2.1)\n",
      "Requirement already satisfied: typing_extensions>=4.5.0 in /usr/local/lib/python3.11/dist-packages (from sentence-transformers) (4.14.0)\n",
      "Requirement already satisfied: filelock in /usr/local/lib/python3.11/dist-packages (from huggingface-hub>=0.20.0->sentence-transformers) (3.18.0)\n",
      "Requirement already satisfied: fsspec>=2023.5.0 in /usr/local/lib/python3.11/dist-packages (from huggingface-hub>=0.20.0->sentence-transformers) (2025.3.2)\n",
      "Requirement already satisfied: packaging>=20.9 in /usr/local/lib/python3.11/dist-packages (from huggingface-hub>=0.20.0->sentence-transformers) (24.2)\n",
      "Requirement already satisfied: pyyaml>=5.1 in /usr/local/lib/python3.11/dist-packages (from huggingface-hub>=0.20.0->sentence-transformers) (6.0.2)\n",
      "Requirement already satisfied: requests in /usr/local/lib/python3.11/dist-packages (from huggingface-hub>=0.20.0->sentence-transformers) (2.32.3)\n",
      "Requirement already satisfied: hf-xet<2.0.0,>=1.1.2 in /usr/local/lib/python3.11/dist-packages (from huggingface-hub>=0.20.0->sentence-transformers) (1.1.3)\n",
      "Requirement already satisfied: networkx in /usr/local/lib/python3.11/dist-packages (from torch>=1.11.0->sentence-transformers) (3.5)\n",
      "Requirement already satisfied: jinja2 in /usr/local/lib/python3.11/dist-packages (from torch>=1.11.0->sentence-transformers) (3.1.6)\n",
      "Collecting nvidia-cuda-nvrtc-cu12==12.4.127 (from torch>=1.11.0->sentence-transformers)\n",
      "  Downloading nvidia_cuda_nvrtc_cu12-12.4.127-py3-none-manylinux2014_x86_64.whl.metadata (1.5 kB)\n",
      "Collecting nvidia-cuda-runtime-cu12==12.4.127 (from torch>=1.11.0->sentence-transformers)\n",
      "  Downloading nvidia_cuda_runtime_cu12-12.4.127-py3-none-manylinux2014_x86_64.whl.metadata (1.5 kB)\n",
      "Collecting nvidia-cuda-cupti-cu12==12.4.127 (from torch>=1.11.0->sentence-transformers)\n",
      "  Downloading nvidia_cuda_cupti_cu12-12.4.127-py3-none-manylinux2014_x86_64.whl.metadata (1.6 kB)\n",
      "Collecting nvidia-cudnn-cu12==9.1.0.70 (from torch>=1.11.0->sentence-transformers)\n",
      "  Downloading nvidia_cudnn_cu12-9.1.0.70-py3-none-manylinux2014_x86_64.whl.metadata (1.6 kB)\n",
      "Collecting nvidia-cublas-cu12==12.4.5.8 (from torch>=1.11.0->sentence-transformers)\n",
      "  Downloading nvidia_cublas_cu12-12.4.5.8-py3-none-manylinux2014_x86_64.whl.metadata (1.5 kB)\n",
      "Collecting nvidia-cufft-cu12==11.2.1.3 (from torch>=1.11.0->sentence-transformers)\n",
      "  Downloading nvidia_cufft_cu12-11.2.1.3-py3-none-manylinux2014_x86_64.whl.metadata (1.5 kB)\n",
      "Collecting nvidia-curand-cu12==10.3.5.147 (from torch>=1.11.0->sentence-transformers)\n",
      "  Downloading nvidia_curand_cu12-10.3.5.147-py3-none-manylinux2014_x86_64.whl.metadata (1.5 kB)\n",
      "Collecting nvidia-cusolver-cu12==11.6.1.9 (from torch>=1.11.0->sentence-transformers)\n",
      "  Downloading nvidia_cusolver_cu12-11.6.1.9-py3-none-manylinux2014_x86_64.whl.metadata (1.6 kB)\n",
      "Collecting nvidia-cusparse-cu12==12.3.1.170 (from torch>=1.11.0->sentence-transformers)\n",
      "  Downloading nvidia_cusparse_cu12-12.3.1.170-py3-none-manylinux2014_x86_64.whl.metadata (1.6 kB)\n",
      "Requirement already satisfied: nvidia-cusparselt-cu12==0.6.2 in /usr/local/lib/python3.11/dist-packages (from torch>=1.11.0->sentence-transformers) (0.6.2)\n",
      "Requirement already satisfied: nvidia-nccl-cu12==2.21.5 in /usr/local/lib/python3.11/dist-packages (from torch>=1.11.0->sentence-transformers) (2.21.5)\n",
      "Requirement already satisfied: nvidia-nvtx-cu12==12.4.127 in /usr/local/lib/python3.11/dist-packages (from torch>=1.11.0->sentence-transformers) (12.4.127)\n",
      "Collecting nvidia-nvjitlink-cu12==12.4.127 (from torch>=1.11.0->sentence-transformers)\n",
      "  Downloading nvidia_nvjitlink_cu12-12.4.127-py3-none-manylinux2014_x86_64.whl.metadata (1.5 kB)\n",
      "Requirement already satisfied: triton==3.2.0 in /usr/local/lib/python3.11/dist-packages (from torch>=1.11.0->sentence-transformers) (3.2.0)\n",
      "Requirement already satisfied: sympy==1.13.1 in /usr/local/lib/python3.11/dist-packages (from torch>=1.11.0->sentence-transformers) (1.13.1)\n",
      "Requirement already satisfied: mpmath<1.4,>=1.1.0 in /usr/local/lib/python3.11/dist-packages (from sympy==1.13.1->torch>=1.11.0->sentence-transformers) (1.3.0)\n",
      "Requirement already satisfied: numpy>=1.17 in /usr/local/lib/python3.11/dist-packages (from transformers<5.0.0,>=4.41.0->sentence-transformers) (2.0.2)\n",
      "Requirement already satisfied: regex!=2019.12.17 in /usr/local/lib/python3.11/dist-packages (from transformers<5.0.0,>=4.41.0->sentence-transformers) (2024.11.6)\n",
      "Requirement already satisfied: tokenizers<0.22,>=0.21 in /usr/local/lib/python3.11/dist-packages (from transformers<5.0.0,>=4.41.0->sentence-transformers) (0.21.1)\n",
      "Requirement already satisfied: safetensors>=0.4.3 in /usr/local/lib/python3.11/dist-packages (from transformers<5.0.0,>=4.41.0->sentence-transformers) (0.5.3)\n",
      "Requirement already satisfied: joblib>=1.2.0 in /usr/local/lib/python3.11/dist-packages (from scikit-learn->sentence-transformers) (1.5.1)\n",
      "Requirement already satisfied: threadpoolctl>=3.1.0 in /usr/local/lib/python3.11/dist-packages (from scikit-learn->sentence-transformers) (3.6.0)\n",
      "Requirement already satisfied: MarkupSafe>=2.0 in /usr/local/lib/python3.11/dist-packages (from jinja2->torch>=1.11.0->sentence-transformers) (3.0.2)\n",
      "Requirement already satisfied: charset-normalizer<4,>=2 in /usr/local/lib/python3.11/dist-packages (from requests->huggingface-hub>=0.20.0->sentence-transformers) (3.4.2)\n",
      "Requirement already satisfied: idna<4,>=2.5 in /usr/local/lib/python3.11/dist-packages (from requests->huggingface-hub>=0.20.0->sentence-transformers) (3.10)\n",
      "Requirement already satisfied: urllib3<3,>=1.21.1 in /usr/local/lib/python3.11/dist-packages (from requests->huggingface-hub>=0.20.0->sentence-transformers) (2.4.0)\n",
      "Requirement already satisfied: certifi>=2017.4.17 in /usr/local/lib/python3.11/dist-packages (from requests->huggingface-hub>=0.20.0->sentence-transformers) (2025.6.15)\n",
      "Downloading nvidia_cublas_cu12-12.4.5.8-py3-none-manylinux2014_x86_64.whl (363.4 MB)\n",
      "\u001b[2K   \u001b[90m━━━━━━━━━━━━━━━━━━━━━━━━━━━━━━━━━━━━━━━━\u001b[0m \u001b[32m363.4/363.4 MB\u001b[0m \u001b[31m3.1 MB/s\u001b[0m eta \u001b[36m0:00:00\u001b[0m\n",
      "\u001b[?25hDownloading nvidia_cuda_cupti_cu12-12.4.127-py3-none-manylinux2014_x86_64.whl (13.8 MB)\n",
      "\u001b[2K   \u001b[90m━━━━━━━━━━━━━━━━━━━━━━━━━━━━━━━━━━━━━━━━\u001b[0m \u001b[32m13.8/13.8 MB\u001b[0m \u001b[31m82.3 MB/s\u001b[0m eta \u001b[36m0:00:00\u001b[0m\n",
      "\u001b[?25hDownloading nvidia_cuda_nvrtc_cu12-12.4.127-py3-none-manylinux2014_x86_64.whl (24.6 MB)\n",
      "\u001b[2K   \u001b[90m━━━━━━━━━━━━━━━━━━━━━━━━━━━━━━━━━━━━━━━━\u001b[0m \u001b[32m24.6/24.6 MB\u001b[0m \u001b[31m61.0 MB/s\u001b[0m eta \u001b[36m0:00:00\u001b[0m\n",
      "\u001b[?25hDownloading nvidia_cuda_runtime_cu12-12.4.127-py3-none-manylinux2014_x86_64.whl (883 kB)\n",
      "\u001b[2K   \u001b[90m━━━━━━━━━━━━━━━━━━━━━━━━━━━━━━━━━━━━━━━━\u001b[0m \u001b[32m883.7/883.7 kB\u001b[0m \u001b[31m44.7 MB/s\u001b[0m eta \u001b[36m0:00:00\u001b[0m\n",
      "\u001b[?25hDownloading nvidia_cudnn_cu12-9.1.0.70-py3-none-manylinux2014_x86_64.whl (664.8 MB)\n",
      "\u001b[2K   \u001b[90m━━━━━━━━━━━━━━━━━━━━━━━━━━━━━━━━━━━━━━━━\u001b[0m \u001b[32m664.8/664.8 MB\u001b[0m \u001b[31m1.6 MB/s\u001b[0m eta \u001b[36m0:00:00\u001b[0m\n",
      "\u001b[?25hDownloading nvidia_cufft_cu12-11.2.1.3-py3-none-manylinux2014_x86_64.whl (211.5 MB)\n",
      "\u001b[2K   \u001b[90m━━━━━━━━━━━━━━━━━━━━━━━━━━━━━━━━━━━━━━━━\u001b[0m \u001b[32m211.5/211.5 MB\u001b[0m \u001b[31m4.7 MB/s\u001b[0m eta \u001b[36m0:00:00\u001b[0m\n",
      "\u001b[?25hDownloading nvidia_curand_cu12-10.3.5.147-py3-none-manylinux2014_x86_64.whl (56.3 MB)\n",
      "\u001b[2K   \u001b[90m━━━━━━━━━━━━━━━━━━━━━━━━━━━━━━━━━━━━━━━━\u001b[0m \u001b[32m56.3/56.3 MB\u001b[0m \u001b[31m13.9 MB/s\u001b[0m eta \u001b[36m0:00:00\u001b[0m\n",
      "\u001b[?25hDownloading nvidia_cusolver_cu12-11.6.1.9-py3-none-manylinux2014_x86_64.whl (127.9 MB)\n",
      "\u001b[2K   \u001b[90m━━━━━━━━━━━━━━━━━━━━━━━━━━━━━━━━━━━━━━━━\u001b[0m \u001b[32m127.9/127.9 MB\u001b[0m \u001b[31m7.9 MB/s\u001b[0m eta \u001b[36m0:00:00\u001b[0m\n",
      "\u001b[?25hDownloading nvidia_cusparse_cu12-12.3.1.170-py3-none-manylinux2014_x86_64.whl (207.5 MB)\n",
      "\u001b[2K   \u001b[90m━━━━━━━━━━━━━━━━━━━━━━━━━━━━━━━━━━━━━━━━\u001b[0m \u001b[32m207.5/207.5 MB\u001b[0m \u001b[31m5.9 MB/s\u001b[0m eta \u001b[36m0:00:00\u001b[0m\n",
      "\u001b[?25hDownloading nvidia_nvjitlink_cu12-12.4.127-py3-none-manylinux2014_x86_64.whl (21.1 MB)\n",
      "\u001b[2K   \u001b[90m━━━━━━━━━━━━━━━━━━━━━━━━━━━━━━━━━━━━━━━━\u001b[0m \u001b[32m21.1/21.1 MB\u001b[0m \u001b[31m74.3 MB/s\u001b[0m eta \u001b[36m0:00:00\u001b[0m\n",
      "\u001b[?25hInstalling collected packages: nvidia-nvjitlink-cu12, nvidia-curand-cu12, nvidia-cufft-cu12, nvidia-cuda-runtime-cu12, nvidia-cuda-nvrtc-cu12, nvidia-cuda-cupti-cu12, nvidia-cublas-cu12, nvidia-cusparse-cu12, nvidia-cudnn-cu12, nvidia-cusolver-cu12\n",
      "  Attempting uninstall: nvidia-nvjitlink-cu12\n",
      "    Found existing installation: nvidia-nvjitlink-cu12 12.5.82\n",
      "    Uninstalling nvidia-nvjitlink-cu12-12.5.82:\n",
      "      Successfully uninstalled nvidia-nvjitlink-cu12-12.5.82\n",
      "  Attempting uninstall: nvidia-curand-cu12\n",
      "    Found existing installation: nvidia-curand-cu12 10.3.6.82\n",
      "    Uninstalling nvidia-curand-cu12-10.3.6.82:\n",
      "      Successfully uninstalled nvidia-curand-cu12-10.3.6.82\n",
      "  Attempting uninstall: nvidia-cufft-cu12\n",
      "    Found existing installation: nvidia-cufft-cu12 11.2.3.61\n",
      "    Uninstalling nvidia-cufft-cu12-11.2.3.61:\n",
      "      Successfully uninstalled nvidia-cufft-cu12-11.2.3.61\n",
      "  Attempting uninstall: nvidia-cuda-runtime-cu12\n",
      "    Found existing installation: nvidia-cuda-runtime-cu12 12.5.82\n",
      "    Uninstalling nvidia-cuda-runtime-cu12-12.5.82:\n",
      "      Successfully uninstalled nvidia-cuda-runtime-cu12-12.5.82\n",
      "  Attempting uninstall: nvidia-cuda-nvrtc-cu12\n",
      "    Found existing installation: nvidia-cuda-nvrtc-cu12 12.5.82\n",
      "    Uninstalling nvidia-cuda-nvrtc-cu12-12.5.82:\n",
      "      Successfully uninstalled nvidia-cuda-nvrtc-cu12-12.5.82\n",
      "  Attempting uninstall: nvidia-cuda-cupti-cu12\n",
      "    Found existing installation: nvidia-cuda-cupti-cu12 12.5.82\n",
      "    Uninstalling nvidia-cuda-cupti-cu12-12.5.82:\n",
      "      Successfully uninstalled nvidia-cuda-cupti-cu12-12.5.82\n",
      "  Attempting uninstall: nvidia-cublas-cu12\n",
      "    Found existing installation: nvidia-cublas-cu12 12.5.3.2\n",
      "    Uninstalling nvidia-cublas-cu12-12.5.3.2:\n",
      "      Successfully uninstalled nvidia-cublas-cu12-12.5.3.2\n",
      "  Attempting uninstall: nvidia-cusparse-cu12\n",
      "    Found existing installation: nvidia-cusparse-cu12 12.5.1.3\n",
      "    Uninstalling nvidia-cusparse-cu12-12.5.1.3:\n",
      "      Successfully uninstalled nvidia-cusparse-cu12-12.5.1.3\n",
      "  Attempting uninstall: nvidia-cudnn-cu12\n",
      "    Found existing installation: nvidia-cudnn-cu12 9.3.0.75\n",
      "    Uninstalling nvidia-cudnn-cu12-9.3.0.75:\n",
      "      Successfully uninstalled nvidia-cudnn-cu12-9.3.0.75\n",
      "  Attempting uninstall: nvidia-cusolver-cu12\n",
      "    Found existing installation: nvidia-cusolver-cu12 11.6.3.83\n",
      "    Uninstalling nvidia-cusolver-cu12-11.6.3.83:\n",
      "      Successfully uninstalled nvidia-cusolver-cu12-11.6.3.83\n",
      "Successfully installed nvidia-cublas-cu12-12.4.5.8 nvidia-cuda-cupti-cu12-12.4.127 nvidia-cuda-nvrtc-cu12-12.4.127 nvidia-cuda-runtime-cu12-12.4.127 nvidia-cudnn-cu12-9.1.0.70 nvidia-cufft-cu12-11.2.1.3 nvidia-curand-cu12-10.3.5.147 nvidia-cusolver-cu12-11.6.1.9 nvidia-cusparse-cu12-12.3.1.170 nvidia-nvjitlink-cu12-12.4.127\n",
      "Collecting faiss-cpu\n",
      "  Downloading faiss_cpu-1.11.0-cp311-cp311-manylinux_2_28_x86_64.whl.metadata (4.8 kB)\n",
      "Requirement already satisfied: numpy<3.0,>=1.25.0 in /usr/local/lib/python3.11/dist-packages (from faiss-cpu) (2.0.2)\n",
      "Requirement already satisfied: packaging in /usr/local/lib/python3.11/dist-packages (from faiss-cpu) (24.2)\n",
      "Downloading faiss_cpu-1.11.0-cp311-cp311-manylinux_2_28_x86_64.whl (31.3 MB)\n",
      "\u001b[2K   \u001b[90m━━━━━━━━━━━━━━━━━━━━━━━━━━━━━━━━━━━━━━━━\u001b[0m \u001b[32m31.3/31.3 MB\u001b[0m \u001b[31m34.2 MB/s\u001b[0m eta \u001b[36m0:00:00\u001b[0m\n",
      "\u001b[?25hInstalling collected packages: faiss-cpu\n",
      "Successfully installed faiss-cpu-1.11.0\n",
      "Requirement already satisfied: gradio in /usr/local/lib/python3.11/dist-packages (5.31.0)\n",
      "Requirement already satisfied: aiofiles<25.0,>=22.0 in /usr/local/lib/python3.11/dist-packages (from gradio) (24.1.0)\n",
      "Requirement already satisfied: anyio<5.0,>=3.0 in /usr/local/lib/python3.11/dist-packages (from gradio) (4.9.0)\n",
      "Requirement already satisfied: fastapi<1.0,>=0.115.2 in /usr/local/lib/python3.11/dist-packages (from gradio) (0.115.12)\n",
      "Requirement already satisfied: ffmpy in /usr/local/lib/python3.11/dist-packages (from gradio) (0.6.0)\n",
      "Requirement already satisfied: gradio-client==1.10.1 in /usr/local/lib/python3.11/dist-packages (from gradio) (1.10.1)\n",
      "Requirement already satisfied: groovy~=0.1 in /usr/local/lib/python3.11/dist-packages (from gradio) (0.1.2)\n",
      "Requirement already satisfied: httpx>=0.24.1 in /usr/local/lib/python3.11/dist-packages (from gradio) (0.28.1)\n",
      "Requirement already satisfied: huggingface-hub>=0.28.1 in /usr/local/lib/python3.11/dist-packages (from gradio) (0.33.0)\n",
      "Requirement already satisfied: jinja2<4.0 in /usr/local/lib/python3.11/dist-packages (from gradio) (3.1.6)\n",
      "Requirement already satisfied: markupsafe<4.0,>=2.0 in /usr/local/lib/python3.11/dist-packages (from gradio) (3.0.2)\n",
      "Requirement already satisfied: numpy<3.0,>=1.0 in /usr/local/lib/python3.11/dist-packages (from gradio) (2.0.2)\n",
      "Requirement already satisfied: orjson~=3.0 in /usr/local/lib/python3.11/dist-packages (from gradio) (3.10.18)\n",
      "Requirement already satisfied: packaging in /usr/local/lib/python3.11/dist-packages (from gradio) (24.2)\n",
      "Requirement already satisfied: pandas<3.0,>=1.0 in /usr/local/lib/python3.11/dist-packages (from gradio) (2.2.2)\n",
      "Requirement already satisfied: pillow<12.0,>=8.0 in /usr/local/lib/python3.11/dist-packages (from gradio) (11.2.1)\n",
      "Requirement already satisfied: pydantic<2.12,>=2.0 in /usr/local/lib/python3.11/dist-packages (from gradio) (2.11.7)\n",
      "Requirement already satisfied: pydub in /usr/local/lib/python3.11/dist-packages (from gradio) (0.25.1)\n",
      "Requirement already satisfied: python-multipart>=0.0.18 in /usr/local/lib/python3.11/dist-packages (from gradio) (0.0.20)\n",
      "Requirement already satisfied: pyyaml<7.0,>=5.0 in /usr/local/lib/python3.11/dist-packages (from gradio) (6.0.2)\n",
      "Requirement already satisfied: ruff>=0.9.3 in /usr/local/lib/python3.11/dist-packages (from gradio) (0.11.13)\n",
      "Requirement already satisfied: safehttpx<0.2.0,>=0.1.6 in /usr/local/lib/python3.11/dist-packages (from gradio) (0.1.6)\n",
      "Requirement already satisfied: semantic-version~=2.0 in /usr/local/lib/python3.11/dist-packages (from gradio) (2.10.0)\n",
      "Requirement already satisfied: starlette<1.0,>=0.40.0 in /usr/local/lib/python3.11/dist-packages (from gradio) (0.46.2)\n",
      "Requirement already satisfied: tomlkit<0.14.0,>=0.12.0 in /usr/local/lib/python3.11/dist-packages (from gradio) (0.13.3)\n",
      "Requirement already satisfied: typer<1.0,>=0.12 in /usr/local/lib/python3.11/dist-packages (from gradio) (0.16.0)\n",
      "Requirement already satisfied: typing-extensions~=4.0 in /usr/local/lib/python3.11/dist-packages (from gradio) (4.14.0)\n",
      "Requirement already satisfied: uvicorn>=0.14.0 in /usr/local/lib/python3.11/dist-packages (from gradio) (0.34.3)\n",
      "Requirement already satisfied: fsspec in /usr/local/lib/python3.11/dist-packages (from gradio-client==1.10.1->gradio) (2025.3.2)\n",
      "Requirement already satisfied: websockets<16.0,>=10.0 in /usr/local/lib/python3.11/dist-packages (from gradio-client==1.10.1->gradio) (15.0.1)\n",
      "Requirement already satisfied: idna>=2.8 in /usr/local/lib/python3.11/dist-packages (from anyio<5.0,>=3.0->gradio) (3.10)\n",
      "Requirement already satisfied: sniffio>=1.1 in /usr/local/lib/python3.11/dist-packages (from anyio<5.0,>=3.0->gradio) (1.3.1)\n",
      "Requirement already satisfied: certifi in /usr/local/lib/python3.11/dist-packages (from httpx>=0.24.1->gradio) (2025.6.15)\n",
      "Requirement already satisfied: httpcore==1.* in /usr/local/lib/python3.11/dist-packages (from httpx>=0.24.1->gradio) (1.0.9)\n",
      "Requirement already satisfied: h11>=0.16 in /usr/local/lib/python3.11/dist-packages (from httpcore==1.*->httpx>=0.24.1->gradio) (0.16.0)\n",
      "Requirement already satisfied: filelock in /usr/local/lib/python3.11/dist-packages (from huggingface-hub>=0.28.1->gradio) (3.18.0)\n",
      "Requirement already satisfied: requests in /usr/local/lib/python3.11/dist-packages (from huggingface-hub>=0.28.1->gradio) (2.32.3)\n",
      "Requirement already satisfied: tqdm>=4.42.1 in /usr/local/lib/python3.11/dist-packages (from huggingface-hub>=0.28.1->gradio) (4.67.1)\n",
      "Requirement already satisfied: hf-xet<2.0.0,>=1.1.2 in /usr/local/lib/python3.11/dist-packages (from huggingface-hub>=0.28.1->gradio) (1.1.3)\n",
      "Requirement already satisfied: python-dateutil>=2.8.2 in /usr/local/lib/python3.11/dist-packages (from pandas<3.0,>=1.0->gradio) (2.9.0.post0)\n",
      "Requirement already satisfied: pytz>=2020.1 in /usr/local/lib/python3.11/dist-packages (from pandas<3.0,>=1.0->gradio) (2025.2)\n",
      "Requirement already satisfied: tzdata>=2022.7 in /usr/local/lib/python3.11/dist-packages (from pandas<3.0,>=1.0->gradio) (2025.2)\n",
      "Requirement already satisfied: annotated-types>=0.6.0 in /usr/local/lib/python3.11/dist-packages (from pydantic<2.12,>=2.0->gradio) (0.7.0)\n",
      "Requirement already satisfied: pydantic-core==2.33.2 in /usr/local/lib/python3.11/dist-packages (from pydantic<2.12,>=2.0->gradio) (2.33.2)\n",
      "Requirement already satisfied: typing-inspection>=0.4.0 in /usr/local/lib/python3.11/dist-packages (from pydantic<2.12,>=2.0->gradio) (0.4.1)\n",
      "Requirement already satisfied: click>=8.0.0 in /usr/local/lib/python3.11/dist-packages (from typer<1.0,>=0.12->gradio) (8.2.1)\n",
      "Requirement already satisfied: shellingham>=1.3.0 in /usr/local/lib/python3.11/dist-packages (from typer<1.0,>=0.12->gradio) (1.5.4)\n",
      "Requirement already satisfied: rich>=10.11.0 in /usr/local/lib/python3.11/dist-packages (from typer<1.0,>=0.12->gradio) (13.9.4)\n",
      "Requirement already satisfied: six>=1.5 in /usr/local/lib/python3.11/dist-packages (from python-dateutil>=2.8.2->pandas<3.0,>=1.0->gradio) (1.17.0)\n",
      "Requirement already satisfied: markdown-it-py>=2.2.0 in /usr/local/lib/python3.11/dist-packages (from rich>=10.11.0->typer<1.0,>=0.12->gradio) (3.0.0)\n",
      "Requirement already satisfied: pygments<3.0.0,>=2.13.0 in /usr/local/lib/python3.11/dist-packages (from rich>=10.11.0->typer<1.0,>=0.12->gradio) (2.19.1)\n",
      "Requirement already satisfied: charset-normalizer<4,>=2 in /usr/local/lib/python3.11/dist-packages (from requests->huggingface-hub>=0.28.1->gradio) (3.4.2)\n",
      "Requirement already satisfied: urllib3<3,>=1.21.1 in /usr/local/lib/python3.11/dist-packages (from requests->huggingface-hub>=0.28.1->gradio) (2.4.0)\n",
      "Requirement already satisfied: mdurl~=0.1 in /usr/local/lib/python3.11/dist-packages (from markdown-it-py>=2.2.0->rich>=10.11.0->typer<1.0,>=0.12->gradio) (0.1.2)\n",
      "Requirement already satisfied: datasets in /usr/local/lib/python3.11/dist-packages (2.14.4)\n",
      "Requirement already satisfied: numpy>=1.17 in /usr/local/lib/python3.11/dist-packages (from datasets) (2.0.2)\n",
      "Requirement already satisfied: pyarrow>=8.0.0 in /usr/local/lib/python3.11/dist-packages (from datasets) (18.1.0)\n",
      "Requirement already satisfied: dill<0.3.8,>=0.3.0 in /usr/local/lib/python3.11/dist-packages (from datasets) (0.3.7)\n",
      "Requirement already satisfied: pandas in /usr/local/lib/python3.11/dist-packages (from datasets) (2.2.2)\n",
      "Requirement already satisfied: requests>=2.19.0 in /usr/local/lib/python3.11/dist-packages (from datasets) (2.32.3)\n",
      "Requirement already satisfied: tqdm>=4.62.1 in /usr/local/lib/python3.11/dist-packages (from datasets) (4.67.1)\n",
      "Requirement already satisfied: xxhash in /usr/local/lib/python3.11/dist-packages (from datasets) (3.5.0)\n",
      "Requirement already satisfied: multiprocess in /usr/local/lib/python3.11/dist-packages (from datasets) (0.70.15)\n",
      "Requirement already satisfied: fsspec>=2021.11.1 in /usr/local/lib/python3.11/dist-packages (from fsspec[http]>=2021.11.1->datasets) (2025.3.2)\n",
      "Requirement already satisfied: aiohttp in /usr/local/lib/python3.11/dist-packages (from datasets) (3.11.15)\n",
      "Requirement already satisfied: huggingface-hub<1.0.0,>=0.14.0 in /usr/local/lib/python3.11/dist-packages (from datasets) (0.33.0)\n",
      "Requirement already satisfied: packaging in /usr/local/lib/python3.11/dist-packages (from datasets) (24.2)\n",
      "Requirement already satisfied: pyyaml>=5.1 in /usr/local/lib/python3.11/dist-packages (from datasets) (6.0.2)\n",
      "Requirement already satisfied: aiohappyeyeballs>=2.3.0 in /usr/local/lib/python3.11/dist-packages (from aiohttp->datasets) (2.6.1)\n",
      "Requirement already satisfied: aiosignal>=1.1.2 in /usr/local/lib/python3.11/dist-packages (from aiohttp->datasets) (1.3.2)\n",
      "Requirement already satisfied: attrs>=17.3.0 in /usr/local/lib/python3.11/dist-packages (from aiohttp->datasets) (25.3.0)\n",
      "Requirement already satisfied: frozenlist>=1.1.1 in /usr/local/lib/python3.11/dist-packages (from aiohttp->datasets) (1.7.0)\n",
      "Requirement already satisfied: multidict<7.0,>=4.5 in /usr/local/lib/python3.11/dist-packages (from aiohttp->datasets) (6.4.4)\n",
      "Requirement already satisfied: propcache>=0.2.0 in /usr/local/lib/python3.11/dist-packages (from aiohttp->datasets) (0.3.2)\n",
      "Requirement already satisfied: yarl<2.0,>=1.17.0 in /usr/local/lib/python3.11/dist-packages (from aiohttp->datasets) (1.20.1)\n",
      "Requirement already satisfied: filelock in /usr/local/lib/python3.11/dist-packages (from huggingface-hub<1.0.0,>=0.14.0->datasets) (3.18.0)\n",
      "Requirement already satisfied: typing-extensions>=3.7.4.3 in /usr/local/lib/python3.11/dist-packages (from huggingface-hub<1.0.0,>=0.14.0->datasets) (4.14.0)\n",
      "Requirement already satisfied: hf-xet<2.0.0,>=1.1.2 in /usr/local/lib/python3.11/dist-packages (from huggingface-hub<1.0.0,>=0.14.0->datasets) (1.1.3)\n",
      "Requirement already satisfied: charset-normalizer<4,>=2 in /usr/local/lib/python3.11/dist-packages (from requests>=2.19.0->datasets) (3.4.2)\n",
      "Requirement already satisfied: idna<4,>=2.5 in /usr/local/lib/python3.11/dist-packages (from requests>=2.19.0->datasets) (3.10)\n",
      "Requirement already satisfied: urllib3<3,>=1.21.1 in /usr/local/lib/python3.11/dist-packages (from requests>=2.19.0->datasets) (2.4.0)\n",
      "Requirement already satisfied: certifi>=2017.4.17 in /usr/local/lib/python3.11/dist-packages (from requests>=2.19.0->datasets) (2025.6.15)\n",
      "Requirement already satisfied: python-dateutil>=2.8.2 in /usr/local/lib/python3.11/dist-packages (from pandas->datasets) (2.9.0.post0)\n",
      "Requirement already satisfied: pytz>=2020.1 in /usr/local/lib/python3.11/dist-packages (from pandas->datasets) (2025.2)\n",
      "Requirement already satisfied: tzdata>=2022.7 in /usr/local/lib/python3.11/dist-packages (from pandas->datasets) (2025.2)\n",
      "Requirement already satisfied: six>=1.5 in /usr/local/lib/python3.11/dist-packages (from python-dateutil>=2.8.2->pandas->datasets) (1.17.0)\n",
      "Collecting PyMuPDF\n",
      "  Downloading pymupdf-1.26.1-cp39-abi3-manylinux_2_28_x86_64.whl.metadata (3.4 kB)\n",
      "Downloading pymupdf-1.26.1-cp39-abi3-manylinux_2_28_x86_64.whl (24.1 MB)\n",
      "\u001b[2K   \u001b[90m━━━━━━━━━━━━━━━━━━━━━━━━━━━━━━━━━━━━━━━━\u001b[0m \u001b[32m24.1/24.1 MB\u001b[0m \u001b[31m100.4 MB/s\u001b[0m eta \u001b[36m0:00:00\u001b[0m\n",
      "\u001b[?25hInstalling collected packages: PyMuPDF\n",
      "Successfully installed PyMuPDF-1.26.1\n"
     ]
    }
   ],
   "source": [
    "# Incluyan a continuación todas las celdas (de código o texto) que deseen...\n",
    "!pip install transformers\n",
    "!pip install sentence-transformers\n",
    "!pip install faiss-cpu\n",
    "!pip install gradio\n",
    "!pip install datasets\n",
    "!pip install PyMuPDF"
   ]
  },
  {
   "cell_type": "markdown",
   "metadata": {
    "id": "WJtWHl5iBMpo"
   },
   "source": [
    "## 🧱 Utilidades del Sistema y Datos\n",
    "\n",
    "* **📂 os:** Módulo estándar de Python para interactuar con el sistema operativo. Se usa para operaciones como navegar entre carpetas, crear directorios o manipular archivos.\n",
    "\n",
    "* **📦 pickle:** Biblioteca estándar de Python para serializar y deserializar objetos. Útil para guardar modelos, datos procesados o estructuras en archivos binarios para reutilización.\n",
    "\n",
    "* **🔢 numpy:** Paquete fundamental para computación numérica en Python. Permite manejar arrays y realizar operaciones matemáticas eficientes a nivel de matriz.\n",
    "\n",
    "* **🌎 IPython.display:** Importamos las funciones `display` y `HTML` para desplegar contenido enriquecido como HTML dentro de celdas de Google Colab.\n",
    "\n",
    "* **🔡 re:** Módulo de expresiones regulares en Python. Se usa para buscar, reemplazar o dividir texto mediante patrones definidos.\n",
    "\n",
    "## 📄 Procesamiento de Documentos PDF\n",
    "\n",
    "* **📄 fitz (PyMuPDF):** Interfaz principal de la biblioteca PyMuPDF. Permite abrir, leer y extraer texto o imágenes de archivos PDF y otros documentos.\n",
    "\n",
    "## 📦 Búsqueda Semántica\n",
    "\n",
    "* **🧭 faiss:** Biblioteca de Facebook AI para búsqueda rápida de vectores en grandes volúmenes de datos. Se usa para tareas de similitud semántica y recuperación de información basada en embeddings.\n",
    "\n",
    "## 🔍 Procesamiento de Lenguaje Natural (NLP)\n",
    "\n",
    "* **🧠 sentence-transformers:** Biblioteca que permite generar embeddings semánticos de textos. Generalmente utilizada para tareas como clustering, recuperación semántica y comparación de oraciones.\n",
    "\n",
    "* **🧬 transformers (AutoTokenizer, AutoModelForSeq2SeqLM, pipeline):** Componentes clave de la librería Hugging Face Transformers:\n",
    "  - **AutoTokenizer:** Convierte texto a tokens entendibles por modelos.\n",
    "  - **AutoModelForSeq2SeqLM:** Carga modelos preentrenados para tareas de secuencia a secuencia.\n",
    "  - **pipeline:** Interfaz simplificada para aplicar tareas comunes con modelos preentrenados.\n",
    "\n",
    "* **🗣️ nltk & sent_tokenize:** `nltk` es una biblioteca para procesamiento de lenguaje natural. En este caso, se utiliza para **tokenizar texto en oraciones** mediante `sent_tokenize`, útil para dividir grandes textos en unidades más manejables.\n",
    "\n",
    "## 📐 Normalización de Vectores\n",
    "\n",
    "* **📐 normalize:** Se utiliza para escalar vectores de forma que tengan una norma unitaria. Es esencial para calcular similitudes de forma coherente entre vectores."
   ]
  },
  {
   "cell_type": "code",
   "execution_count": 2,
   "metadata": {
    "colab": {
     "base_uri": "https://localhost:8080/"
    },
    "id": "X2KsDfQ0BUh_",
    "outputId": "63512b81-ba0e-4711-c5cc-e03760cd2d49"
   },
   "outputs": [
    {
     "name": "stderr",
     "output_type": "stream",
     "text": [
      "[nltk_data] Downloading package punkt to /root/nltk_data...\n",
      "[nltk_data]   Unzipping tokenizers/punkt.zip.\n",
      "[nltk_data] Downloading package punkt_tab to /root/nltk_data...\n",
      "[nltk_data]   Unzipping tokenizers/punkt_tab.zip.\n"
     ]
    }
   ],
   "source": [
    "import os\n",
    "import fitz\n",
    "import faiss\n",
    "import pickle\n",
    "import numpy as np\n",
    "import re\n",
    "import nltk\n",
    "nltk.download(\"punkt\")\n",
    "nltk.download('punkt_tab')\n",
    "from nltk.tokenize import sent_tokenize\n",
    "from IPython.display import display, HTML\n",
    "from sentence_transformers import SentenceTransformer\n",
    "from transformers import AutoTokenizer, AutoModelForSeq2SeqLM, pipeline\n",
    "from sklearn.preprocessing import normalize"
   ]
  },
  {
   "cell_type": "markdown",
   "metadata": {
    "id": "tthhwfJhBo0o"
   },
   "source": [
    "## 📂 Archivos PDF y sus descripciones\n",
    "\n",
    "A continuación se enlistan los archivos a utilizar para el chatbot, junto con su tema principal y una berve descripción de su conrtenido.\n",
    "\n",
    "**1. empatia_comunicacion.pdf**\n",
    "* Tema: Empatía en la comunicación\n",
    "* Descripción: Describe el concepto de empatía desde el punto de vista cognitivo y emocional, destacando la importancia de las neuronas espejo y cómo la empatía mejora la calidad de la comunicación interpersonal. Incluye técnicas como la escucha activa, actitud de apertura y rechazo de prejuicios\n",
    "\n",
    "\n",
    "**2. primeras-paginas-lo-mejor-de-tu-vida-es.pdf**\n",
    "* Tema: Autoestima y confianza personal\n",
    "* Descripción: Fragmento del libro de Ma. Jesús Álava Reyes. Enfatiza la importancia de confiar en uno mismo para alcanzar la felicidad. Incluye reflexiones, testimonios y capítulos orientados al desarrollo de la autoconfianza y la superación del sufrimiento emocional\n",
    "\n",
    "\n",
    "**3. Guia de Primeros Auxilios Psicológicos_Integra.pdf**\n",
    "* Tema: Primeros Auxilios Psicológicos (PAP)\n",
    "* Descripción: Guía orientada a personas en movilidad humana. Explica qué es una crisis psicológica, cómo se manifiesta, tipos de intervención, principios del PAP, y autocuidado del personal interviniente. Incluye técnicas como escucha empática, estabilización y contención emocional\n",
    "\n",
    "\n",
    "**4. depresion.pdf**\n",
    "* Tema: Depresión\n",
    "* Descripción: Documento del National Institute of Mental Health. Define la depresión, sus síntomas, causas, tipos (mayor, distimia, estacional, posparto, etc.), diagnóstico y tratamientos (psicoterapia, medicamentos, terapia de estimulación cerebral)\n",
    "\n",
    "\n",
    "**5. Abre-tu-mente-modo-positivo-salud-mental.pdf**\n",
    "* Tema: Promoción de salud mental en jóvenes\n",
    "* Descripción: Guía educativa dirigida a docentes y familias. Aborda temas como salud mental, adolescencia, estilo de vida saludable, relaciones sociales, emociones, inteligencia emocional y prevención de problemas de salud mental.\n",
    "\n",
    "\n",
    "**6. AtencionPrimAmb1988_spa.pdf**\n",
    "* Tema: Atención Primaria Ambiental (APA)\n",
    "* Descripción: Publicación de la OPS que presenta el concepto de APA. Ofrece un enfoque holístico para mejorar el ambiente y la salud pública. Incluye marco conceptual, principios, problemas ambientales locales, participación ciudadana y organización de centros APA\n",
    "\n",
    "\n",
    "**7. 9789243548203_spa.pdf**\n",
    "* Tema: Primera Ayuda Psicológica (OMS)\n",
    "* Descripción: Guía práctica para trabajadores de campo en situaciones de emergencia. Define PAP, principios de acción (observar, escuchar, conectar), cómo ayudar de forma responsable y cómo cuidarse como interviniente. Incluye ejercicios y casos simulados\n",
    "\n",
    "\n",
    "**8. empatia.pdf**\n",
    "* Tema: Empatía y neurociencia\n",
    "* Descripción: Presentación sobre empatía desde una perspectiva emocional, cognitiva y neurocientífica.\n",
    "\n",
    "\n",
    "**9. Guiasautoayudadepresionansiedad.pdf**\n",
    "* Tema: Autoayuda para depresión y ansiedad\n",
    "* Descripción: Conjunto de guías del Servicio Andaluz de Salud. Contienen información y actividades sobre depresión, ansiedad, duelo, autoestima, control de pensamientos, técnicas de relajación, afrontamiento del estrés, etcértera."
   ]
  },
  {
   "cell_type": "markdown",
   "metadata": {
    "id": "muh29EoTYcDI"
   },
   "source": [
    "## 📁 Creación de Carpeta y Descarga Condicional de Archivos\n",
    "\n",
    "Este bloque de código verifica si existe una carpeta llamada `pdf` en el entorno (`/content/pdf`) y realiza las siguientes acciones:\n",
    "\n",
    "* 🗂️ **Crea la carpeta si no existe**, asegurando el espacio necesario para almacenar los archivos PDF.\n",
    "* 🔍 **Verifica si la carpeta está vacía**:\n",
    "  - Si está vacía, **descarga los archivos desde una carpeta pública en Google Drive** usando `gdown`.\n",
    "  - Si ya contiene archivos, **omite la descarga** para evitar redundancias."
   ]
  },
  {
   "cell_type": "code",
   "execution_count": 3,
   "metadata": {
    "colab": {
     "base_uri": "https://localhost:8080/"
    },
    "id": "qD_iRBEQcHj9",
    "outputId": "d8a894b5-c41d-4556-c556-2c7877720233"
   },
   "outputs": [
    {
     "name": "stdout",
     "output_type": "stream",
     "text": [
      "✅ Carpeta creada: /content/pdf\n",
      "📥 La carpeta está vacía. Iniciando descarga de contenidos...\n",
      "Retrieving folder contents\n",
      "Processing file 1kG5IIlGvSiQ0ssXATpeObGRZbFwf58QP 9789243548203_spa.pdf\n",
      "Processing file 1Xjx71RvGUBeujBbI8UKlqrQmq7YHm-ta Abre-tu-mente-modo-positivo-salud-mental.pdf\n",
      "Processing file 1RqMKjObfW74KOjsigrp5yEGyfQ7CHhqc AtencionPrimAmb1988_spa.pdf\n",
      "Processing file 1RY6Te6pvkc_4YpVYnbUBvm___1gpdoH6 depresion.pdf\n",
      "Processing file 1G-pEX_H2UXOZitt7cfjTLZgEAnDmfFIe empatia_comunicacion.pdf\n",
      "Processing file 1wmn6s6ydyh23PFVIdr1UsaQoJDXO7ouk empatia.pdf\n",
      "Processing file 1Yg0JTjMj6UWECVpuOBlB13zMm9pid-J0 Guia de Primeros Auxilios Psicológicos_Integra.pdf\n",
      "Processing file 1hRSuv2xQ5BurzmlZylc3zB7YzgtWaAil Guiasautoayudadepresionansiedad.pdf\n",
      "Processing file 1yGMaILcMOQmZYkLu0vys0deRj5dqt7UP primeras-paginas-primeras-paginas-lo-mejor-de-tu-vida-es.pdf\n",
      "Retrieving folder contents completed\n",
      "Building directory structure\n",
      "Building directory structure completed\n",
      "Downloading...\n",
      "From: https://drive.google.com/uc?id=1kG5IIlGvSiQ0ssXATpeObGRZbFwf58QP\n",
      "To: /content/pdf/9789243548203_spa.pdf\n",
      "100% 5.17M/5.17M [00:00<00:00, 17.5MB/s]\n",
      "Downloading...\n",
      "From: https://drive.google.com/uc?id=1Xjx71RvGUBeujBbI8UKlqrQmq7YHm-ta\n",
      "To: /content/pdf/Abre-tu-mente-modo-positivo-salud-mental.pdf\n",
      "100% 3.82M/3.82M [00:00<00:00, 97.4MB/s]\n",
      "Downloading...\n",
      "From: https://drive.google.com/uc?id=1RqMKjObfW74KOjsigrp5yEGyfQ7CHhqc\n",
      "To: /content/pdf/AtencionPrimAmb1988_spa.pdf\n",
      "100% 5.19M/5.19M [00:00<00:00, 19.1MB/s]\n",
      "Downloading...\n",
      "From: https://drive.google.com/uc?id=1RY6Te6pvkc_4YpVYnbUBvm___1gpdoH6\n",
      "To: /content/pdf/depresion.pdf\n",
      "100% 2.81M/2.81M [00:00<00:00, 66.8MB/s]\n",
      "Downloading...\n",
      "From: https://drive.google.com/uc?id=1G-pEX_H2UXOZitt7cfjTLZgEAnDmfFIe\n",
      "To: /content/pdf/empatia_comunicacion.pdf\n",
      "100% 195k/195k [00:00<00:00, 106MB/s]\n",
      "Downloading...\n",
      "From: https://drive.google.com/uc?id=1wmn6s6ydyh23PFVIdr1UsaQoJDXO7ouk\n",
      "To: /content/pdf/empatia.pdf\n",
      "100% 23.6M/23.6M [00:00<00:00, 44.6MB/s]\n",
      "Downloading...\n",
      "From: https://drive.google.com/uc?id=1Yg0JTjMj6UWECVpuOBlB13zMm9pid-J0\n",
      "To: /content/pdf/Guia de Primeros Auxilios Psicológicos_Integra.pdf\n",
      "100% 941k/941k [00:00<00:00, 19.4MB/s]\n",
      "Downloading...\n",
      "From: https://drive.google.com/uc?id=1hRSuv2xQ5BurzmlZylc3zB7YzgtWaAil\n",
      "To: /content/pdf/Guiasautoayudadepresionansiedad.pdf\n",
      "100% 21.5M/21.5M [00:00<00:00, 37.8MB/s]\n",
      "Downloading...\n",
      "From: https://drive.google.com/uc?id=1yGMaILcMOQmZYkLu0vys0deRj5dqt7UP\n",
      "To: /content/pdf/primeras-paginas-primeras-paginas-lo-mejor-de-tu-vida-es.pdf\n",
      "100% 161k/161k [00:00<00:00, 104MB/s]\n",
      "Download completed\n"
     ]
    }
   ],
   "source": [
    "# Crear la carpeta \"pdf\" si es que no existe\n",
    "folder_path = \"/content/pdf\"\n",
    "if not os.path.exists(folder_path):\n",
    "    os.makedirs(folder_path)\n",
    "    print(f\"✅ Carpeta creada: {folder_path}\")\n",
    "else:\n",
    "    print(f\"📁 La carpeta ya existe: {folder_path}\")\n",
    "\n",
    "# Revisar si la carpeta está vacía y descargar los archivos de la misma. Si no, saltar descarga.\n",
    "if not os.listdir(folder_path):\n",
    "    print(\"📥 La carpeta está vacía. Iniciando descarga de contenidos...\")\n",
    "    folder_url = \"https://drive.google.com/drive/folders/1WxKzp5YHdhS4hf47zFUScL9FHpRSaexE?usp=sharing\"\n",
    "    !gdown --folder {folder_url} -O {folder_path}\n",
    "else:\n",
    "    print(\"✅ La carpeta ya tiene contenidos. Se omite la descarga.\")"
   ]
  },
  {
   "cell_type": "markdown",
   "metadata": {
    "id": "z9J9Y_yWYlE3"
   },
   "source": [
    "## 📄 Extracción y Visualización de Contenido de Archivos PDF\n",
    "\n",
    "Este bloque realiza la lectura, procesamiento y previsualización del contenido de archivos PDF utilizando PyMuPDF (`fitz`):\n",
    "\n",
    "* **📥 `extract_text_from_pdf(file_path)`**  \n",
    "  Función que **abre un archivo PDF y concatena el texto de todas sus páginas** en un solo string, utilizando `fitz` para extraer el texto página por página.\n",
    "\n",
    "* **📂 Procesamiento de archivos PDF**  \n",
    "  Recorre todos los archivos dentro de la carpeta `/content/pdf`, aplica la función anterior y guarda los resultados en un diccionario `pdf_texts` con la estructura `{nombre_archivo: texto_extraído}`.\n",
    "\n",
    "* **👀 Previsualización de contenido**  \n",
    "  Por cada archivo procesado, **muestra los primeros 100 caracteres del contenido extraído**, lo cual permite verificar rápidamente si la extracción fue exitosa y si el contenido es legible."
   ]
  },
  {
   "cell_type": "code",
   "execution_count": 4,
   "metadata": {
    "colab": {
     "base_uri": "https://localhost:8080/"
    },
    "id": "sX3Ea3jlghLf",
    "outputId": "5e1a2a45-f496-423d-8f25-f886cb545889"
   },
   "outputs": [
    {
     "name": "stdout",
     "output_type": "stream",
     "text": [
      ">>> Desplegando previzualización del contenido del archivo 📚[Guia de Primeros Auxilios Psicológicos_Integra.pdf]:\n",
      "\n",
      "Guía de Primeros Auxilios \n",
      "Psicológicos (PAP) a personas en \n",
      "situación de movilidad humana\n",
      "Guía de P\n",
      "================================================================================\n",
      ">>> Desplegando previzualización del contenido del archivo 📚[Abre-tu-mente-modo-positivo-salud-mental.pdf]:\n",
      "\n",
      "1\n",
      "GUÍA PARA\n",
      "DOCENTES Y FAMILIAS\n",
      "PROMOCIÓN DE SALUD\n",
      "MENTAL EN JÓVENES\n",
      "PROMOCIÓN DE SALUD MENTAL EN JÓ\n",
      "================================================================================\n",
      ">>> Desplegando previzualización del contenido del archivo 📚[empatia_comunicacion.pdf]:\n",
      "\n",
      "1\n",
      "Empatía en la comunicación \n",
      "La empatía en la comunicación es fundamental para lograr una conexión \n",
      "================================================================================\n",
      ">>> Desplegando previzualización del contenido del archivo 📚[9789243548203_spa.pdf]:\n",
      "\n",
      "Primera ayuda psicológica:  Guía para trabajadores de \n",
      "campo\n",
      "Catalogación por la Biblioteca de la OM\n",
      "================================================================================\n",
      ">>> Desplegando previzualización del contenido del archivo 📚[primeras-paginas-primeras-paginas-lo-mejor-de-tu-vida-es.pdf]:\n",
      "\n",
      "Lo mejor de tu vida eres tú\n",
      "Confía en la fuerza de tus emociones\n",
      "M.ª Jesús Álava Reyes\n",
      "Índice\n",
      "Agrade\n",
      "================================================================================\n",
      ">>> Desplegando previzualización del contenido del archivo 📚[Guiasautoayudadepresionansiedad.pdf]:\n",
      "\n",
      "PARA LA DEPRESIÓN Y LOS TRASTORNOS DE ANSIEDAD\n",
      "PARA LA DEPRESIÓN Y LOS TRASTORNOS DE ANSIEDAD\n",
      "Servic\n",
      "================================================================================\n",
      ">>> Desplegando previzualización del contenido del archivo 📚[empatia.pdf]:\n",
      "\n",
      "EMPATÍA\n",
      "EL ARTE DE COMPRENDER EMOCIONES\n",
      "EMPATÍA\n",
      "EL ARTE DE COMPRENDER EMOCIONES\n",
      "3\n",
      " Mahatma G a n d h\n",
      "================================================================================\n",
      ">>> Desplegando previzualización del contenido del archivo 📚[AtencionPrimAmb1988_spa.pdf]:\n",
      "\n",
      "Organización Panamericana de la Salud \n",
      "#k' Organización Mundial de la Salud \n",
      "División de Salud y Amb\n",
      "================================================================================\n",
      ">>> Desplegando previzualización del contenido del archivo 📚[depresion.pdf]:\n",
      "\n",
      "Depresión \n",
      " \n",
      "¿Qué es la depresión?\n",
      "Todas las personas se sienten tristes o decaídas de vez en cuando\n",
      "================================================================================\n"
     ]
    }
   ],
   "source": [
    "# Función para extraer y concatenar el texto de todas las páginas de un archivo PDF usando PyMuPDF (fitz)\n",
    "def extract_text_from_pdf(file_path):\n",
    "    doc = fitz.open(file_path)\n",
    "    text = \"\"\n",
    "    for page in doc:\n",
    "        text += page.get_text()\n",
    "    return text\n",
    "\n",
    "# Procesar todos los archivos PDF subidos\n",
    "pdf_texts = {}\n",
    "for filename in os.listdir(folder_path):\n",
    "      file_path = os.path.join(folder_path, filename)\n",
    "      text = extract_text_from_pdf(file_path)\n",
    "      pdf_texts[filename] = text\n",
    "\n",
    "# Mostrar los primeros 1000 caracteres de un archivo\n",
    "for name, content in pdf_texts.items():\n",
    "    print(f\">>> Desplegando previzualización del contenido del archivo 📚[{name}]:\\n\")\n",
    "    print(content[:100])\n",
    "    print(\"=\" * 80)"
   ]
  },
  {
   "cell_type": "markdown",
   "metadata": {
    "id": "PnyBkpRL3EyE"
   },
   "source": [
    "## 🧠 Carga de Modelo de Embeddings Multilingüe\n",
    "\n",
    "📦 A continuación se carga un modelo preentrenado de la librería `sentence-transformers`, en este caso, se realizaron pruebas con  **paraphrase-multilingual-mpnet-base-v2** y su contraparte **paraphrase-multilingual-mpnet-base-v2**. Este modelo genera *embeddings* (representaciones vectoriales) de frases o textos para tareas de similitud semántica, búsqueda y agrupamiento.\n",
    "\n",
    "---\n",
    "\n",
    "### ✅ Comparativa entre modelos\n",
    "\n",
    "| Característica                          | `MiniLM-L12-v2`                             | `mpnet-base-v2`                                |\n",
    "|----------------------------------------|---------------------------------------------|------------------------------------------------|\n",
    "| 🌍 **Multilingüe**                      |  Soporta +50 idiomas                      |  Soporta +50 idiomas                         |\n",
    "| ⚡ **Velocidad y eficiencia**           |  Muy rápido y ligero (ideal sin GPU)      |  Más pesado, requiere más recursos           |\n",
    "| 🔍 **Precisión semántica**              |  Buena para tareas generales              |  Superior en tareas de similitud y ranking   |\n",
    "| 🧠 **Arquitectura**                     | MiniLM (más compacta)                       | MPNet (más compleja y precisa)                 |\n",
    "| 🧪 **Uso recomendado**                  | Casos con restricciones computacionales     | Casos donde se prioriza mayor precisión        |\n",
    "\n",
    "---\n",
    "\n",
    " Si se busca **velocidad y ligereza**, el modelo `MiniLM-L12-v2` es una excelente opción.  \n",
    "Pero si se requiere **mayor precisión semántica**, especialmente en tareas exigentes como recuperación de información o *clustering* fino, `mpnet-base-v2` ofrece un rendimiento superior, aunque a costa de mayor consumo computacional.\n",
    "\n",
    "En el caso particular de este chatbot, se eligió como ganador **`mpnet-base-v2`**. Más adelante se presentarán las comparativas que nos llevaron a tomar esta decisión.\n"
   ]
  },
  {
   "cell_type": "code",
   "execution_count": 5,
   "metadata": {
    "colab": {
     "base_uri": "https://localhost:8080/",
     "height": 473,
     "referenced_widgets": [
      "a89ae94c1beb4584b0bb5f7da0732bb9",
      "3ea55293d3a945a3951e1d5d15bca606",
      "fb88975e28cd4e8d8fdc9f466c11a1ed",
      "48b85434f77548ca9cd13c29b3b9431f",
      "760b2b0fb3ba41c7b28d23e9e8e58638",
      "23401ebb15054195ba3421dc2f63b897",
      "88c9172409f44db0952c4e23242f4e13",
      "e0d32e8422734060a49eba5bb5b2faff",
      "c6668c678a9f4131b38e491326ec84df",
      "bfa1fe243cfa48838b5d0e538c23ccba",
      "23808eeeeec141adb228b9d5618f7a33",
      "d791982e6e064f23a38b29995de07aae",
      "a816642e98984ec480475aafffab3a59",
      "8bceb8a1f25d499e946e00de47a8cb87",
      "5666bfb08a0b4d84872581f5f46393d3",
      "dcce5aae30f0445aafc19f2e3df79073",
      "bb05b3c6bedf473e9d976bb57c89ddd6",
      "21fc93e6367c46828e7b1994211df9c8",
      "7909015658574ea3bd433997846f6af3",
      "2597b213e41c4073b299b075fa41ede2",
      "c1d088ff5cb24dd8bfd6c2967f20cc6c",
      "7a52a4ad9c3a467c859728edab444b8c",
      "d0de7df47474465495769851f8189568",
      "d556e5fdcad440f883a392585783a685",
      "93d36f3e95454eaf8ef3d8c82fa59fa0",
      "4a02addd20ac44f9a5d247e858f3a810",
      "31c370b604ff46898a3a72212461d28c",
      "62376e69e7bf4ae18983a1d0d43cdd6c",
      "3c3209f281c6418581548bacff70b862",
      "cf73822d669341798bb830b0f8e325f5",
      "f38ad29a5b154144956f80b86167adec",
      "a07201017ea94bf6b8058d1bf421faff",
      "980cd98974dc494eabbe52298ff0280a",
      "d6edd89ab35b48d489ac30b23365e090",
      "cf23f527d886408a9d6fdff61dbf2461",
      "c6b028f46b6247fc859473c58d2a055b",
      "99f02a145b25410898b70cf1fcfb55f8",
      "e130b53d31014676bacc4f2e3f646c67",
      "5da77e6c893d4636b791b34ec3a7526f",
      "ccf3ae57010c4006b7589f33876a6dd1",
      "121bca1f53584f9ca6a5b49150b2876d",
      "c11c71435b78423983e7d021c8502024",
      "3f4c5655c2d74a298bdb6c2e9bea957a",
      "1de225bc2dcc45d795f44dc6abd25433",
      "34d8b52320254dc086dcdbc91102f141",
      "5e953470dfbc41f695d7674de37ec41e",
      "8bef2d4bbad14bfab20626430b3370cc",
      "62e23da3110f40158890bf2806b4f459",
      "36c4a28671e045d6b52c6aac9c23317f",
      "2c4f118706a6461aaa6e8cf6eef9825c",
      "2091212539bb4a81b50819048f75f24a",
      "7d2f84f2e81543b5b25189b1ce64be93",
      "c0de8480bb224a808b8790471246fd89",
      "affdfac12ebc48fbada6aadcf4ee7bd2",
      "cdba89eb93684af0899c6811bbf6ef0c",
      "b9a3764952d14e6a9d2c1a0650df4daa",
      "32411d5fd4524eb89fdcdf3b4c476b66",
      "3051951d2fc0474b887cfd09e2bdf8f4",
      "161236f71cb64e4c8ab4e5f56653cf17",
      "764a5aa2338c46b1bc9beca4012ce830",
      "745fe766441d4912b732bd2eb9cc0c94",
      "83f0b25a783b41fa9631cb107c4a7c5f",
      "5178269ea2044420b283bce3b9e419c1",
      "98dd563750f44e288d16b75111c6211d",
      "0f9397adb4784a88bc43e665e8a67631",
      "895e0025dafe416a9d6cde744a967b07",
      "404b41fc4ce244a192396906f5adfef4",
      "084e4307e6284eba8a83edea9955aece",
      "1069740944ff41d2b07f446c740d97da",
      "8b92dcc50da74e5eb85a0c4d71c46c81",
      "deced17d572f4923ab0a87663a55cd8f",
      "addd157e468c49ae99386c957204cbd4",
      "f1a71b346ac142e5b78e32a3196c86cc",
      "c1226abce15b47369bb5aca932958a37",
      "abfe3e68fd9642748d16b279cc3e51ee",
      "6e59cea18d96493997237c3b8c87ed48",
      "7e8247edd27244b6b8c9b26e5a122829",
      "6af8d37215c34aa382ee10184cb53b94",
      "aaf9d283ab9d43f59238cb26b05f0e4a",
      "b268c858aa364d1fbacfa8c46239919e",
      "236c715dcb5f457fbb2fea9d3f4f225e",
      "f998843c532244cf84e47c2d02abc929",
      "f29842b0e7674a069d0c4122faa066b5",
      "e8476869f62447a1beec11adb79fbb9a",
      "cc33e25d40aa4d898a4e622a5806fdca",
      "0c5892d7b64e45148dff8859919527c2",
      "81b650c7ca394931904df4d1fdfe3879",
      "3e0b920e4c3e4639badf609216f5e954",
      "2928fa5f6aba429abcd10271e56708d8",
      "e03a5f34f26e47fb9a1e6893a46a2638",
      "5b6d5ff102844edf82fdaedcbf3018f8",
      "99ea856280d3447a858d5bdce885f085",
      "5fece050341140a58c2737c9a4972484",
      "e8d02fc73b284a0db6d1266061bc9687",
      "da43f8245d3a47be81a36bcec8c52239",
      "3f55aee8a6c94c2daaeb00c9fec573f6",
      "a13df09ac66e4cd6aef5e89d1ab80362",
      "77703903d7da4be8b569a359ced4416c",
      "fbf4601031e1477da6a0a4fd0862f8df",
      "6bee865ab6394cfab9c29b6badd765db",
      "55bcdb1e23924d3484d1cc8d0eff738d",
      "b12ef83e791f4cf9aa0e3dee6362596d",
      "6989f10d34bb40109274593a3deffff9",
      "6fe4d6bf0c794a89ab03f302cc64fbb9",
      "bf74ef0a2a9548d8870ba0a9d6feff4b",
      "71da446b9bd240c89369156e651faa79",
      "6853634c59b14f2c917a89196693b4cc",
      "1e65e7f40eb04cdcae34c4f167b11593",
      "ea4c8de347bf41cd99a1cfd85047a783",
      "06a5f7c727a84c2f837a9d3c30524f77",
      "7d9aa585df0f4c1f8a02e982e9d61bf0",
      "97e4836263ac4972844eb160bc90f358",
      "45cc836b391049faa4e76af647d8afe8",
      "302a17924e754ec2a6087be7c0dd3672",
      "206e51cefd2b4408b33e91fa58f16a3d",
      "2d98b16ab6f84ed0ae18c20e2a09e754",
      "24c4385c34ee47698b9e0785e40f80e6",
      "970aa652f58247a98a6ea1f6c9478ea6",
      "deded158bc6d4b048383cdca4bddbb7e",
      "a626358223394682b079327f105c9aa0",
      "16e92360471f4141b26a643f4ac07d6e"
     ]
    },
    "id": "Bfs5Zxc9j7Uf",
    "outputId": "ae596d47-d372-4ec4-826a-821b268bc99e"
   },
   "outputs": [
    {
     "name": "stderr",
     "output_type": "stream",
     "text": [
      "/usr/local/lib/python3.11/dist-packages/huggingface_hub/utils/_auth.py:94: UserWarning: \n",
      "The secret `HF_TOKEN` does not exist in your Colab secrets.\n",
      "To authenticate with the Hugging Face Hub, create a token in your settings tab (https://huggingface.co/settings/tokens), set it as secret in your Google Colab and restart your session.\n",
      "You will be able to reuse this secret in all of your notebooks.\n",
      "Please note that authentication is recommended but still optional to access public models or datasets.\n",
      "  warnings.warn(\n"
     ]
    },
    {
     "data": {
      "application/vnd.jupyter.widget-view+json": {
       "model_id": "a89ae94c1beb4584b0bb5f7da0732bb9",
       "version_major": 2,
       "version_minor": 0
      },
      "text/plain": [
       "modules.json:   0%|          | 0.00/229 [00:00<?, ?B/s]"
      ]
     },
     "metadata": {},
     "output_type": "display_data"
    },
    {
     "data": {
      "application/vnd.jupyter.widget-view+json": {
       "model_id": "d791982e6e064f23a38b29995de07aae",
       "version_major": 2,
       "version_minor": 0
      },
      "text/plain": [
       "config_sentence_transformers.json:   0%|          | 0.00/122 [00:00<?, ?B/s]"
      ]
     },
     "metadata": {},
     "output_type": "display_data"
    },
    {
     "data": {
      "application/vnd.jupyter.widget-view+json": {
       "model_id": "d0de7df47474465495769851f8189568",
       "version_major": 2,
       "version_minor": 0
      },
      "text/plain": [
       "README.md:   0%|          | 0.00/3.90k [00:00<?, ?B/s]"
      ]
     },
     "metadata": {},
     "output_type": "display_data"
    },
    {
     "data": {
      "application/vnd.jupyter.widget-view+json": {
       "model_id": "d6edd89ab35b48d489ac30b23365e090",
       "version_major": 2,
       "version_minor": 0
      },
      "text/plain": [
       "sentence_bert_config.json:   0%|          | 0.00/53.0 [00:00<?, ?B/s]"
      ]
     },
     "metadata": {},
     "output_type": "display_data"
    },
    {
     "data": {
      "application/vnd.jupyter.widget-view+json": {
       "model_id": "34d8b52320254dc086dcdbc91102f141",
       "version_major": 2,
       "version_minor": 0
      },
      "text/plain": [
       "config.json:   0%|          | 0.00/723 [00:00<?, ?B/s]"
      ]
     },
     "metadata": {},
     "output_type": "display_data"
    },
    {
     "data": {
      "application/vnd.jupyter.widget-view+json": {
       "model_id": "b9a3764952d14e6a9d2c1a0650df4daa",
       "version_major": 2,
       "version_minor": 0
      },
      "text/plain": [
       "model.safetensors:   0%|          | 0.00/1.11G [00:00<?, ?B/s]"
      ]
     },
     "metadata": {},
     "output_type": "display_data"
    },
    {
     "data": {
      "application/vnd.jupyter.widget-view+json": {
       "model_id": "404b41fc4ce244a192396906f5adfef4",
       "version_major": 2,
       "version_minor": 0
      },
      "text/plain": [
       "tokenizer_config.json:   0%|          | 0.00/402 [00:00<?, ?B/s]"
      ]
     },
     "metadata": {},
     "output_type": "display_data"
    },
    {
     "data": {
      "application/vnd.jupyter.widget-view+json": {
       "model_id": "6af8d37215c34aa382ee10184cb53b94",
       "version_major": 2,
       "version_minor": 0
      },
      "text/plain": [
       "sentencepiece.bpe.model:   0%|          | 0.00/5.07M [00:00<?, ?B/s]"
      ]
     },
     "metadata": {},
     "output_type": "display_data"
    },
    {
     "data": {
      "application/vnd.jupyter.widget-view+json": {
       "model_id": "2928fa5f6aba429abcd10271e56708d8",
       "version_major": 2,
       "version_minor": 0
      },
      "text/plain": [
       "tokenizer.json:   0%|          | 0.00/9.08M [00:00<?, ?B/s]"
      ]
     },
     "metadata": {},
     "output_type": "display_data"
    },
    {
     "data": {
      "application/vnd.jupyter.widget-view+json": {
       "model_id": "6bee865ab6394cfab9c29b6badd765db",
       "version_major": 2,
       "version_minor": 0
      },
      "text/plain": [
       "special_tokens_map.json:   0%|          | 0.00/239 [00:00<?, ?B/s]"
      ]
     },
     "metadata": {},
     "output_type": "display_data"
    },
    {
     "data": {
      "application/vnd.jupyter.widget-view+json": {
       "model_id": "7d9aa585df0f4c1f8a02e982e9d61bf0",
       "version_major": 2,
       "version_minor": 0
      },
      "text/plain": [
       "config.json:   0%|          | 0.00/190 [00:00<?, ?B/s]"
      ]
     },
     "metadata": {},
     "output_type": "display_data"
    }
   ],
   "source": [
    "# Cargando modelo preentrenado\n",
    "#model_sentence = SentenceTransformer(\"sentence-transformers/paraphrase-multilingual-MiniLM-L12-v2\")\n",
    "model_sentence = SentenceTransformer(\"sentence-transformers/paraphrase-multilingual-mpnet-base-v2\")"
   ]
  },
  {
   "cell_type": "markdown",
   "metadata": {
    "id": "WqHZsyC_ZmNK"
   },
   "source": [
    "## ✂️ División Semántica de Texto por Oraciones\n",
    "\n",
    "Esta función divide un texto en fragmentos **respetando los límites de tokens y las fronteras semánticas de las oraciones**, usando `sent_tokenize()` de NLTK.\n",
    "\n",
    "### ⚙️ ¿Cómo funciona?\n",
    "* 🧠 Divide el texto en oraciones individuales.\n",
    "* 📦 Agrupa las oraciones en bloques cuya **longitud no supere `max_tokens` (por defecto 25 palabras)**.\n",
    "* 🔁 Aplica **solapamiento configurable (`overlap`)** entre bloques, preservando coherencia contextual entre fragmentos.\n",
    "* ✅ Devuelve una lista de bloques listos para análisis semántico, embeddings o respuestas de chatbot."
   ]
  },
  {
   "cell_type": "code",
   "execution_count": 6,
   "metadata": {
    "id": "QRStndlYL_hD"
   },
   "outputs": [],
   "source": [
    "# CHUNKING SEMANTICO CON NLTK\n",
    "# Función para dividir el texto en fragmentos (oraciones)\n",
    "def split_text_semantic(text, max_tokens=25, overlap=1):\n",
    "    sentences = sent_tokenize(text)\n",
    "    chunks = []\n",
    "    current_chunk = []\n",
    "    current_len = 0\n",
    "    for sentence in sentences:\n",
    "        token_count = len(sentence.split())\n",
    "        if current_len + token_count > max_tokens:\n",
    "            chunks.append(\" \".join(current_chunk))\n",
    "            current_chunk = current_chunk[-overlap:] if overlap > 0 else []\n",
    "            current_len = sum(len(s.split()) for s in current_chunk)\n",
    "        current_chunk.append(sentence)\n",
    "        current_len += token_count\n",
    "\n",
    "    if current_chunk:\n",
    "        chunks.append(\" \".join(current_chunk))\n",
    "\n",
    "    return chunks\n",
    "\n",
    "# Función para dividir el texto en fragmentos (chunks) - NOT USED\n",
    "def split_text(text, chunk_size=500, overlap=50): ##chunk_size=5000, overlap=50)\n",
    "    chunks = []\n",
    "    for i in range(0, len(text), chunk_size - overlap):\n",
    "        chunks.append(text[i:i + chunk_size])\n",
    "    return chunks"
   ]
  },
  {
   "cell_type": "markdown",
   "metadata": {
    "id": "BsckZ09AxzBA"
   },
   "source": [
    "## 🧠 Fragmentación, Vectorización y Creación del Índice Semántico\n",
    "\n",
    "* **Fragmenta textos PDF, genera sus embeddings y construye un índice FAISS para habilitar búsquedas semánticas en un chatbot.**\n",
    "\n",
    "### ⚙️ ¿Cómo funciona?\n",
    "\n",
    "* 🧩 **Fragmentación semántica de documentos**  \n",
    "  Recorre los textos extraídos de los PDFs y los divide en fragmentos utilizando `split_text_semantic`, que respeta los límites de oración y evita cortes arbitrarios. Luego, cada fragmento se guarda junto con su metadato correspondiente (nombre del archivo y contenido del fragmento).\n",
    "  **NOTA:**\n",
    "Se probaron diferentes valores de `max_tokens` para mejorar el resultado de la respuesta.\n",
    "Al usar modelos robustos (como `mpnet-base-v2`) y al requerir comprensión de contexto completo, aumentar max_tokens es conveniente (en este caso, `max_tokens=100`), a comparación de modelos más pequeños como, conviene dejar max_tokens bajo (se dejó `max_tokens=25` como default).\n",
    "\n",
    "* 🧬 **Generación y normalización de embeddings**  \n",
    "  Los fragmentos generados se convierten en vectores semánticos (embeddings) mediante un modelo de `sentence-transformers`. A continuación, se normalizan para que todos tengan norma unitaria, lo cual es necesario para aplicar similitud coseno correctamente.\n",
    "\n",
    "* 🧭 **Construcción del índice FAISS**  \n",
    "  Se crea un índice FAISS utilizando `IndexFlatIP`, diseñado para trabajar con similitud coseno entre vectores normalizados. Luego se agregan todos los embeddings al índice para habilitar búsquedas rápidas y precisas.\n",
    "\n",
    "Este flujo pemrite que el chatbot pueda realizar búsquedas semánticas inteligentes y responder preguntas con base en el contenido de múltiples documentos PDF.\n",
    "\n"
   ]
  },
  {
   "cell_type": "code",
   "execution_count": 7,
   "metadata": {
    "colab": {
     "base_uri": "https://localhost:8080/",
     "height": 49,
     "referenced_widgets": [
      "2eaeca923f6446caaee02f558537114f",
      "4fce77af4c9047ed9e2c2c8e2737f142",
      "73b592defd514cb9980d97f66544e5b2",
      "6f436dad41cc447389400acfcddc92c6",
      "c79d6d16b17e449692c0f5c2842bb181",
      "96a6f2bab5ff45a59f90879a8bff346b",
      "bd3b025ca8a444d2a476df04281e8c49",
      "4a1078b030734431a7659af866e6ed07",
      "f4095c7f46a5496f8d91cb5cfa081df5",
      "4b14dcd168564564a8dea416e500ab6e",
      "63ffdf742b91406785f3eadfc02bd3f5"
     ]
    },
    "id": "CikjqV0MiO0L",
    "outputId": "f31d4899-f356-4614-b0ca-cc7885bffb7f"
   },
   "outputs": [
    {
     "data": {
      "application/vnd.jupyter.widget-view+json": {
       "model_id": "2eaeca923f6446caaee02f558537114f",
       "version_major": 2,
       "version_minor": 0
      },
      "text/plain": [
       "Batches:   0%|          | 0/67 [00:00<?, ?it/s]"
      ]
     },
     "metadata": {},
     "output_type": "display_data"
    }
   ],
   "source": [
    "# Recorrer todos los archivos PDF, divide su contenido en fragmentos,\n",
    "# y guarda tanto los textos como los metadatos (nombre del archivo y texto del fragmento)\n",
    "all_chunks = []\n",
    "metadata = []\n",
    "for filename, text in pdf_texts.items():\n",
    "    #chunks = split_text(text)\n",
    "    chunks = split_text_semantic(text, max_tokens=100)\n",
    "    all_chunks.extend(chunks)\n",
    "    metadata.extend([{\"source\": filename, \"text\": chunk} for chunk in chunks])\n",
    "\n",
    "# Crear embeddings\n",
    "embeddings = model_sentence.encode(all_chunks, show_progress_bar=True)\n",
    "embeddings = normalize(embeddings, axis=1)  # normalizar para usar cosine similarity (IndexFlatIP)\n",
    "\n",
    "# Crear índice FAISS\n",
    "dimension = embeddings.shape[1]\n",
    "#index = faiss.IndexFlatL2(dimension)\n",
    "index = faiss.IndexFlatIP(dimension) # Se usa IndexFlatIP oara cosine similatiry\n",
    "index.add(np.array(embeddings))"
   ]
  },
  {
   "cell_type": "markdown",
   "metadata": {
    "id": "GLr68Bo-yI9T"
   },
   "source": [
    "## 💾 Guardado del Índice y Metadatos\n",
    "\n",
    "* **Guarda el índice FAISS y los metadatos para reutilizarlos sin reprocesar los documentos.**\n",
    "\n",
    "### ⚙️ ¿Cómo funciona?\n",
    "\n",
    "* 🧭 **Guardar el índice FAISS**  \n",
    "  Se almacena el índice generado en un archivo `.faiss`, lo que permite reutilizarlo en futuras sesiones sin tener que volver a generar todos los embeddings y reconstruir el índice desde cero.\n",
    "\n",
    "* 🗂️ **Guardar los metadatos**  \n",
    "  Los metadatos (información del fragmento y su documento de origen) se guardan en un archivo `.pkl` usando `pickle`. Esto es esencial para que, al recuperar un fragmento desde el índice, el chatbot pueda identificar de qué archivo proviene y mostrarlo correctamente."
   ]
  },
  {
   "cell_type": "code",
   "execution_count": 8,
   "metadata": {
    "id": "t4fkfNKljEhv"
   },
   "outputs": [],
   "source": [
    "# Guardar FAISS index\n",
    "faiss.write_index(index, \"chatbot_index.faiss\")\n",
    "\n",
    "# Guardar los metadatos\n",
    "with open(\"chatbot_metadata.pkl\", \"wb\") as f:\n",
    "    pickle.dump(metadata, f)"
   ]
  },
  {
   "cell_type": "markdown",
   "metadata": {
    "id": "KF87r29u5glB"
   },
   "source": [
    "# **Sistema RAG + LLM**"
   ]
  },
  {
   "cell_type": "markdown",
   "metadata": {
    "id": "4eLAz39byWFB"
   },
   "source": [
    "Un sistema **RAG** (Retrieval-Augmented Generation) es una arquitectura de inteligencia artificial que combina recuperación de información con generación de texto, con el objetivo de mejorar la precisión, relevancia y actualidad de las respuestas generadas por modelos de lenguaje."
   ]
  },
  {
   "cell_type": "markdown",
   "metadata": {
    "id": "b_4iSOTt6Ul1"
   },
   "source": [
    "## 🧠 Modelos LLM y de Embeddings\n",
    "\n",
    "* **Se evaluaron dos distintos modelos de lenguaje y de embeddings, seleccionando aquellos que ofrecieron mejor desempeño en la generación de respuestas y comprensión semántica.**\n",
    "\n",
    "### ⚙️ ¿Cómo funciona?\n",
    "\n",
    "* 💬 **Modelo generador de respuestas (LLM)**  \n",
    "  Tras realizar pruebas con `google/flan-t5-base` y `google/flan-t5-large`, se seleccionó este último por su **mayor capacidad para generar respuestas más completas y precisas**.  \n",
    "  A través de `AutoTokenizer` y `AutoModelForSeq2SeqLM` de `transformers`, se inicializa el modelo junto con su tokenizador, y se configura un `pipeline` de generación de texto (`text2text-generation`).  \n",
    "  Este modelo permite al chatbot **redactar respuestas naturales y coherentes** a partir de consultas y contexto relevante.\n",
    "\n",
    "* 🧩 **Modelo de embeddings semánticos**  \n",
    "  Se compararon los modelos `paraphrase-multilingual-MiniLM-L12-v2` y `paraphrase-multilingual-mpnet-base-v2`, optando por este último debido a su **mayor precisión en la detección de similitud semántica y recuperación de información**.  \n",
    "  El modelo convierte frases o fragmentos de texto en vectores numéricos, que luego se utilizan para encontrar los fragmentos más relevantes mediante FAISS.\n"
   ]
  },
  {
   "cell_type": "code",
   "execution_count": 9,
   "metadata": {
    "colab": {
     "base_uri": "https://localhost:8080/",
     "height": 258,
     "referenced_widgets": [
      "32062aaf6f26483b9d1155cce82ab992",
      "95a2dfb43c674b3eb11892ee7d9c434e",
      "608a2a62502d42b2af027d0c82dd22f3",
      "ad1b1c802dcc48268c31e4233f770d87",
      "8140314fe09a43029bed6226c5424180",
      "f256b22fe9894c93848f792868551468",
      "aeaf6caa5f5a41a8aee60a90ef31b5ba",
      "0feee97024dc45a6b1acddbb43c84a81",
      "3dff46488cd8493f84f3b025585e823c",
      "62dfa45c32a64b14a340ed7f6ff92b32",
      "79f190da49df4bd098cc7e28f692ce18",
      "e07fe248ebed4ff5884d398e1a008355",
      "2a58a53f032b406a9f6c4932d6cf4454",
      "ab6df6d359fe41c38e746f64a8142e7e",
      "50413a0c62364c1a8f2f5ee9007956bf",
      "d5f15fab22384a2589770fe4bcd44b04",
      "af7b995b49c64431b4330e1225a35c94",
      "455080fd774b46beae5d1eb464736630",
      "e543ddfc1f6a4802975f2cb2fccf14db",
      "3fd52e2281e04bf892ef8e226101f777",
      "3767172297484dcc95b9cdfc6285e877",
      "9508d96507ba485fb0ef2b87aa8ddabe",
      "79c950a818e9477585fc68a7c79b557d",
      "78004443069e4dd99e4d2d536f2bd81f",
      "447e0a34801f4a87963abdc86ee6badd",
      "22a4c0d4a8144d629cb2853293c096df",
      "2dd5d5457e1842b3a210f723191c8751",
      "5084c31728db425ba1a5dbc42842934f",
      "e57cec658805455891fe8d73035cf3da",
      "12f35ed160f44875a2eb0d5b665a19aa",
      "ba21d9975e3b4a07aadf9befc2ef4e60",
      "8b04b514ab154ab8a765bbdb79cb8697",
      "a9e550b42fd340df8d57aef332c808da",
      "f9baca33785a492da3c44745a5de68bc",
      "592ff9253aad4ce9a566a61a9a79b0da",
      "13b5173b2c1a4c739ee4e5f1df43e01b",
      "14085f62be514ec284fa7a90b11d0b38",
      "fa35226fd95043d1ac4af1f80d8b24f3",
      "a4f260ec448546408107242b581c08d0",
      "217bc89d70504b42b675d3b3abb1d4e2",
      "688d9f018a5a4e1bbd9907039dca5cf1",
      "7170406dfaff477f93cef3048613600d",
      "e149db0fbe684620a41cd54edc99a1a7",
      "7f4fe8d11d4f4780a86e92183e4072d1",
      "c04b484442b349d28e7c6cb1c521e208",
      "4a13cbc1b44045beb55a55a67350fe3b",
      "8b04f766d8ac4fe3884b8027fad0880e",
      "4e0f8f64d74d4db6817484f7d7b866ae",
      "6e30264e003647ec8fa4918a046fbc78",
      "e77bc2aa978640eba3874ba153573c4d",
      "5371ba5ecc7a4f90987df677917c1c0c",
      "449e1f1380584cf8b5ee2ce63f38b9d2",
      "bb07861acbf6427cad68b7f8ad34afc4",
      "74c05d5e2b564f3eb4a7b102c9264f85",
      "f1e1f07b6d474ba8ab0633a5c36efe70",
      "d286cc97702f446dad5d5f4c276db4d2",
      "68a8c0d80fbd4925829e33f6963b1110",
      "ed564c98849042dca1a4b1dc53a5eec7",
      "7cbd70c218e143dfbe896778bf324291",
      "f638d6d457104778986cf7f06ada5203",
      "e0025c3ac27d4c40b412695a09d089ec",
      "e35bfe3a59a243348ebe8b51f003efd2",
      "5b51343cf4f04fccb16d725e36dc8d45",
      "71273c0875d944b8a1103282a7512151",
      "58df2f92cc874c8d998c19b3dcdaef15",
      "42bd1f77c2824f0dbc8a9bd63ef25acd",
      "0087bbb670044be692aac04e944f7fe3",
      "b0378db51340450c886a80f4376d4e5b",
      "251357b1836f4029874647e44305d10d",
      "9b0380dea1d4403392a4f0d513f4bade",
      "f4e6ffdbfee840889857e4eec5918ed9",
      "8864ee80fa1648639d290e04c2710f36",
      "0563d3fe22ed45508a2eb7419a75db5e",
      "551cc6784f044cbeb18549d258340118",
      "c843bb992d07412fbe296b10f5f61b31",
      "492e7ab1bb65403dbd21790bd9e11e7c",
      "89ef41c78b9742e0bbc3fe9a21becbcb"
     ]
    },
    "id": "SsTf0kyInanM",
    "outputId": "83cf8d10-00b4-46f0-bc84-329a5b3fa6fa"
   },
   "outputs": [
    {
     "data": {
      "application/vnd.jupyter.widget-view+json": {
       "model_id": "32062aaf6f26483b9d1155cce82ab992",
       "version_major": 2,
       "version_minor": 0
      },
      "text/plain": [
       "tokenizer_config.json:   0%|          | 0.00/2.54k [00:00<?, ?B/s]"
      ]
     },
     "metadata": {},
     "output_type": "display_data"
    },
    {
     "data": {
      "application/vnd.jupyter.widget-view+json": {
       "model_id": "e07fe248ebed4ff5884d398e1a008355",
       "version_major": 2,
       "version_minor": 0
      },
      "text/plain": [
       "spiece.model:   0%|          | 0.00/792k [00:00<?, ?B/s]"
      ]
     },
     "metadata": {},
     "output_type": "display_data"
    },
    {
     "data": {
      "application/vnd.jupyter.widget-view+json": {
       "model_id": "79c950a818e9477585fc68a7c79b557d",
       "version_major": 2,
       "version_minor": 0
      },
      "text/plain": [
       "tokenizer.json:   0%|          | 0.00/2.42M [00:00<?, ?B/s]"
      ]
     },
     "metadata": {},
     "output_type": "display_data"
    },
    {
     "data": {
      "application/vnd.jupyter.widget-view+json": {
       "model_id": "f9baca33785a492da3c44745a5de68bc",
       "version_major": 2,
       "version_minor": 0
      },
      "text/plain": [
       "special_tokens_map.json:   0%|          | 0.00/2.20k [00:00<?, ?B/s]"
      ]
     },
     "metadata": {},
     "output_type": "display_data"
    },
    {
     "data": {
      "application/vnd.jupyter.widget-view+json": {
       "model_id": "c04b484442b349d28e7c6cb1c521e208",
       "version_major": 2,
       "version_minor": 0
      },
      "text/plain": [
       "config.json:   0%|          | 0.00/662 [00:00<?, ?B/s]"
      ]
     },
     "metadata": {},
     "output_type": "display_data"
    },
    {
     "data": {
      "application/vnd.jupyter.widget-view+json": {
       "model_id": "d286cc97702f446dad5d5f4c276db4d2",
       "version_major": 2,
       "version_minor": 0
      },
      "text/plain": [
       "model.safetensors:   0%|          | 0.00/3.13G [00:00<?, ?B/s]"
      ]
     },
     "metadata": {},
     "output_type": "display_data"
    },
    {
     "data": {
      "application/vnd.jupyter.widget-view+json": {
       "model_id": "0087bbb670044be692aac04e944f7fe3",
       "version_major": 2,
       "version_minor": 0
      },
      "text/plain": [
       "generation_config.json:   0%|          | 0.00/147 [00:00<?, ?B/s]"
      ]
     },
     "metadata": {},
     "output_type": "display_data"
    },
    {
     "name": "stderr",
     "output_type": "stream",
     "text": [
      "Device set to use cuda:0\n"
     ]
    }
   ],
   "source": [
    "# LLM para generar respuestas\n",
    "#model_name = \"google/flan-t5-base\"\n",
    "model_name = \"google/flan-t5-large\"\n",
    "tokenizer = AutoTokenizer.from_pretrained(model_name)\n",
    "model = AutoModelForSeq2SeqLM.from_pretrained(model_name)\n",
    "generator = pipeline(\"text2text-generation\", model=model, tokenizer=tokenizer)\n",
    "\n",
    "# Modelo para embeddings (vectorización)\n",
    "#embedder = SentenceTransformer(\"sentence-transformers/paraphrase-multilingual-MiniLM-L12-v2\")\n",
    "embedder = SentenceTransformer(\"sentence-transformers/paraphrase-multilingual-mpnet-base-v2\")"
   ]
  },
  {
   "cell_type": "markdown",
   "metadata": {
    "id": "qEm3RbcU5Je0"
   },
   "source": [
    "## 🧠 Búsqueda Semántica y Generación de Respuestas\n",
    "\n",
    "* **Estas funciones permiten buscar fragmentos relevantes mediante similitud semántica y generar respuestas con un modelo LLM.**\n",
    "\n",
    "### ⚙️ ¿Cómo funciona?\n",
    "\n",
    "* 🧼 **`postprocess_answer( )`**  \n",
    "  Esta función realiza una limpieza del texto generado por el modelo.  \n",
    "  Elimina caracteres especiales no deseados, números y espacios redundantes, dejando una respuesta más legible y adecuada para presentación al usuario final.\n",
    "\n",
    "\n",
    "* 🔎 **`search_similar_chunks( )`**  \n",
    "  Genera un embedding para la consulta del usuario y lo compara contra el índice FAISS para encontrar los fragmentos más relevantes.  \n",
    "  Si no se encuentra ningún resultado con una similitud suficiente (basada en el `threshold`), retorna `None`.\n",
    "  Si hay coincidencias, devuelve los textos correspondientes desde los metadatos. Este threshdold se optimizó hasta encontrar un punto donde fallara al hacer preguntas fuera del contexto de ansiedad, pero aun asi detectara preguntas con un contexto mas general sin salir de la linea.\n",
    "  Es imporrtante tambien mencionar que se probaron varios top_k hasta dar con uno que al recuperar los fragmentos candidatos del índice FAISS, se tuviera una buena cobertura de contexto, sin agregar ruido semántico. Se evaluaron valores entre 1 y 10.\n",
    "\n",
    "* 🧩 **`build_prompt( )`**  \n",
    "  Construye un mensaje (prompt) combinando los fragmentos de contexto recuperados con la pregunta del usuario.  \n",
    "  Este prompt es lo que se le entrega al modelo generador para que forme una respuesta informada y contextualizada. Este fue uno de los parámetros más importantes a optimizar durante nuestras pruebas para lograr un resultado óptimo, probando tanto inglés y español al formar el prompt, y cambiando la estructura y texto del mismo.\n",
    "\n",
    "* 💬 **`generate_answer( )`**  \n",
    "  Orquesta el flujo completo: busca los fragmentos más parecidos a la consulta, genera el prompt y produce una respuesta con el modelo seleccionado, en este caso `flan-t5-large`.  Al igual que en la función `search_similar_chunks( )`, se ajustó max_tokens para ver qué largo de fragmento era adecuado como respuesta del chatbot. Se tuvo quer ser cuidadoso para no exceder los límites del modelo. Lo mismo con `max_new_tokens`, probando valores entre 64 y 256.\n",
    "  Si no se encuentran fragmentos relevantes, devuelve un mensaje de disculpa.\n",
    "\n",
    "* 💾 **Carga del índice y metadatos**  \n",
    "  Se cargan el índice FAISS (`chatbot_index.faiss`) y los metadatos (`chatbot_metadata.pkl`) previamente guardados, para que el sistema esté listo para responder sin tener que reentrenar o reprocesar documentos."
   ]
  },
  {
   "cell_type": "code",
   "execution_count": 10,
   "metadata": {
    "id": "WlVqMthHneso"
   },
   "outputs": [],
   "source": [
    "def postprocess_answer(text):\n",
    "    text = re.sub(r\"[^\\w\\s.,;:¡!¿?áéíóúñÁÉÍÓÚÑ]\", \"\", text)\n",
    "    text = re.sub(r\"\\d+\", \"\", text)\n",
    "    text = re.sub(r\"\\s+\", \" \", text).strip()\n",
    "    return text\n",
    "\n",
    "def build_prompt(query, context_chunks):\n",
    "    context = \"\\n\".join(context_chunks)\n",
    "    prompt = (\n",
    "      \"Usando la siguiente información, responde en español:\\n\\n\"\n",
    "      f\"Contexto:\\n\\\"{context}\\\"\\n\\n\"\n",
    "      f\"Pregunta:\\n{query}\"\n",
    "    )\n",
    "    return prompt\n",
    "\n",
    "def search_similar_chunks(query, top_k=3, threshold=0.45):\n",
    "    query_embedding = embedder.encode([query])\n",
    "    query_embedding = normalize(query_embedding, axis=1) #Normalizar los embeddings\n",
    "    distances, indices = index.search(query_embedding, top_k)\n",
    "    if max(distances[0]) < threshold:\n",
    "      return None\n",
    "\n",
    "    results = []\n",
    "    for i in indices[0]:\n",
    "        results.append(metadata[i]['text'])\n",
    "    return results\n",
    "\n",
    "def generate_answer(query, top_k=3):\n",
    "    chunks = search_similar_chunks(query, top_k=top_k)\n",
    "    if chunks is None:\n",
    "      return \"Lo siento, no encontré información suficiente para responder a eso.\"\n",
    "    prompt = build_prompt(query, chunks)\n",
    "\n",
    "    output = generator(prompt, max_new_tokens=256, do_sample=False)\n",
    "    answer = output[0]['generated_text'] + \"[...]\"\n",
    "    return postprocess_answer(answer)\n",
    "\n",
    "# Cargar índice\n",
    "index = faiss.read_index(\"chatbot_index.faiss\")\n",
    "\n",
    "# Cargar metadatos\n",
    "with open(\"chatbot_metadata.pkl\", \"rb\") as f:\n",
    "    metadata = pickle.load(f)"
   ]
  },
  {
   "cell_type": "markdown",
   "metadata": {
    "id": "OOfeqsQb5ttD"
   },
   "source": [
    "# **El chatbot, incluyendo ejemplos de prueba.**"
   ]
  },
  {
   "cell_type": "markdown",
   "metadata": {
    "id": "SGVvlMH09AfF"
   },
   "source": [
    "### 🧪 Evaluación de Modelos, Parámetros y Prompts\n",
    "\n",
    "En esta sección se llevaron a cabo las pruebas necesarias para **comparar distintos modelos** (LLMs y de embeddings), así como para **ajustar parámetros clave** de las funciones descritas anteriormente (`top_k`, `max_tokens`, `threshold`, etc.).  \n",
    "También se exploraron múltiples variantes de **prompts** con el fin de optimizar la calidad de las respuestas generadas por el chatbot. Estas evaluaciones permitieron identificar las combinaciones más eficaces en términos de precisión, coherencia y rendimiento.\n",
    "\n",
    "\n",
    "### 🧪 Conjunto de preguntas para evaluación del chatbot\n",
    "\n",
    "Con el objetivo de probar las capacidades del chatbot en el **contexto de salud mental y ansiedad**, se diseñó un conjunto de preguntas representativas relacionadas con síntomas, definiciones, estrategias de afrontamiento y temas emocionales. También se incluyeron preguntas fuera del dominio (como \"¿Qué es un iPhone?\") para evaluar la capacidad del sistema de rechazar consultas irrelevantes.\n",
    "\n",
    "A continuación, se presentan las respuestas generadas utilizando la configuración base del sistema (`MiniLM + Flan-T5 Base`), las cuales sirvieron como **línea de comparación** frente a los resultados obtenidos con el modelo final (`MPNet + Flan-T5 Large`).\n"
   ]
  },
  {
   "cell_type": "markdown",
   "metadata": {
    "id": "2yAL8xiYA8BC"
   },
   "source": [
    "\n",
    "👨🏻‍💻 Pregunta realizada: Cómo superar la ansiedad?\n",
    "\n",
    "💻 Respuesta del chatbot:\n",
    "A continuación le ofrecemos algunos consejos sobre cómo afrontar la ansiedad: Controle su preocupación. Escoja un lugar y una hora para preocuparse. Los sntomas de ansiedad originales pueden volver. Considere otras formas de hacer frente a sus sntomas. Por ejemplo, aprenda a relajarse. Cambi...\n",
    "\n",
    "👨🏻‍💻 Pregunta realizada: Qué es ansiedad?\n",
    "\n",
    "++ 💻 Respuesta del chatbot:\n",
    "La palabra ansiedad se utiliza para describir la respuesta mental y fsica que se produce ante situaciones de peligro. Se trata de una reacción normal que experimenta todo el mundo a veces por ejemplo, antes de una prueba médica, al hablar en pblico, antes de una cita importante, etc.. Para qué se utilizan? Para la an...\n",
    "\n",
    "👨🏻‍💻 Pregunta realizada: Cuando es grave la ansiedad?\n",
    "\n",
    "💻 Respuesta del chatbot:\n",
    "La ansiedad se convierte en un problema cuando los sntomas son: Graves y desagradables. Duran mucho tiempo. Ocurren con demasiada frecuencia. S. Son los siguientes: Trastorno de ansiedad generalizada. La ansiedad puede ser una sensación general y constante de preocupación. Para la ansiedad Los sntomas de la ansiedad incluyen...\n",
    "\n",
    "👨🏻‍💻 Pregunta realizada: Cuales son los síntomas de la ansiedad?\n",
    "\n",
    "💻 Respuesta del chatbot:\n",
    "Para la ansiedad Los sntomas de la ansiedad incluyen: agitación, tensión, irritabilidad, palpitaciones, temblores, sudoración, preocuparse en exceso, dormir mal, falta de concentración, respiración rápida, sensación de pellizco en el estómago y tensión muscular. Aunque la mayora de la gente se...\n",
    "\n",
    "👨🏻‍💻 Pregunta realizada: Como superar la tristeza?\n",
    "\n",
    "++ 💻 Respuesta del chatbot:\n",
    "En ocasiones, la tristeza va en aumento llegando un momento en que interfiere en la vida normal, disminuyendo la ingesta alimentaria, y provocando que la persona se abandone e incluso que aparezcan ideas de suicidio. Cómo afrontar el duelo? Qué ayuda puedo obtener? En ocasiones, la triste...\n",
    "\n",
    "👨🏻‍💻 Pregunta realizada: Qué es una depresión?\n",
    "\n",
    "++ 💻 Respuesta del chatbot:\n",
    "La depresión es una enfermedad, como lo es la diabetes o una lcera de estómago. Para hablar de depresión, y por lo tanto de enfermedad se requiere: que estos sentimientos se presenten de forma casi continua durante un perodo superior a dos semanas; que causen un malestar importante en una o varias ...\n",
    "\n",
    "👨🏻‍💻 Pregunta realizada: Cuales son las causas de la depresión?\n",
    "\n",
    "💻 Respuesta del chatbot:\n",
    "Cuáles son las causas de la depresión? Por lo general, se considera que existen factores biológicos, psicológicos y ambientales aquéllos relacionados con el entorno social o la familia. En que consiste la depresión? Otros: A veces una enfermedad fsica cáncer, diabetes, enfermedades...\n",
    "\n",
    "👨🏻‍💻 Pregunta realizada:Quieres ser mi amigo?\n",
    "\n",
    "💻 Respuesta del chatbot:\n",
    "Puedo pedirle a una amiga que me acompae y aprovechar para conversar. Me dará fuerza y energa. Para poder mantener relaciones de amistad sanas es fundamental que nos queramos a nosotrosas mismosas, puesto que, si no nos queremos, permitiramos que nos traten de una manera poco sana....\n",
    "\n",
    "👨🏻‍💻 Pregunta realizada:\n",
    "Que es un iPhone?\n",
    "\n",
    "💻 Respuesta del chatbot:\n",
    "Lo siento, no encontré información suficiente para responder a eso.\n",
    "\n"
   ]
  },
  {
   "cell_type": "markdown",
   "metadata": {
    "id": "OiyJ8qcM5ltH"
   },
   "source": [
    "## 🤖 Prueba de Consultas al Chatbot con el modelo seleccionado\n",
    "\n",
    "* **Evalúa una lista de preguntas simuladas y muestra las respuestas generadas.**\n",
    "\n",
    "### ⚙️ ¿Cómo funciona?\n",
    "\n",
    "* 🧾 **Lista de preguntas (`queries`)**  \n",
    "  Contiene ejemplos representativos de preguntas que un usuario podría hacerle al chatbot, relacionadas con ansiedad, depresión y emociones humanas.\n",
    "\n",
    "* 🔄 **Bucle de interacción con el chatbot**  \n",
    "  Para cada pregunta:\n",
    "  - Se imprime la consulta.\n",
    "  - Se llama a `generate_answer()` para obtener una respuesta contextual.\n",
    "  - La respuesta se imprime.\n",
    "\n",
    "Este bloque permite probar y validar cómo responde el sistema a distintas consultas, ideal para demostraciones, testing o debugging del chatbot.\n"
   ]
  },
  {
   "cell_type": "code",
   "execution_count": 11,
   "metadata": {
    "colab": {
     "base_uri": "https://localhost:8080/"
    },
    "id": "0t3eNHkfkGvx",
    "outputId": "61ee6f2d-1577-4907-f30f-b169520cf6a0"
   },
   "outputs": [
    {
     "name": "stderr",
     "output_type": "stream",
     "text": [
      "Token indices sequence length is longer than the specified maximum sequence length for this model (709 > 512). Running this sequence through the model will result in indexing errors\n"
     ]
    },
    {
     "name": "stdout",
     "output_type": "stream",
     "text": [
      "============================================================\n",
      ">> 👨🏻‍💻 Pregunta realizada:\n",
      "Cómo superar la ansiedad?\n",
      "\n",
      "++ 💻 Respuesta del chatbot:\n",
      "Controle su preocupación. Escoja un lugar y una hora para preocuparse. Hágalo en el mismo lugar y a la misma hora todos los das. Dedicique minutos a pensar en las cosas que le preocupan y en lo que puede hacer con respecto a éstas. Trate de no pensar en lo que podra ocurrir. Céntrese más en lo que en realidad está sucediendo. Luego deje de preocuparse y contine con sus actividades diarias....\n",
      "============================================================\n",
      ">> 👨🏻‍💻 Pregunta realizada:\n",
      "Qué es ansiedad?\n",
      "\n",
      "++ 💻 Respuesta del chatbot:\n",
      "La palabra ansiedad se utiliza para describir la respuesta mental y fsica que se produce ante situaciones de peligro...\n",
      "============================================================\n",
      ">> 👨🏻‍💻 Pregunta realizada:\n",
      "Cuando es grave la ansiedad?\n",
      "\n",
      "++ 💻 Respuesta del chatbot:\n",
      "Cuando no se controla la ansiedad, las personas describen pensamientos como No voy a poder soportarlo, Esto es horrible, Me dará un infarto, Enloqueceré. Estos pensamientos pasan por la mente automáticamente, como un flash, cuando se está ansioso...\n",
      "============================================================\n",
      ">> 👨🏻‍💻 Pregunta realizada:\n",
      "Cuales son los síntomas de la ansiedad?\n",
      "\n",
      "++ 💻 Respuesta del chatbot:\n",
      "agitación, tensión, irritabilidad, palpitaciones, temblores, sudoración, preocuparse en exceso, dormir mal, falta de concentración, respiración rápida, sensación de pellizco en el estómago y tensión muscular...\n",
      "============================================================\n",
      ">> 👨🏻‍💻 Pregunta realizada:\n",
      "Como superar la tristeza?\n",
      "\n",
      "++ 💻 Respuesta del chatbot:\n",
      ". Exprese su sufrimiento y acepte la ayuda Si tiene malas noticias o un contratiempo importante, intente hablarlo con alguien próximo y explquele cómo se siente. A menudo, repasar las experiencias dolorosas varias veces, llorar, y hablar de los problemas con alguien es til y constituye una forma natural que tiene la mente para curarse...\n",
      "============================================================\n",
      ">> 👨🏻‍💻 Pregunta realizada:\n",
      "Qué es una depresión?\n",
      "\n",
      "++ 💻 Respuesta del chatbot:\n",
      "El hecho de sentirse triste, deprimido, de tener pensamientos negativos o dificultad para dormir no significa necesariamente que usted sufra una depresión...\n",
      "============================================================\n",
      ">> 👨🏻‍💻 Pregunta realizada:\n",
      "Cuales son las causas de la depresión?\n",
      "\n",
      "++ 💻 Respuesta del chatbot:\n",
      "Trastornos de ansiedad: en general, la existencia de un trastorno de ansiedad previo a la depresión o asociado a ésta, aumenta la gravedad de la misma y el riesgo de recada. Abuso de sustancias o fármacos alcohol, fármacos ansiolticos o hipnóticos o consumo de sustancias tóxicas como el cannabis, éxtasis, cocana, etc:...\n",
      "============================================================\n",
      ">> 👨🏻‍💻 Pregunta realizada:\n",
      "Quieres ser mi amigo?\n",
      "\n",
      "++ 💻 Respuesta del chatbot:\n",
      "Lo siento, no encontré información suficiente para responder a eso.\n",
      "============================================================\n",
      ">> 👨🏻‍💻 Pregunta realizada:\n",
      "Que es un iPhone?\n",
      "\n",
      "++ 💻 Respuesta del chatbot:\n",
      "Lo siento, no encontré información suficiente para responder a eso.\n",
      "============================================================\n",
      ">> 👨🏻‍💻 Pregunta realizada:\n",
      "Qué es distimia?\n",
      "\n",
      "++ 💻 Respuesta del chatbot:\n",
      "Una persona que sufre distimia puede tender a aislarse, a retirarse de las actividades sociales; en el trabajo puede presentar una disminución de la actividad, de la eficacia y de la productividad...\n"
     ]
    }
   ],
   "source": [
    "queries = [\n",
    "    \"Cómo superar la ansiedad?\",\n",
    "    \"Qué es ansiedad?\",\n",
    "    \"Cuando es grave la ansiedad?\",\n",
    "    \"Cuales son los síntomas de la ansiedad?\",\n",
    "    \"Como superar la tristeza?\",\n",
    "    \"Qué es una depresión?\",\n",
    "    \"Cuales son las causas de la depresión?\",\n",
    "    \"Quieres ser mi amigo?\",\n",
    "    \"Que es un iPhone?\",\n",
    "    \"Qué es distimia?\"\n",
    "           ]\n",
    "\n",
    "for query in queries:\n",
    "  print(f\"=\"*60)\n",
    "  print(f\">> 👨🏻‍💻 Pregunta realizada:\\n{query}\\n\")\n",
    "  respuesta = generate_answer(query)\n",
    "  print(\"++ 💻 Respuesta del chatbot:\")\n",
    "  print(respuesta)"
   ]
  },
  {
   "cell_type": "markdown",
   "metadata": {
    "id": "SgoY8DwC9sCv"
   },
   "source": [
    "### 🧪 Comparativa de Respuestas del Chatbot con Diferentes Modelos\n",
    "\n",
    "| Pregunta                                | MiniLM + Flan-T5 Base 🟡                    | MPNet + Flan-T5 Large 🟢                       |\n",
    "|----------------------------------------|---------------------------------------------|------------------------------------------------|\n",
    "| ¿Cómo superar la ansiedad?             | Respuesta útil pero algo cortada y confusa  | Respuesta clara, detallada y bien estructurada |\n",
    "| ¿Qué es ansiedad?                      | Definición útil, pero con errores de corte  | Definición clara, pero breve                   |\n",
    "| ¿Cuándo es grave la ansiedad?          | Fragmentada, con síntomas listados          | Mejores ejemplos, enfoque cognitivo            |\n",
    "| ¿Síntomas de la ansiedad?              | Lista útil, pero final abrupto              | Lista completa y más clara                     |\n",
    "| ¿Cómo superar la tristeza?             | Se genera error por longitud del input      | Respuesta emocional y bien explicada           |\n",
    "| ¿Qué es una depresión?                | Buena definición pero con errores de corte  | Aclaración útil y diferenciación diagnóstica   |\n",
    "| ¿Causas de la depresión?               | Fragmentada, mezcla varias ideas            | Causas detalladas y específicas                |\n",
    "| ¿Quieres ser mi amigo?                 | Respuesta extraña, poco coherente           | Rechazo cortés, coherente                      |\n",
    "| ¿Qué es un iPhone?                     | No se encontró información                  | No se encontró información                     |\n",
    "| ¿Qué es distimia?                      | —                                           | Explicación breve pero útil                    |\n",
    "\n",
    "---\n",
    "\n",
    "🔎 **Resumen**:  \n",
    "- **MiniLM + Flan-T5 Base** mostró limitaciones en coherencia y truncamiento de respuestas.  \n",
    "- **MPNet + Flan-T5 Large** ofreció respuestas más completas, relevantes y estables.  \n",
    "- Se confirma la superioridad del segundo conjunto para tareas de asistencia conversacional con contexto.\n"
   ]
  },
  {
   "cell_type": "markdown",
   "metadata": {
    "id": "mBUXG3vr56ev"
   },
   "source": [
    "## 🖼️ Despliegue de Interfaz Interactiva con Gradio\n",
    "\n",
    "* **Por último, se crea una interfaz web simple para interactuar con el chatbot directamente desde el navegador.**\n",
    "\n",
    "### ⚙️ ¿Cómo funciona?\n",
    "\n",
    "* 🔌 **`chat_interface(question)`**  \n",
    "  Define una función que toma una pregunta como entrada, genera una respuesta utilizando `generate_answer()`, y la retorna. Esta será la función que conecta la interfaz con la lógica del chatbot.\n",
    "\n",
    "* 🧪 **`gr.Interface(...)`**  \n",
    "  Utiliza la librería `Gradio` para crear una interfaz gráfica mínima:\n",
    "  - `inputs=\"text\"` permite al usuario ingresar una pregunta en una caja de texto.\n",
    "  - `outputs=\"text\"` muestra la respuesta generada.\n",
    "  - `launch(share=True)` despliega la interfaz y genera un enlace público para compartirla fácilmente.\n",
    "  \n",
    "* 🛠️ **Post-procesamiento del archivo `.ipynb`**  \n",
    "  Para permitir su correcta visualización en GitHub, fue necesario **editar el archivo notebook al final del proyecto**, ya que la inclusión de widgets generaba errores en el renderizado del repositorio.  \n",
    "  Por esta razón, se optó por **incluir una captura de pantalla estática de la interfaz** como referencia visual del resultado final.\n",
    "\n",
    "  ### Captura de interfaz con Gradio:\n",
    "  <img src=\"https://drive.google.com/uc?id=1OQYw4zQIppMJElM6HyNiqeTfIy0Mrle-\" width=\"1200\">"
   ]
  },
  {
   "cell_type": "code",
   "execution_count": 12,
   "metadata": {
    "colab": {
     "base_uri": "https://localhost:8080/",
     "height": 590
    },
    "id": "Lw1bxsYeQrMn",
    "outputId": "aa9a3ead-9622-4131-bde3-f1b8ce214e92"
   },
   "outputs": [
    {
     "name": "stdout",
     "output_type": "stream",
     "text": [
      "Colab notebook detected. To show errors in colab notebook, set debug=True in launch()\n",
      "* Running on public URL: https://63cb6d1be8cef4fd2d.gradio.live\n",
      "\n",
      "This share link expires in 1 week. For free permanent hosting and GPU upgrades, run `gradio deploy` from the terminal in the working directory to deploy to Hugging Face Spaces (https://huggingface.co/spaces)\n"
     ]
    },
    {
     "data": {
      "text/html": [
       "<div><iframe src=\"https://63cb6d1be8cef4fd2d.gradio.live\" width=\"100%\" height=\"500\" allow=\"autoplay; camera; microphone; clipboard-read; clipboard-write;\" frameborder=\"0\" allowfullscreen></iframe></div>"
      ],
      "text/plain": [
       "<IPython.core.display.HTML object>"
      ]
     },
     "metadata": {},
     "output_type": "display_data"
    },
    {
     "data": {
      "text/plain": []
     },
     "execution_count": 12,
     "metadata": {},
     "output_type": "execute_result"
    }
   ],
   "source": [
    "import gradio as gr\n",
    "def chat_interface(question):\n",
    "    answer = generate_answer(question)\n",
    "    return answer\n",
    "gr.Interface(fn=chat_interface, inputs=\"text\", outputs=\"text\").launch(share=True)"
   ]
  },
  {
   "cell_type": "markdown",
   "metadata": {
    "id": "Kx-dZSFJz9cK"
   },
   "source": [
    "\n",
    "# **Conclusiones:**"
   ]
  },
  {
   "cell_type": "markdown",
   "metadata": {
    "id": "3w3usdaC0BCj"
   },
   "source": [
    "* #### **Conclusiones de la actividad chatbot LLM + RAG:**\n",
    "\n",
    "**Aprendizajes generales**\n",
    "- Como equipo, logramos implementar un enfoque de Retrieval-Augmented Generation que permitió combinar la potencia de los modelos generativos con la precisión del sistema de recuperación documental mediante FAISS. Esto demostró ser útil para responder preguntas específicas del dominio de salud mental, generando respuestas contextualizadas y coherentes.\n",
    "\n",
    "- Al utilizar corpus en español y modelos preentrenados compatibles con el idioma, se buscó la adecuación lingüística del chatbot para usuarios hispanohablantes. Este enfoque nos confirma la importancia de adaptar los modelos LLM a las necesidades culturales y lingüísticas de los usuarios.\n",
    "\n",
    "- El prototipo desarrollado tiene potencial para convertirse en una herramienta de apoyo accesible para personas en búsqueda de información confiable y actualizada relacionada con salud mental.\n",
    "\n",
    "- Se comprendió la arquitectura RAG como una solución que combina lo mejor del acceso a información (retrieval) con la generación fluida de lenguaje natural (LLM).\n",
    "\n",
    "- Se identificó que los modelos LLM por sí solos pueden llegar a tener límites si no están conectados a una base de conocimiento actualizada o contextual.\n",
    "\n",
    "- El enfoque RAG permitió ofrecer respuestas más precisas, relevantes y trazables, especialmente útil en temas delicados como salud mental.\n",
    "\n",
    "\n",
    "**Técnicas y Herramientas Implementadas**\n",
    "\n",
    "- Se utilizaron embeddings semánticos para representar texto y permitir búsquedas por similitud en lugar de coincidencia exacta de palabras clave.\n",
    "\n",
    "- Se trabajó con herramientas como FAISS para construir índices de recuperación eficientes.\n",
    "\n",
    "- Se aplicó un umbral de similitud para filtrar respuestas no relacionadas, mejorando la precisión del chatbot.\n",
    "\n",
    "- Se integró el sistema en una interfaz interactiva mediante Gradio, facilitando la interacción con el usuario final.\n",
    "\n",
    "- Se reafirmó la importancia del preprocesamiento del texto, incluyendo limpieza, normalización y tokenización.\n",
    "\n",
    "- Se emplearon modelos preentrenados de HuggingFace Transformers para tareas de generación de texto, en busca de coherencia y naturalidad.\n",
    "\n",
    "- Se comprobó que los LLM pueden ampliar, matizar o contextualizar mejor la información cuando se utilizan junto con RAG.\n",
    "\n",
    "- Se logró generar respuestas basadas en fuentes específicas.\n",
    "\n",
    "- Se apreciaron los beneficos de que es un enfoque modular y escalable, permitiendo incorporar nuevos documentos sin necesidad de reentrenar el modelo.\n",
    "\n",
    "**Retos y Reflexiones**\n",
    "- La arquitectura RAG mostró ser altamente modular y adaptable, lo que permitió integrar múltiples variantes de prompts, estructuras de entrada y pruebas comparativas sin necesidad de rediseñar el flujo completo.\n",
    "\n",
    "- El pipeline fue exitosamente probado con corpus en español, lo que confirma que el enfoque es viable para lenguajes distintos al inglés.\n",
    "\n",
    "- La comparación sistemática de diferentes combinaciones de modelos (`MiniLM + flan-t5-base` vs. `MPNet + flan-t5-large`) permitió identificar la mejor configuración en términos de precisión y coherencia de respuesta, destacando la importancia de la evaluación empírica al momento de seleccionar modelos.\n",
    "\n",
    "- Se observan aún pequeñas oportunidades en las respuestas, ya que hay errores ligeros en cuanto a formato, idiomas y gramática. Algunas opciones para mejorarlo pudiera ser hacer un proceso de limpieza más extensivo, aplicar filtros de idioma, post-procesamiento más complejo de la respuesta o incluso usar modelos más pesados, robustos y potentes que usualmente son de paga.\n",
    "\n",
    "- Se comprobó que la selección adecuada de parámetros como `top_k`, `threshold`, `max_tokens` y `max_new_tokens` tiene un impacto directo en la calidad, eficiencia y relevancia de las respuestas, y requiere ajustes finos según la naturaleza del corpus y del modelo.\n",
    "\n",
    "- Se recalca la importancia de hacer un prompt correcto para obtener respuestas simples y concisas basadas en los documentos proveídos.\n",
    "\n",
    "- Se observó que la curación del corpus (selección y fragmentación del contenido) tiene un impacto directo en la calidad del chatbot. La selección de documentos debe ser un proceso realizado con cuidado.\n",
    "\n",
    "- Se concluyó que este enfoque puede adaptarse a otros dominios como educación, derecho, atención médica o servicio al cliente, e incluso hacia sistemas más complejos como tutores virtuales, asistentes personales o motores de búsqueda especializados."
   ]
  },
  {
   "cell_type": "markdown",
   "metadata": {
    "id": "KLCGSshm7k9j"
   },
   "source": [
    "# Referencias\n",
    "\n",
    "### Referencias\n",
    "\n",
    "* Amazon Web Services (AWS). (2025). *¿Qué es la generación aumentada por recuperación (RAG)?*. Recuperado de https://aws.amazon.com/es/what-is/retrieval-augmented-generation/\n",
    "* DeepLearning.AI. (2024). *LangChain for LLM Application Development*. Recuperado de https://www.deeplearning.ai/short-courses/langchain-for-llm-application-development/\n",
    "* Google Cloud. (2025). *Uso de RAG: casos de uso de generación aumentada por recuperación*. Recuperado de https://cloud.google.com/use-cases/retrieval-augmented-generation?hl=es\n",
    "* Gradio. (2025). *Quickstart Guide for Gradio: construir y compartir demos de ML en Python*. Recuperado de https://www.gradio.app/guides/quickstart\n",
    "* Hohls, J. K., König, H.-H., Quirke, E., & Hajek, A. (2021). Anxiety, Depression and Quality of Life--A Systematic Review of Evidence from Longitudinal Observational Studies. *International Journal of Environmental Research and Public Health*, *18*(22), 12022. https://doi.org/10.3390/ijerph182212022\n",
    "* Hua, Y., Na, H., Li, Z., & et al. (2025). A scoping review of large language models for generative tasks in mental health care. *npj Digital Medicine*, *8*, 230. https://doi.org/10.1038/s41746-025-01611-4\n",
    "* O'Reilly Media. (2025). *Retrieval‑Augmented Generation (RAG) and LLMs*. Recuperado de https://www.oreilly.com/live-events/retrieval-augmented-generation-rag-and-llms/0790145078618/\n",
    "* Palomares, I. (2024). *Boost LLM Accuracy with Retrieval Augmented Generation (RAG) & Reranking*. Recuperado de https://www.datacamp.com/es/tutorial/boost-llm-accuracy-retrieval-augmented-generation-rag-reranking"
   ]
  },
  {
   "cell_type": "markdown",
   "metadata": {
    "id": "CtB5Q3m41YQ0"
   },
   "source": [
    "# **Fin de la actividad chatbot: LLM + RAG**"
   ]
  }
 ],
 "metadata": {
  "accelerator": "GPU",
  "colab": {
   "gpuType": "T4",
   "provenance": []
  },
  "kernelspec": {
   "display_name": "Python 3",
   "name": "python3"
  },
  "language_info": {
   "name": "python"
  }
 },
 "nbformat": 4,
 "nbformat_minor": 0
}
