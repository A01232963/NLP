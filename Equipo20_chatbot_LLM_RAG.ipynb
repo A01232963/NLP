{
 "cells": [
  {
   "cell_type": "markdown",
   "metadata": {
    "id": "-hVND8xY2OKY"
   },
   "source": [
    "# **Procesamiento de Lenguaje Natural**\n",
    "\n",
    "## Maestría en Inteligencia Artificial Aplicada\n",
    "#### Tecnológico de Monterrey\n",
    "#### Prof Luis Eduardo Falcón Morales\n",
    "\n",
    "### **Adtividad en Equipos: sistema LLM + RAG**"
   ]
  },
  {
   "cell_type": "markdown",
   "metadata": {
    "id": "aimHVFOv23lm"
   },
   "source": [
    "* **Nombres y matrículas:**\n",
    "\n",
    "* 🧑‍💻 Ovidio Alejandro Hernández Ruano (A01796714)\n",
    "* 🧑‍💻 José Manuel Toral Cruz (A01122243)\n",
    "* 🧑‍💻 Oscar Enrique García García (A01016093)\n",
    "* 🧑‍💻 Luis Gerardo Sanchez Salazar (A01232963)\n",
    "\n",
    "* **Número de Equipo:**\n",
    "* Equipo #20\n"
   ]
  },
  {
   "cell_type": "markdown",
   "metadata": {
    "id": "7jimvsiVgjMg"
   },
   "source": [
    "* ##### **El formato de este cuaderno de Jupyter es libre, pero debe incuir al menos las siguientes secciones:**\n",
    "\n",
    "  * ##### **Introducción de la problemática a resolver.**\n",
    "  * ##### **Sistema RAG + LLM**\n",
    "  * ##### **El chatbot, incluyendo ejemplos de prueba.**\n",
    "  * ##### **Conclusiones**\n",
    "\n",
    "* ##### **Pueden importar los paquetes o librerías que requieran.**\n",
    "\n",
    "* ##### **Pueden incluir las celdas y líneas de código que deseen.**"
   ]
  },
  {
   "cell_type": "markdown",
   "metadata": {
    "id": "l2akzn895aF_"
   },
   "source": [
    "# **Introducción de la problemática a resolver.**"
   ]
  },
  {
   "cell_type": "markdown",
   "metadata": {
    "id": "Fq3bI2BBBm97"
   },
   "source": [
    "## 💡 Ansiedad y depresión: Falta de acceso inmediato, confiable y seguro a información\n",
    "\n",
    "**La ansiedad y la depresión** son dos de los transtornos de salud mental más comunes a nivel mundial, afectando a millones de personas de todas las edades. A pesar de su prevalencia, muchas personas no cuentan con acceso oportuno a información clara, comprensible y basada en evidencia que les permita entender sus síntomas, buscar ayuda o simplemente sentirse acompañadas en su proceso.\n",
    "\n",
    "Factores como la estigma social, la desinformación, las barreras económicas, la escasez de profesionales en salud mental y largos tiempos de espera para recibir atención dificultan quee quienes sufren de estos trastornos obtengan orientación adecuada. Además, en entornos digitales sobrecargados de contenido, es frecuente encontrar información errónea, poco útil o incluso perjudicial.\n",
    "\n",
    "En este contexto, se propone el desarrollo de un **chatbot** especializado en ansiedad y depresión, que brinde respuestas confiables, empáticas y accesibles. Este asistente digital tiene como objetivo reducir la brecha de información, orientar a las personas hacia recursos apropiados y contribuir al bienestar emocional desde un enfoque preventivo y educativo.\n",
    "\n",
    "Para el desarrollo del chatbot, se usará Retrieval-Augmented Generation (**RAG**) en combinación de modelos de lenguaje de gran escala (**LLM**), generando así una solución efectiva, principalmente por las siguientes razones:\n",
    "\n",
    "* ✅ **Actualización y precisión sobre el contenido:** RAG permite que el modelo no genere respuestas aleatorias basadas en su entrenamiento previo, sino que consulte una base documental curada como guías clínicas, material psicoeducativo validado, publicaciones científicas, o preguntas frecuentes verificadas, reduciendo el riesgo de respuestas incorrectas o no fundamentadas, lo cual es crucial al tratar temas sensibles como la salud mental.\n",
    "\n",
    "* ✅ **Actualización dinámica y adaptabilidad**: A diferencia de un LLM puro, que no puede aprender nueva información tras su entrenamiento, un sistema RAG puede actualizar fácilmente su corpus de conocimiento sin necesidad de reentrenamiento. Así, el chatbot puede mantenerse actualizado con las últimas recomendaciones clínicas, normativas locales o recursos disponibles (como líneas de ayuda o centros de atención comunitarios) o incluso, diagnósticos, conversaciones, o historiales clínicos del paciente para una experiencia más personalizada.\n",
    "\n",
    "* ✅ **Respuestas contextuales, empáticas y comprensibles**: El LLM permite que las respuestas se generen en lenguaje natural, adaptadas al tono del usuario, con un estilo conversacional empático y accesible. Esto ayuda a que las personas se sientan comprendidas y no juzgadas, y que la información se transmita con claridad y calidez.\n",
    "\n",
    "* ✅ **Escalabilidad y disponibilidad**: Al ser una solución automatizada, el chatbot puede estar disponible 24/7, sin importar la zona horaria ni la demanda, lo que permite llegar a más personas en momentos de urgencia o duda. Esto lo convierte en una herramienta valiosa en comunidades con recursos limitados.\n",
    "\n",
    "* ✅ **Privacidad y anonimato**: Muchos usuarios prefieren explorar sus dudas sobre salud mental de forma anónima, sin tener que hablar cara a cara con un profesional desde el inicio. Un chatbot con estas características ofrece un espacio seguro, privado y no intrusivo donde dar los primeros pasos hacia el autocuidado o la búsqueda de ayuda.\n",
    "\n",
    "Combinar RAG + LLM para desarrollar un chatbot sobre ansiedad y depresión no solo mejora la calidad y seguridad de las respuestas, sino que además ofrece una solución técnica ética, escalable y centrada en el bienestar del usuario. Esta herramienta no pretende reemplazar el acompañamiento profesional, sino funcionar como una guía accesible, informada y confiable que ayude a reducir barreras, brindar contención y facilitar el acceso a recursos de salud mental adecuados.\n",
    "\n",
    "A continuación se presenta una propuesta desarrollada con **fines exclusivamente educativos**. Por ello, las respuestas generadas deben ser interpretadas como orientaciones generales y no deben considerarse asesoramiento médico, diagnóstico clínico ni sustituto de atención profesional. Se recomienda que los usuarios consulten a especialistas en salud mental ante cualquier duda o situación que requiera intervención profesional."
   ]
  },
  {
   "cell_type": "markdown",
   "metadata": {
    "id": "zQL0S7wX54Vh"
   },
   "source": [
    "# **Paquetes y librerías**"
   ]
  },
  {
   "cell_type": "markdown",
   "metadata": {
    "id": "qmeyvDTjBGHV"
   },
   "source": [
    "## 🔍 Procesamiento de Lenguaje Natural (NLP)\n",
    "* **📚 transformers:**  Biblioteca de modelos preentrenados desarrollada por Hugging Face. Permite usar modelos de NLP como BERT, GPT, T5, etc., para tareas como clasificación, resumen, traducción, y más.\n",
    "\n",
    "* **🧠 sentence-transformers:** Extensión sobre transformers enfocada en generar representaciones vectoriales (embeddings) de oraciones y párrafos. Ideal para tareas como búsqueda semántica, comparación de textos y clustering.\n",
    "\n",
    "* **📊 datasets:** Colección de datasets estandarizados de Hugging Face para NLP. Simplifica la carga, preprocesamiento y uso de datos para entrenamiento y evaluación de modelos.\n",
    "\n",
    "## 📦 Vectorización y Búsqueda Semántica\n",
    "* **🧭 faiss-cpu:** Biblioteca de búsqueda eficiente de vectores desarrollada por Facebook AI. Se usa para encontrar rápidamente los elementos más cercanos en grandes conjuntos de embeddings.\n",
    "\n",
    "## 🖼️ Interfaz de Usuario / Aplicaciones Web\n",
    "* **🧪 gradio:**\n",
    " Herramienta para crear interfaces web rápidas y simples para modelos de machine learning. Ideal para prototipar y compartir modelos con inputs y outputs interactivos (texto, audio, imagen, etc.).\n",
    "\n",
    "## 📄 Lectura de Documentos PDF\n",
    "* **📄 PyMuPDF:** Biblioteca para leer, extraer texto y trabajar con archivos PDF y otros documentos. Muy útil para convertir PDFs a texto para análisis posterior."
   ]
  },
  {
   "cell_type": "code",
   "execution_count": 13,
   "metadata": {
    "colab": {
     "base_uri": "https://localhost:8080/"
    },
    "id": "UVMo8aNh595N",
    "outputId": "c448ab88-41b7-4878-a869-e5700b7f72a9"
   },
   "outputs": [
    {
     "name": "stdout",
     "output_type": "stream",
     "text": [
      "Requirement already satisfied: transformers in /usr/local/lib/python3.11/dist-packages (4.52.4)\n",
      "Requirement already satisfied: filelock in /usr/local/lib/python3.11/dist-packages (from transformers) (3.18.0)\n",
      "Requirement already satisfied: huggingface-hub<1.0,>=0.30.0 in /usr/local/lib/python3.11/dist-packages (from transformers) (0.33.0)\n",
      "Requirement already satisfied: numpy>=1.17 in /usr/local/lib/python3.11/dist-packages (from transformers) (2.0.2)\n",
      "Requirement already satisfied: packaging>=20.0 in /usr/local/lib/python3.11/dist-packages (from transformers) (24.2)\n",
      "Requirement already satisfied: pyyaml>=5.1 in /usr/local/lib/python3.11/dist-packages (from transformers) (6.0.2)\n",
      "Requirement already satisfied: regex!=2019.12.17 in /usr/local/lib/python3.11/dist-packages (from transformers) (2024.11.6)\n",
      "Requirement already satisfied: requests in /usr/local/lib/python3.11/dist-packages (from transformers) (2.32.3)\n",
      "Requirement already satisfied: tokenizers<0.22,>=0.21 in /usr/local/lib/python3.11/dist-packages (from transformers) (0.21.1)\n",
      "Requirement already satisfied: safetensors>=0.4.3 in /usr/local/lib/python3.11/dist-packages (from transformers) (0.5.3)\n",
      "Requirement already satisfied: tqdm>=4.27 in /usr/local/lib/python3.11/dist-packages (from transformers) (4.67.1)\n",
      "Requirement already satisfied: fsspec>=2023.5.0 in /usr/local/lib/python3.11/dist-packages (from huggingface-hub<1.0,>=0.30.0->transformers) (2025.3.2)\n",
      "Requirement already satisfied: typing-extensions>=3.7.4.3 in /usr/local/lib/python3.11/dist-packages (from huggingface-hub<1.0,>=0.30.0->transformers) (4.14.0)\n",
      "Requirement already satisfied: hf-xet<2.0.0,>=1.1.2 in /usr/local/lib/python3.11/dist-packages (from huggingface-hub<1.0,>=0.30.0->transformers) (1.1.3)\n",
      "Requirement already satisfied: charset-normalizer<4,>=2 in /usr/local/lib/python3.11/dist-packages (from requests->transformers) (3.4.2)\n",
      "Requirement already satisfied: idna<4,>=2.5 in /usr/local/lib/python3.11/dist-packages (from requests->transformers) (3.10)\n",
      "Requirement already satisfied: urllib3<3,>=1.21.1 in /usr/local/lib/python3.11/dist-packages (from requests->transformers) (2.4.0)\n",
      "Requirement already satisfied: certifi>=2017.4.17 in /usr/local/lib/python3.11/dist-packages (from requests->transformers) (2025.6.15)\n",
      "Requirement already satisfied: sentence-transformers in /usr/local/lib/python3.11/dist-packages (4.1.0)\n",
      "Requirement already satisfied: transformers<5.0.0,>=4.41.0 in /usr/local/lib/python3.11/dist-packages (from sentence-transformers) (4.52.4)\n",
      "Requirement already satisfied: tqdm in /usr/local/lib/python3.11/dist-packages (from sentence-transformers) (4.67.1)\n",
      "Requirement already satisfied: torch>=1.11.0 in /usr/local/lib/python3.11/dist-packages (from sentence-transformers) (2.6.0+cu124)\n",
      "Requirement already satisfied: scikit-learn in /usr/local/lib/python3.11/dist-packages (from sentence-transformers) (1.6.1)\n",
      "Requirement already satisfied: scipy in /usr/local/lib/python3.11/dist-packages (from sentence-transformers) (1.15.3)\n",
      "Requirement already satisfied: huggingface-hub>=0.20.0 in /usr/local/lib/python3.11/dist-packages (from sentence-transformers) (0.33.0)\n",
      "Requirement already satisfied: Pillow in /usr/local/lib/python3.11/dist-packages (from sentence-transformers) (11.2.1)\n",
      "Requirement already satisfied: typing_extensions>=4.5.0 in /usr/local/lib/python3.11/dist-packages (from sentence-transformers) (4.14.0)\n",
      "Requirement already satisfied: filelock in /usr/local/lib/python3.11/dist-packages (from huggingface-hub>=0.20.0->sentence-transformers) (3.18.0)\n",
      "Requirement already satisfied: fsspec>=2023.5.0 in /usr/local/lib/python3.11/dist-packages (from huggingface-hub>=0.20.0->sentence-transformers) (2025.3.2)\n",
      "Requirement already satisfied: packaging>=20.9 in /usr/local/lib/python3.11/dist-packages (from huggingface-hub>=0.20.0->sentence-transformers) (24.2)\n",
      "Requirement already satisfied: pyyaml>=5.1 in /usr/local/lib/python3.11/dist-packages (from huggingface-hub>=0.20.0->sentence-transformers) (6.0.2)\n",
      "Requirement already satisfied: requests in /usr/local/lib/python3.11/dist-packages (from huggingface-hub>=0.20.0->sentence-transformers) (2.32.3)\n",
      "Requirement already satisfied: hf-xet<2.0.0,>=1.1.2 in /usr/local/lib/python3.11/dist-packages (from huggingface-hub>=0.20.0->sentence-transformers) (1.1.3)\n",
      "Requirement already satisfied: networkx in /usr/local/lib/python3.11/dist-packages (from torch>=1.11.0->sentence-transformers) (3.5)\n",
      "Requirement already satisfied: jinja2 in /usr/local/lib/python3.11/dist-packages (from torch>=1.11.0->sentence-transformers) (3.1.6)\n",
      "Requirement already satisfied: nvidia-cuda-nvrtc-cu12==12.4.127 in /usr/local/lib/python3.11/dist-packages (from torch>=1.11.0->sentence-transformers) (12.4.127)\n",
      "Requirement already satisfied: nvidia-cuda-runtime-cu12==12.4.127 in /usr/local/lib/python3.11/dist-packages (from torch>=1.11.0->sentence-transformers) (12.4.127)\n",
      "Requirement already satisfied: nvidia-cuda-cupti-cu12==12.4.127 in /usr/local/lib/python3.11/dist-packages (from torch>=1.11.0->sentence-transformers) (12.4.127)\n",
      "Requirement already satisfied: nvidia-cudnn-cu12==9.1.0.70 in /usr/local/lib/python3.11/dist-packages (from torch>=1.11.0->sentence-transformers) (9.1.0.70)\n",
      "Requirement already satisfied: nvidia-cublas-cu12==12.4.5.8 in /usr/local/lib/python3.11/dist-packages (from torch>=1.11.0->sentence-transformers) (12.4.5.8)\n",
      "Requirement already satisfied: nvidia-cufft-cu12==11.2.1.3 in /usr/local/lib/python3.11/dist-packages (from torch>=1.11.0->sentence-transformers) (11.2.1.3)\n",
      "Requirement already satisfied: nvidia-curand-cu12==10.3.5.147 in /usr/local/lib/python3.11/dist-packages (from torch>=1.11.0->sentence-transformers) (10.3.5.147)\n",
      "Requirement already satisfied: nvidia-cusolver-cu12==11.6.1.9 in /usr/local/lib/python3.11/dist-packages (from torch>=1.11.0->sentence-transformers) (11.6.1.9)\n",
      "Requirement already satisfied: nvidia-cusparse-cu12==12.3.1.170 in /usr/local/lib/python3.11/dist-packages (from torch>=1.11.0->sentence-transformers) (12.3.1.170)\n",
      "Requirement already satisfied: nvidia-cusparselt-cu12==0.6.2 in /usr/local/lib/python3.11/dist-packages (from torch>=1.11.0->sentence-transformers) (0.6.2)\n",
      "Requirement already satisfied: nvidia-nccl-cu12==2.21.5 in /usr/local/lib/python3.11/dist-packages (from torch>=1.11.0->sentence-transformers) (2.21.5)\n",
      "Requirement already satisfied: nvidia-nvtx-cu12==12.4.127 in /usr/local/lib/python3.11/dist-packages (from torch>=1.11.0->sentence-transformers) (12.4.127)\n",
      "Requirement already satisfied: nvidia-nvjitlink-cu12==12.4.127 in /usr/local/lib/python3.11/dist-packages (from torch>=1.11.0->sentence-transformers) (12.4.127)\n",
      "Requirement already satisfied: triton==3.2.0 in /usr/local/lib/python3.11/dist-packages (from torch>=1.11.0->sentence-transformers) (3.2.0)\n",
      "Requirement already satisfied: sympy==1.13.1 in /usr/local/lib/python3.11/dist-packages (from torch>=1.11.0->sentence-transformers) (1.13.1)\n",
      "Requirement already satisfied: mpmath<1.4,>=1.1.0 in /usr/local/lib/python3.11/dist-packages (from sympy==1.13.1->torch>=1.11.0->sentence-transformers) (1.3.0)\n",
      "Requirement already satisfied: numpy>=1.17 in /usr/local/lib/python3.11/dist-packages (from transformers<5.0.0,>=4.41.0->sentence-transformers) (2.0.2)\n",
      "Requirement already satisfied: regex!=2019.12.17 in /usr/local/lib/python3.11/dist-packages (from transformers<5.0.0,>=4.41.0->sentence-transformers) (2024.11.6)\n",
      "Requirement already satisfied: tokenizers<0.22,>=0.21 in /usr/local/lib/python3.11/dist-packages (from transformers<5.0.0,>=4.41.0->sentence-transformers) (0.21.1)\n",
      "Requirement already satisfied: safetensors>=0.4.3 in /usr/local/lib/python3.11/dist-packages (from transformers<5.0.0,>=4.41.0->sentence-transformers) (0.5.3)\n",
      "Requirement already satisfied: joblib>=1.2.0 in /usr/local/lib/python3.11/dist-packages (from scikit-learn->sentence-transformers) (1.5.1)\n",
      "Requirement already satisfied: threadpoolctl>=3.1.0 in /usr/local/lib/python3.11/dist-packages (from scikit-learn->sentence-transformers) (3.6.0)\n",
      "Requirement already satisfied: MarkupSafe>=2.0 in /usr/local/lib/python3.11/dist-packages (from jinja2->torch>=1.11.0->sentence-transformers) (3.0.2)\n",
      "Requirement already satisfied: charset-normalizer<4,>=2 in /usr/local/lib/python3.11/dist-packages (from requests->huggingface-hub>=0.20.0->sentence-transformers) (3.4.2)\n",
      "Requirement already satisfied: idna<4,>=2.5 in /usr/local/lib/python3.11/dist-packages (from requests->huggingface-hub>=0.20.0->sentence-transformers) (3.10)\n",
      "Requirement already satisfied: urllib3<3,>=1.21.1 in /usr/local/lib/python3.11/dist-packages (from requests->huggingface-hub>=0.20.0->sentence-transformers) (2.4.0)\n",
      "Requirement already satisfied: certifi>=2017.4.17 in /usr/local/lib/python3.11/dist-packages (from requests->huggingface-hub>=0.20.0->sentence-transformers) (2025.6.15)\n",
      "Requirement already satisfied: faiss-cpu in /usr/local/lib/python3.11/dist-packages (1.11.0)\n",
      "Requirement already satisfied: numpy<3.0,>=1.25.0 in /usr/local/lib/python3.11/dist-packages (from faiss-cpu) (2.0.2)\n",
      "Requirement already satisfied: packaging in /usr/local/lib/python3.11/dist-packages (from faiss-cpu) (24.2)\n",
      "Requirement already satisfied: gradio in /usr/local/lib/python3.11/dist-packages (5.31.0)\n",
      "Requirement already satisfied: aiofiles<25.0,>=22.0 in /usr/local/lib/python3.11/dist-packages (from gradio) (24.1.0)\n",
      "Requirement already satisfied: anyio<5.0,>=3.0 in /usr/local/lib/python3.11/dist-packages (from gradio) (4.9.0)\n",
      "Requirement already satisfied: fastapi<1.0,>=0.115.2 in /usr/local/lib/python3.11/dist-packages (from gradio) (0.115.12)\n",
      "Requirement already satisfied: ffmpy in /usr/local/lib/python3.11/dist-packages (from gradio) (0.6.0)\n",
      "Requirement already satisfied: gradio-client==1.10.1 in /usr/local/lib/python3.11/dist-packages (from gradio) (1.10.1)\n",
      "Requirement already satisfied: groovy~=0.1 in /usr/local/lib/python3.11/dist-packages (from gradio) (0.1.2)\n",
      "Requirement already satisfied: httpx>=0.24.1 in /usr/local/lib/python3.11/dist-packages (from gradio) (0.28.1)\n",
      "Requirement already satisfied: huggingface-hub>=0.28.1 in /usr/local/lib/python3.11/dist-packages (from gradio) (0.33.0)\n",
      "Requirement already satisfied: jinja2<4.0 in /usr/local/lib/python3.11/dist-packages (from gradio) (3.1.6)\n",
      "Requirement already satisfied: markupsafe<4.0,>=2.0 in /usr/local/lib/python3.11/dist-packages (from gradio) (3.0.2)\n",
      "Requirement already satisfied: numpy<3.0,>=1.0 in /usr/local/lib/python3.11/dist-packages (from gradio) (2.0.2)\n",
      "Requirement already satisfied: orjson~=3.0 in /usr/local/lib/python3.11/dist-packages (from gradio) (3.10.18)\n",
      "Requirement already satisfied: packaging in /usr/local/lib/python3.11/dist-packages (from gradio) (24.2)\n",
      "Requirement already satisfied: pandas<3.0,>=1.0 in /usr/local/lib/python3.11/dist-packages (from gradio) (2.2.2)\n",
      "Requirement already satisfied: pillow<12.0,>=8.0 in /usr/local/lib/python3.11/dist-packages (from gradio) (11.2.1)\n",
      "Requirement already satisfied: pydantic<2.12,>=2.0 in /usr/local/lib/python3.11/dist-packages (from gradio) (2.11.7)\n",
      "Requirement already satisfied: pydub in /usr/local/lib/python3.11/dist-packages (from gradio) (0.25.1)\n",
      "Requirement already satisfied: python-multipart>=0.0.18 in /usr/local/lib/python3.11/dist-packages (from gradio) (0.0.20)\n",
      "Requirement already satisfied: pyyaml<7.0,>=5.0 in /usr/local/lib/python3.11/dist-packages (from gradio) (6.0.2)\n",
      "Requirement already satisfied: ruff>=0.9.3 in /usr/local/lib/python3.11/dist-packages (from gradio) (0.11.13)\n",
      "Requirement already satisfied: safehttpx<0.2.0,>=0.1.6 in /usr/local/lib/python3.11/dist-packages (from gradio) (0.1.6)\n",
      "Requirement already satisfied: semantic-version~=2.0 in /usr/local/lib/python3.11/dist-packages (from gradio) (2.10.0)\n",
      "Requirement already satisfied: starlette<1.0,>=0.40.0 in /usr/local/lib/python3.11/dist-packages (from gradio) (0.46.2)\n",
      "Requirement already satisfied: tomlkit<0.14.0,>=0.12.0 in /usr/local/lib/python3.11/dist-packages (from gradio) (0.13.3)\n",
      "Requirement already satisfied: typer<1.0,>=0.12 in /usr/local/lib/python3.11/dist-packages (from gradio) (0.16.0)\n",
      "Requirement already satisfied: typing-extensions~=4.0 in /usr/local/lib/python3.11/dist-packages (from gradio) (4.14.0)\n",
      "Requirement already satisfied: uvicorn>=0.14.0 in /usr/local/lib/python3.11/dist-packages (from gradio) (0.34.3)\n",
      "Requirement already satisfied: fsspec in /usr/local/lib/python3.11/dist-packages (from gradio-client==1.10.1->gradio) (2025.3.2)\n",
      "Requirement already satisfied: websockets<16.0,>=10.0 in /usr/local/lib/python3.11/dist-packages (from gradio-client==1.10.1->gradio) (15.0.1)\n",
      "Requirement already satisfied: idna>=2.8 in /usr/local/lib/python3.11/dist-packages (from anyio<5.0,>=3.0->gradio) (3.10)\n",
      "Requirement already satisfied: sniffio>=1.1 in /usr/local/lib/python3.11/dist-packages (from anyio<5.0,>=3.0->gradio) (1.3.1)\n",
      "Requirement already satisfied: certifi in /usr/local/lib/python3.11/dist-packages (from httpx>=0.24.1->gradio) (2025.6.15)\n",
      "Requirement already satisfied: httpcore==1.* in /usr/local/lib/python3.11/dist-packages (from httpx>=0.24.1->gradio) (1.0.9)\n",
      "Requirement already satisfied: h11>=0.16 in /usr/local/lib/python3.11/dist-packages (from httpcore==1.*->httpx>=0.24.1->gradio) (0.16.0)\n",
      "Requirement already satisfied: filelock in /usr/local/lib/python3.11/dist-packages (from huggingface-hub>=0.28.1->gradio) (3.18.0)\n",
      "Requirement already satisfied: requests in /usr/local/lib/python3.11/dist-packages (from huggingface-hub>=0.28.1->gradio) (2.32.3)\n",
      "Requirement already satisfied: tqdm>=4.42.1 in /usr/local/lib/python3.11/dist-packages (from huggingface-hub>=0.28.1->gradio) (4.67.1)\n",
      "Requirement already satisfied: hf-xet<2.0.0,>=1.1.2 in /usr/local/lib/python3.11/dist-packages (from huggingface-hub>=0.28.1->gradio) (1.1.3)\n",
      "Requirement already satisfied: python-dateutil>=2.8.2 in /usr/local/lib/python3.11/dist-packages (from pandas<3.0,>=1.0->gradio) (2.9.0.post0)\n",
      "Requirement already satisfied: pytz>=2020.1 in /usr/local/lib/python3.11/dist-packages (from pandas<3.0,>=1.0->gradio) (2025.2)\n",
      "Requirement already satisfied: tzdata>=2022.7 in /usr/local/lib/python3.11/dist-packages (from pandas<3.0,>=1.0->gradio) (2025.2)\n",
      "Requirement already satisfied: annotated-types>=0.6.0 in /usr/local/lib/python3.11/dist-packages (from pydantic<2.12,>=2.0->gradio) (0.7.0)\n",
      "Requirement already satisfied: pydantic-core==2.33.2 in /usr/local/lib/python3.11/dist-packages (from pydantic<2.12,>=2.0->gradio) (2.33.2)\n",
      "Requirement already satisfied: typing-inspection>=0.4.0 in /usr/local/lib/python3.11/dist-packages (from pydantic<2.12,>=2.0->gradio) (0.4.1)\n",
      "Requirement already satisfied: click>=8.0.0 in /usr/local/lib/python3.11/dist-packages (from typer<1.0,>=0.12->gradio) (8.2.1)\n",
      "Requirement already satisfied: shellingham>=1.3.0 in /usr/local/lib/python3.11/dist-packages (from typer<1.0,>=0.12->gradio) (1.5.4)\n",
      "Requirement already satisfied: rich>=10.11.0 in /usr/local/lib/python3.11/dist-packages (from typer<1.0,>=0.12->gradio) (13.9.4)\n",
      "Requirement already satisfied: six>=1.5 in /usr/local/lib/python3.11/dist-packages (from python-dateutil>=2.8.2->pandas<3.0,>=1.0->gradio) (1.17.0)\n",
      "Requirement already satisfied: markdown-it-py>=2.2.0 in /usr/local/lib/python3.11/dist-packages (from rich>=10.11.0->typer<1.0,>=0.12->gradio) (3.0.0)\n",
      "Requirement already satisfied: pygments<3.0.0,>=2.13.0 in /usr/local/lib/python3.11/dist-packages (from rich>=10.11.0->typer<1.0,>=0.12->gradio) (2.19.1)\n",
      "Requirement already satisfied: charset-normalizer<4,>=2 in /usr/local/lib/python3.11/dist-packages (from requests->huggingface-hub>=0.28.1->gradio) (3.4.2)\n",
      "Requirement already satisfied: urllib3<3,>=1.21.1 in /usr/local/lib/python3.11/dist-packages (from requests->huggingface-hub>=0.28.1->gradio) (2.4.0)\n",
      "Requirement already satisfied: mdurl~=0.1 in /usr/local/lib/python3.11/dist-packages (from markdown-it-py>=2.2.0->rich>=10.11.0->typer<1.0,>=0.12->gradio) (0.1.2)\n",
      "Requirement already satisfied: datasets in /usr/local/lib/python3.11/dist-packages (2.14.4)\n",
      "Requirement already satisfied: numpy>=1.17 in /usr/local/lib/python3.11/dist-packages (from datasets) (2.0.2)\n",
      "Requirement already satisfied: pyarrow>=8.0.0 in /usr/local/lib/python3.11/dist-packages (from datasets) (18.1.0)\n",
      "Requirement already satisfied: dill<0.3.8,>=0.3.0 in /usr/local/lib/python3.11/dist-packages (from datasets) (0.3.7)\n",
      "Requirement already satisfied: pandas in /usr/local/lib/python3.11/dist-packages (from datasets) (2.2.2)\n",
      "Requirement already satisfied: requests>=2.19.0 in /usr/local/lib/python3.11/dist-packages (from datasets) (2.32.3)\n",
      "Requirement already satisfied: tqdm>=4.62.1 in /usr/local/lib/python3.11/dist-packages (from datasets) (4.67.1)\n",
      "Requirement already satisfied: xxhash in /usr/local/lib/python3.11/dist-packages (from datasets) (3.5.0)\n",
      "Requirement already satisfied: multiprocess in /usr/local/lib/python3.11/dist-packages (from datasets) (0.70.15)\n",
      "Requirement already satisfied: fsspec>=2021.11.1 in /usr/local/lib/python3.11/dist-packages (from fsspec[http]>=2021.11.1->datasets) (2025.3.2)\n",
      "Requirement already satisfied: aiohttp in /usr/local/lib/python3.11/dist-packages (from datasets) (3.11.15)\n",
      "Requirement already satisfied: huggingface-hub<1.0.0,>=0.14.0 in /usr/local/lib/python3.11/dist-packages (from datasets) (0.33.0)\n",
      "Requirement already satisfied: packaging in /usr/local/lib/python3.11/dist-packages (from datasets) (24.2)\n",
      "Requirement already satisfied: pyyaml>=5.1 in /usr/local/lib/python3.11/dist-packages (from datasets) (6.0.2)\n",
      "Requirement already satisfied: aiohappyeyeballs>=2.3.0 in /usr/local/lib/python3.11/dist-packages (from aiohttp->datasets) (2.6.1)\n",
      "Requirement already satisfied: aiosignal>=1.1.2 in /usr/local/lib/python3.11/dist-packages (from aiohttp->datasets) (1.3.2)\n",
      "Requirement already satisfied: attrs>=17.3.0 in /usr/local/lib/python3.11/dist-packages (from aiohttp->datasets) (25.3.0)\n",
      "Requirement already satisfied: frozenlist>=1.1.1 in /usr/local/lib/python3.11/dist-packages (from aiohttp->datasets) (1.7.0)\n",
      "Requirement already satisfied: multidict<7.0,>=4.5 in /usr/local/lib/python3.11/dist-packages (from aiohttp->datasets) (6.4.4)\n",
      "Requirement already satisfied: propcache>=0.2.0 in /usr/local/lib/python3.11/dist-packages (from aiohttp->datasets) (0.3.2)\n",
      "Requirement already satisfied: yarl<2.0,>=1.17.0 in /usr/local/lib/python3.11/dist-packages (from aiohttp->datasets) (1.20.1)\n",
      "Requirement already satisfied: filelock in /usr/local/lib/python3.11/dist-packages (from huggingface-hub<1.0.0,>=0.14.0->datasets) (3.18.0)\n",
      "Requirement already satisfied: typing-extensions>=3.7.4.3 in /usr/local/lib/python3.11/dist-packages (from huggingface-hub<1.0.0,>=0.14.0->datasets) (4.14.0)\n",
      "Requirement already satisfied: hf-xet<2.0.0,>=1.1.2 in /usr/local/lib/python3.11/dist-packages (from huggingface-hub<1.0.0,>=0.14.0->datasets) (1.1.3)\n",
      "Requirement already satisfied: charset-normalizer<4,>=2 in /usr/local/lib/python3.11/dist-packages (from requests>=2.19.0->datasets) (3.4.2)\n",
      "Requirement already satisfied: idna<4,>=2.5 in /usr/local/lib/python3.11/dist-packages (from requests>=2.19.0->datasets) (3.10)\n",
      "Requirement already satisfied: urllib3<3,>=1.21.1 in /usr/local/lib/python3.11/dist-packages (from requests>=2.19.0->datasets) (2.4.0)\n",
      "Requirement already satisfied: certifi>=2017.4.17 in /usr/local/lib/python3.11/dist-packages (from requests>=2.19.0->datasets) (2025.6.15)\n",
      "Requirement already satisfied: python-dateutil>=2.8.2 in /usr/local/lib/python3.11/dist-packages (from pandas->datasets) (2.9.0.post0)\n",
      "Requirement already satisfied: pytz>=2020.1 in /usr/local/lib/python3.11/dist-packages (from pandas->datasets) (2025.2)\n",
      "Requirement already satisfied: tzdata>=2022.7 in /usr/local/lib/python3.11/dist-packages (from pandas->datasets) (2025.2)\n",
      "Requirement already satisfied: six>=1.5 in /usr/local/lib/python3.11/dist-packages (from python-dateutil>=2.8.2->pandas->datasets) (1.17.0)\n",
      "Requirement already satisfied: PyMuPDF in /usr/local/lib/python3.11/dist-packages (1.26.1)\n"
     ]
    }
   ],
   "source": [
    "# Incluyan a continuación todas las celdas (de código o texto) que deseen...\n",
    "!pip install transformers\n",
    "!pip install sentence-transformers\n",
    "!pip install faiss-cpu\n",
    "!pip install gradio\n",
    "!pip install datasets\n",
    "!pip install PyMuPDF"
   ]
  },
  {
   "cell_type": "markdown",
   "metadata": {
    "id": "WJtWHl5iBMpo"
   },
   "source": [
    "## 🧱 Utilidades del Sistema y Datos\n",
    "\n",
    "* **📂 os:** Módulo estándar de Python para interactuar con el sistema operativo. Se usa para operaciones como navegar entre carpetas, crear directorios o manipular archivos.\n",
    "\n",
    "* **📦 pickle:** Biblioteca estándar de Python para serializar y deserializar objetos. Útil para guardar modelos, datos procesados o estructuras en archivos binarios para reutilización.\n",
    "\n",
    "* **🔢 numpy:** Paquete fundamental para computación numérica en Python. Permite manejar arrays y realizar operaciones matemáticas eficientes a nivel de matriz.\n",
    "\n",
    "* **🌎 IPython.display:** Importamos las funciones `display` y `HTML` para desplegar contenido enriquecido como HTML dentro de celdas de Google Colab.\n",
    "\n",
    "* **🔡 re:** Módulo de expresiones regulares en Python. Se usa para buscar, reemplazar o dividir texto mediante patrones definidos.\n",
    "\n",
    "## 📄 Procesamiento de Documentos PDF\n",
    "\n",
    "* **📄 fitz (PyMuPDF):** Interfaz principal de la biblioteca PyMuPDF. Permite abrir, leer y extraer texto o imágenes de archivos PDF y otros documentos.\n",
    "\n",
    "## 📦 Búsqueda Semántica\n",
    "\n",
    "* **🧭 faiss:** Biblioteca de Facebook AI para búsqueda rápida de vectores en grandes volúmenes de datos. Se usa para tareas de similitud semántica y recuperación de información basada en embeddings.\n",
    "\n",
    "## 🔍 Procesamiento de Lenguaje Natural (NLP)\n",
    "\n",
    "* **🧠 sentence-transformers:** Biblioteca que permite generar embeddings semánticos de textos. Generalmente utilizada para tareas como clustering, recuperación semántica y comparación de oraciones.\n",
    "\n",
    "* **🧬 transformers (AutoTokenizer, AutoModelForSeq2SeqLM, pipeline):** Componentes clave de la librería Hugging Face Transformers:\n",
    "  - **AutoTokenizer:** Convierte texto a tokens entendibles por modelos.\n",
    "  - **AutoModelForSeq2SeqLM:** Carga modelos preentrenados para tareas de secuencia a secuencia.\n",
    "  - **pipeline:** Interfaz simplificada para aplicar tareas comunes con modelos preentrenados.\n",
    "\n",
    "* **🗣️ nltk & sent_tokenize:** `nltk` es una biblioteca para procesamiento de lenguaje natural. En este caso, se utiliza para **tokenizar texto en oraciones** mediante `sent_tokenize`, útil para dividir grandes textos en unidades más manejables.\n",
    "\n",
    "## 📐 Normalización de Vectores\n",
    "\n",
    "* **📐 normalize:** Se utiliza para escalar vectores de forma que tengan una norma unitaria. Es esencial para calcular similitudes de forma coherente entre vectores."
   ]
  },
  {
   "cell_type": "code",
   "execution_count": 14,
   "metadata": {
    "colab": {
     "base_uri": "https://localhost:8080/"
    },
    "id": "X2KsDfQ0BUh_",
    "outputId": "0364cf68-b1a3-49b1-e6c1-45764988233f"
   },
   "outputs": [
    {
     "name": "stderr",
     "output_type": "stream",
     "text": [
      "[nltk_data] Downloading package punkt to /root/nltk_data...\n",
      "[nltk_data]   Package punkt is already up-to-date!\n",
      "[nltk_data] Downloading package punkt_tab to /root/nltk_data...\n",
      "[nltk_data]   Package punkt_tab is already up-to-date!\n"
     ]
    }
   ],
   "source": [
    "import os\n",
    "import fitz\n",
    "import faiss\n",
    "import pickle\n",
    "import numpy as np\n",
    "import re\n",
    "import nltk\n",
    "nltk.download(\"punkt\")\n",
    "nltk.download('punkt_tab')\n",
    "from nltk.tokenize import sent_tokenize\n",
    "from IPython.display import display, HTML\n",
    "from sentence_transformers import SentenceTransformer\n",
    "from transformers import AutoTokenizer, AutoModelForSeq2SeqLM, pipeline\n",
    "from sklearn.preprocessing import normalize"
   ]
  },
  {
   "cell_type": "markdown",
   "metadata": {
    "id": "tthhwfJhBo0o"
   },
   "source": [
    "## 📂 Archivos PDF y sus descripciones\n",
    "\n",
    "A continuación se enlistan los archivos a utilizar para el chatbot, junto con su tema principal y una berve descripción de su conrtenido.\n",
    "\n",
    "**1. empatia_comunicacion.pdf**\n",
    "* Tema: Empatía en la comunicación\n",
    "* Descripción: Describe el concepto de empatía desde el punto de vista cognitivo y emocional, destacando la importancia de las neuronas espejo y cómo la empatía mejora la calidad de la comunicación interpersonal. Incluye técnicas como la escucha activa, actitud de apertura y rechazo de prejuicios\n",
    "\n",
    "\n",
    "**2. primeras-paginas-lo-mejor-de-tu-vida-es.pdf**\n",
    "* Tema: Autoestima y confianza personal\n",
    "* Descripción: Fragmento del libro de Ma. Jesús Álava Reyes. Enfatiza la importancia de confiar en uno mismo para alcanzar la felicidad. Incluye reflexiones, testimonios y capítulos orientados al desarrollo de la autoconfianza y la superación del sufrimiento emocional\n",
    "\n",
    "\n",
    "**3. Guia de Primeros Auxilios Psicológicos_Integra.pdf**\n",
    "* Tema: Primeros Auxilios Psicológicos (PAP)\n",
    "* Descripción: Guía orientada a personas en movilidad humana. Explica qué es una crisis psicológica, cómo se manifiesta, tipos de intervención, principios del PAP, y autocuidado del personal interviniente. Incluye técnicas como escucha empática, estabilización y contención emocional\n",
    "\n",
    "\n",
    "**4. depresion.pdf**\n",
    "* Tema: Depresión\n",
    "* Descripción: Documento del National Institute of Mental Health. Define la depresión, sus síntomas, causas, tipos (mayor, distimia, estacional, posparto, etc.), diagnóstico y tratamientos (psicoterapia, medicamentos, terapia de estimulación cerebral)\n",
    "\n",
    "\n",
    "**5. Abre-tu-mente-modo-positivo-salud-mental.pdf**\n",
    "* Tema: Promoción de salud mental en jóvenes\n",
    "* Descripción: Guía educativa dirigida a docentes y familias. Aborda temas como salud mental, adolescencia, estilo de vida saludable, relaciones sociales, emociones, inteligencia emocional y prevención de problemas de salud mental.\n",
    "\n",
    "\n",
    "**6. AtencionPrimAmb1988_spa.pdf**\n",
    "* Tema: Atención Primaria Ambiental (APA)\n",
    "* Descripción: Publicación de la OPS que presenta el concepto de APA. Ofrece un enfoque holístico para mejorar el ambiente y la salud pública. Incluye marco conceptual, principios, problemas ambientales locales, participación ciudadana y organización de centros APA\n",
    "\n",
    "\n",
    "**7. 9789243548203_spa.pdf**\n",
    "* Tema: Primera Ayuda Psicológica (OMS)\n",
    "* Descripción: Guía práctica para trabajadores de campo en situaciones de emergencia. Define PAP, principios de acción (observar, escuchar, conectar), cómo ayudar de forma responsable y cómo cuidarse como interviniente. Incluye ejercicios y casos simulados\n",
    "\n",
    "\n",
    "**8. empatia.pdf**\n",
    "* Tema: Empatía y neurociencia\n",
    "* Descripción: Presentación sobre empatía desde una perspectiva emocional, cognitiva y neurocientífica.\n",
    "\n",
    "\n",
    "**9. Guiasautoayudadepresionansiedad.pdf**\n",
    "* Tema: Autoayuda para depresión y ansiedad\n",
    "* Descripción: Conjunto de guías del Servicio Andaluz de Salud. Contienen información y actividades sobre depresión, ansiedad, duelo, autoestima, control de pensamientos, técnicas de relajación, afrontamiento del estrés, etcértera."
   ]
  },
  {
   "cell_type": "markdown",
   "metadata": {
    "id": "muh29EoTYcDI"
   },
   "source": [
    "## 📁 Creación de Carpeta y Descarga Condicional de Archivos\n",
    "\n",
    "Este bloque de código verifica si existe una carpeta llamada `pdf` en el entorno (`/content/pdf`) y realiza las siguientes acciones:\n",
    "\n",
    "* 🗂️ **Crea la carpeta si no existe**, asegurando el espacio necesario para almacenar los archivos PDF.\n",
    "* 🔍 **Verifica si la carpeta está vacía**:\n",
    "  - Si está vacía, **descarga los archivos desde una carpeta pública en Google Drive** usando `gdown`.\n",
    "  - Si ya contiene archivos, **omite la descarga** para evitar redundancias."
   ]
  },
  {
   "cell_type": "code",
   "execution_count": 15,
   "metadata": {
    "colab": {
     "base_uri": "https://localhost:8080/"
    },
    "id": "qD_iRBEQcHj9",
    "outputId": "fc88c5b0-3ac3-4532-909f-7676a76f5187"
   },
   "outputs": [
    {
     "name": "stdout",
     "output_type": "stream",
     "text": [
      "📁 La carpeta ya existe: /content/pdf\n",
      "✅ La carpeta ya tiene contenidos. Se omite la descarga.\n"
     ]
    }
   ],
   "source": [
    "# Crear la carpeta \"pdf\" si es que no existe\n",
    "folder_path = \"/content/pdf\"\n",
    "if not os.path.exists(folder_path):\n",
    "    os.makedirs(folder_path)\n",
    "    print(f\"✅ Carpeta creada: {folder_path}\")\n",
    "else:\n",
    "    print(f\"📁 La carpeta ya existe: {folder_path}\")\n",
    "\n",
    "# Revisar si la carpeta está vacía y descargar los archivos de la misma. Si no, saltar descarga.\n",
    "if not os.listdir(folder_path):\n",
    "    print(\"📥 La carpeta está vacía. Iniciando descarga de contenidos...\")\n",
    "    folder_url = \"https://drive.google.com/drive/folders/1WxKzp5YHdhS4hf47zFUScL9FHpRSaexE?usp=sharing\"\n",
    "    !gdown --folder {folder_url} -O {folder_path}\n",
    "else:\n",
    "    print(\"✅ La carpeta ya tiene contenidos. Se omite la descarga.\")"
   ]
  },
  {
   "cell_type": "markdown",
   "metadata": {
    "id": "z9J9Y_yWYlE3"
   },
   "source": [
    "## 📄 Extracción y Visualización de Contenido de Archivos PDF\n",
    "\n",
    "Este bloque realiza la lectura, procesamiento y previsualización del contenido de archivos PDF utilizando PyMuPDF (`fitz`):\n",
    "\n",
    "* **📥 `extract_text_from_pdf(file_path)`**  \n",
    "  Función que **abre un archivo PDF y concatena el texto de todas sus páginas** en un solo string, utilizando `fitz` para extraer el texto página por página.\n",
    "\n",
    "* **📂 Procesamiento de archivos PDF**  \n",
    "  Recorre todos los archivos dentro de la carpeta `/content/pdf`, aplica la función anterior y guarda los resultados en un diccionario `pdf_texts` con la estructura `{nombre_archivo: texto_extraído}`.\n",
    "\n",
    "* **👀 Previsualización de contenido**  \n",
    "  Por cada archivo procesado, **muestra los primeros 100 caracteres del contenido extraído**, lo cual permite verificar rápidamente si la extracción fue exitosa y si el contenido es legible."
   ]
  },
  {
   "cell_type": "code",
   "execution_count": 16,
   "metadata": {
    "colab": {
     "base_uri": "https://localhost:8080/"
    },
    "id": "sX3Ea3jlghLf",
    "outputId": "a7567672-044c-43c2-b16c-3526ccded3c9"
   },
   "outputs": [
    {
     "name": "stdout",
     "output_type": "stream",
     "text": [
      ">>> Desplegando previzualización del contenido del archivo 📚[Abre-tu-mente-modo-positivo-salud-mental.pdf]:\n",
      "\n",
      "1\n",
      "GUÍA PARA\n",
      "DOCENTES Y FAMILIAS\n",
      "PROMOCIÓN DE SALUD\n",
      "MENTAL EN JÓVENES\n",
      "PROMOCIÓN DE SALUD MENTAL EN JÓ\n",
      "================================================================================\n",
      ">>> Desplegando previzualización del contenido del archivo 📚[Guiasautoayudadepresionansiedad.pdf]:\n",
      "\n",
      "PARA LA DEPRESIÓN Y LOS TRASTORNOS DE ANSIEDAD\n",
      "PARA LA DEPRESIÓN Y LOS TRASTORNOS DE ANSIEDAD\n",
      "Servic\n",
      "================================================================================\n",
      ">>> Desplegando previzualización del contenido del archivo 📚[empatia.pdf]:\n",
      "\n",
      "EMPATÍA\n",
      "EL ARTE DE COMPRENDER EMOCIONES\n",
      "EMPATÍA\n",
      "EL ARTE DE COMPRENDER EMOCIONES\n",
      "3\n",
      " Mahatma G a n d h\n",
      "================================================================================\n",
      ">>> Desplegando previzualización del contenido del archivo 📚[depresion.pdf]:\n",
      "\n",
      "Depresión \n",
      " \n",
      "¿Qué es la depresión?\n",
      "Todas las personas se sienten tristes o decaídas de vez en cuando\n",
      "================================================================================\n",
      ">>> Desplegando previzualización del contenido del archivo 📚[9789243548203_spa.pdf]:\n",
      "\n",
      "Primera ayuda psicológica:  Guía para trabajadores de \n",
      "campo\n",
      "Catalogación por la Biblioteca de la OM\n",
      "================================================================================\n",
      ">>> Desplegando previzualización del contenido del archivo 📚[empatia_comunicacion.pdf]:\n",
      "\n",
      "1\n",
      "Empatía en la comunicación \n",
      "La empatía en la comunicación es fundamental para lograr una conexión \n",
      "================================================================================\n",
      ">>> Desplegando previzualización del contenido del archivo 📚[Guia de Primeros Auxilios Psicológicos_Integra.pdf]:\n",
      "\n",
      "Guía de Primeros Auxilios \n",
      "Psicológicos (PAP) a personas en \n",
      "situación de movilidad humana\n",
      "Guía de P\n",
      "================================================================================\n",
      ">>> Desplegando previzualización del contenido del archivo 📚[primeras-paginas-primeras-paginas-lo-mejor-de-tu-vida-es.pdf]:\n",
      "\n",
      "Lo mejor de tu vida eres tú\n",
      "Confía en la fuerza de tus emociones\n",
      "M.ª Jesús Álava Reyes\n",
      "Índice\n",
      "Agrade\n",
      "================================================================================\n",
      ">>> Desplegando previzualización del contenido del archivo 📚[AtencionPrimAmb1988_spa.pdf]:\n",
      "\n",
      "Organización Panamericana de la Salud \n",
      "#k' Organización Mundial de la Salud \n",
      "División de Salud y Amb\n",
      "================================================================================\n"
     ]
    }
   ],
   "source": [
    "# Función para extraer y concatenar el texto de todas las páginas de un archivo PDF usando PyMuPDF (fitz)\n",
    "def extract_text_from_pdf(file_path):\n",
    "    doc = fitz.open(file_path)\n",
    "    text = \"\"\n",
    "    for page in doc:\n",
    "        text += page.get_text()\n",
    "    return text\n",
    "\n",
    "# Procesar todos los archivos PDF subidos\n",
    "pdf_texts = {}\n",
    "for filename in os.listdir(folder_path):\n",
    "      file_path = os.path.join(folder_path, filename)\n",
    "      text = extract_text_from_pdf(file_path)\n",
    "      pdf_texts[filename] = text\n",
    "\n",
    "# Mostrar los primeros 1000 caracteres de un archivo\n",
    "for name, content in pdf_texts.items():\n",
    "    print(f\">>> Desplegando previzualización del contenido del archivo 📚[{name}]:\\n\")\n",
    "    print(content[:100])\n",
    "    print(\"=\" * 80)"
   ]
  },
  {
   "cell_type": "markdown",
   "metadata": {
    "id": "sVO3U5JxBpDi"
   },
   "source": [
    "## 🧠 Carga de Modelo de Embeddings Multilingüe\n",
    "\n",
    "📦 A continuación se carga un modelo preentrenado de la librería `sentence-transformers`, específicamente el modelo **`paraphrase-multilingual-MiniLM-L12-v2`**, el cual genera embeddings (representaciones vectoriales) de frases o textos.\n",
    "\n",
    "### ✅ Razones para usar este modelo:\n",
    "* 🌍 **Multilingüe:** Soporta más de 50 idiomas, ideal para trabajar con datos en distintos idiomas sin necesidad de traducir.\n",
    "* ⚡ **Ligero y rápido:** Basado en la arquitectura MiniLM, lo que permite un buen equilibrio entre rendimiento y velocidad, incluso sin GPU.\n",
    "* 🔍 **Precisión en similitud semántica:** Entrenado para tareas como detección de paráfrasis y búsqueda semántica, lo que lo hace muy útil para clustering, recuperación de texto y comparación de oraciones."
   ]
  },
  {
   "cell_type": "code",
   "execution_count": 17,
   "metadata": {
    "id": "Bfs5Zxc9j7Uf"
   },
   "outputs": [],
   "source": [
    "# Cargando modelo preentrenado\n",
    "model_sentence = SentenceTransformer(\"sentence-transformers/paraphrase-multilingual-MiniLM-L12-v2\")"
   ]
  },
  {
   "cell_type": "markdown",
   "metadata": {
    "id": "WqHZsyC_ZmNK"
   },
   "source": [
    "## ✂️ División Semántica de Texto por Oraciones\n",
    "\n",
    "Esta función divide un texto en fragmentos **respetando los límites de tokens y las fronteras semánticas de las oraciones**, usando `sent_tokenize()` de NLTK.\n",
    "\n",
    "### ⚙️ ¿Cómo funciona?\n",
    "* 🧠 Divide el texto en oraciones individuales.\n",
    "* 📦 Agrupa las oraciones en bloques cuya **longitud no supere `max_tokens` (por defecto 25 palabras)**.\n",
    "* 🔁 Aplica **solapamiento configurable (`overlap`)** entre bloques, preservando coherencia contextual entre fragmentos.\n",
    "* ✅ Devuelve una lista de bloques listos para análisis semántico, embeddings o respuestas de chatbot."
   ]
  },
  {
   "cell_type": "code",
   "execution_count": 18,
   "metadata": {
    "id": "QRStndlYL_hD"
   },
   "outputs": [],
   "source": [
    "# CHUNKING SEMANTICO CON NLTK\n",
    "# Función para dividir el texto en fragmentos (oraciones)\n",
    "def split_text_semantic(text, max_tokens=25, overlap=1):\n",
    "    sentences = sent_tokenize(text)\n",
    "    chunks = []\n",
    "    current_chunk = []\n",
    "    current_len = 0\n",
    "    for sentence in sentences:\n",
    "        token_count = len(sentence.split())\n",
    "        if current_len + token_count > max_tokens:\n",
    "            chunks.append(\" \".join(current_chunk))\n",
    "            current_chunk = current_chunk[-overlap:] if overlap > 0 else []\n",
    "            current_len = sum(len(s.split()) for s in current_chunk)\n",
    "        current_chunk.append(sentence)\n",
    "        current_len += token_count\n",
    "\n",
    "    if current_chunk:\n",
    "        chunks.append(\" \".join(current_chunk))\n",
    "\n",
    "    return chunks\n",
    "\n",
    "# Función para dividir el texto en fragmentos (chunks) - NOT USED\n",
    "def split_text(text, chunk_size=500, overlap=50): ##chunk_size=5000, overlap=50)\n",
    "    chunks = []\n",
    "    for i in range(0, len(text), chunk_size - overlap):\n",
    "        chunks.append(text[i:i + chunk_size])\n",
    "    return chunks"
   ]
  },
  {
   "cell_type": "markdown",
   "metadata": {
    "id": "BsckZ09AxzBA"
   },
   "source": [
    "## 🧠 Fragmentación, Vectorización y Creación del Índice Semántico\n",
    "\n",
    "* **Fragmenta textos PDF, genera sus embeddings y construye un índice FAISS para habilitar búsquedas semánticas en un chatbot.**\n",
    "\n",
    "### ⚙️ ¿Cómo funciona?\n",
    "\n",
    "* 🧩 **Fragmentación semántica de documentos**  \n",
    "  Recorre los textos extraídos de los PDFs y los divide en fragmentos utilizando `split_text_semantic`, que respeta los límites de oración y evita cortes arbitrarios. Luego, cada fragmento se guarda junto con su metadato correspondiente (nombre del archivo y contenido del fragmento).\n",
    "\n",
    "* 🧬 **Generación y normalización de embeddings**  \n",
    "  Los fragmentos generados se convierten en vectores semánticos (embeddings) mediante un modelo de `sentence-transformers`. A continuación, se normalizan para que todos tengan norma unitaria, lo cual es necesario para aplicar similitud coseno correctamente.\n",
    "\n",
    "* 🧭 **Construcción del índice FAISS**  \n",
    "  Se crea un índice FAISS utilizando `IndexFlatIP`, diseñado para trabajar con similitud coseno entre vectores normalizados. Luego se agregan todos los embeddings al índice para habilitar búsquedas rápidas y precisas.\n",
    "\n",
    "Este flujo pemrite que el chatbot pueda realizar búsquedas semánticas inteligentes y responder preguntas con base en el contenido de múltiples documentos PDF.\n"
   ]
  },
  {
   "cell_type": "code",
   "execution_count": 19,
   "metadata": {
    "colab": {
     "base_uri": "https://localhost:8080/",
     "height": 49,
     "referenced_widgets": [
      "6fd507c5b2614dfe9ab5f46e7af21ea2",
      "e537b3a2ffb94320b1d5646431f2e296",
      "84fff814381f4a3f9a189e720f70cd7f",
      "33c8f71406ac44699d90e673daade9ea",
      "301f33fd321c422ab06cfacbdcefd5c2",
      "b66fbd196cd9469d933505d6e30b50d8",
      "d2cf837f9ce948bd8647567cfd8b3871",
      "c2959acc3c464c9ab1386abca210d317",
      "e8c7bdf2dc7e45bcbda5207ef12149c6",
      "2002449ee5604a848686f34eb429da43",
      "1b11ce4f23494161a718070f764ea8be"
     ]
    },
    "id": "CikjqV0MiO0L",
    "outputId": "de5ea7ce-8596-486a-ec38-9720a063e742"
   },
   "outputs": [
    {
     "data": {
      "application/vnd.jupyter.widget-view+json": {
       "model_id": "6fd507c5b2614dfe9ab5f46e7af21ea2",
       "version_major": 2,
       "version_minor": 0
      },
      "text/plain": [
       "Batches:   0%|          | 0/208 [00:00<?, ?it/s]"
      ]
     },
     "metadata": {},
     "output_type": "display_data"
    }
   ],
   "source": [
    "# Recorrer todos los archivos PDF, divide su contenido en fragmentos,\n",
    "# y guarda tanto los textos como los metadatos (nombre del archivo y texto del fragmento)\n",
    "all_chunks = []\n",
    "metadata = []\n",
    "for filename, text in pdf_texts.items():\n",
    "    #chunks = split_text(text)\n",
    "    chunks = split_text_semantic(text)\n",
    "    all_chunks.extend(chunks)\n",
    "    metadata.extend([{\"source\": filename, \"text\": chunk} for chunk in chunks])\n",
    "\n",
    "# Crear embeddings\n",
    "embeddings = model_sentence.encode(all_chunks, show_progress_bar=True)\n",
    "embeddings = normalize(embeddings, axis=1)  # normalizar para usar cosine similarity (IndexFlatIP)\n",
    "\n",
    "# Crear índice FAISS\n",
    "dimension = embeddings.shape[1]\n",
    "#index = faiss.IndexFlatL2(dimension)\n",
    "index = faiss.IndexFlatIP(dimension) # Se usa IndexFlatIP oara cosine similatiry\n",
    "index.add(np.array(embeddings))"
   ]
  },
  {
   "cell_type": "markdown",
   "metadata": {
    "id": "GLr68Bo-yI9T"
   },
   "source": [
    "## 💾 Guardado del Índice y Metadatos\n",
    "\n",
    "* **Guarda el índice FAISS y los metadatos para reutilizarlos sin reprocesar los documentos.**\n",
    "\n",
    "### ⚙️ ¿Cómo funciona?\n",
    "\n",
    "* 🧭 **Guardar el índice FAISS**  \n",
    "  Se almacena el índice generado en un archivo `.faiss`, lo que permite reutilizarlo en futuras sesiones sin tener que volver a generar todos los embeddings y reconstruir el índice desde cero.\n",
    "\n",
    "* 🗂️ **Guardar los metadatos**  \n",
    "  Los metadatos (información del fragmento y su documento de origen) se guardan en un archivo `.pkl` usando `pickle`. Esto es esencial para que, al recuperar un fragmento desde el índice, el chatbot pueda identificar de qué archivo proviene y mostrarlo correctamente."
   ]
  },
  {
   "cell_type": "code",
   "execution_count": 20,
   "metadata": {
    "id": "t4fkfNKljEhv"
   },
   "outputs": [],
   "source": [
    "# Guardar FAISS index\n",
    "faiss.write_index(index, \"chatbot_index.faiss\")\n",
    "\n",
    "# Guardar los metadatos\n",
    "with open(\"chatbot_metadata.pkl\", \"wb\") as f:\n",
    "    pickle.dump(metadata, f)"
   ]
  },
  {
   "cell_type": "markdown",
   "metadata": {
    "id": "KF87r29u5glB"
   },
   "source": [
    "# **Sistema RAG + LLM**"
   ]
  },
  {
   "cell_type": "markdown",
   "metadata": {
    "id": "4eLAz39byWFB"
   },
   "source": [
    "Un sistema **RAG** (Retrieval-Augmented Generation) es una arquitectura de inteligencia artificial que combina recuperación de información con generación de texto, con el objetivo de mejorar la precisión, relevancia y actualidad de las respuestas generadas por modelos de lenguaje."
   ]
  },
  {
   "cell_type": "markdown",
   "metadata": {
    "id": "yqrMSMxG42ZJ"
   },
   "source": [
    "## 🧠 Modelos LLM y de Embeddings\n",
    "\n",
    "* **Carga un modelo de lenguaje para generación de respuestas y un modelo de embeddings para comprensión semántica.**\n",
    "\n",
    "### ⚙️ ¿Cómo funciona?\n",
    "\n",
    "* 💬 **Modelo generador de respuestas (LLM)**  \n",
    "  Se carga el modelo `google/flan-t5-base`, un modelo de tipo encoder-decoder optimizado para tareas text-to-text.  \n",
    "  A través de `AutoTokenizer` y `AutoModelForSeq2SeqLM` de `transformers`, se inicializa el modelo junto con su tokenizador, y se configura un `pipeline` de generación de texto (`text2text-generation`).  \n",
    "  Este modelo permite al chatbot **redactar respuestas completas en lenguaje natural** a partir de consultas y contextos.\n",
    "\n",
    "* 🧩 **Modelo de embeddings semánticos**  \n",
    "  Se carga el modelo `paraphrase-multilingual-MiniLM-L12-v2` de `sentence-transformers`, el cual convierte oraciones o fragmentos de texto en vectores numéricos.  \n",
    "  Estos vectores permiten comparar significados y buscar respuestas relevantes dentro del índice FAISS.\n"
   ]
  },
  {
   "cell_type": "code",
   "execution_count": 21,
   "metadata": {
    "colab": {
     "base_uri": "https://localhost:8080/"
    },
    "id": "SsTf0kyInanM",
    "outputId": "a7caba21-cfd2-4187-83a6-bce771493613"
   },
   "outputs": [
    {
     "name": "stderr",
     "output_type": "stream",
     "text": [
      "Device set to use cuda:0\n"
     ]
    }
   ],
   "source": [
    "# LLM para generar respuestas\n",
    "model_name = \"google/flan-t5-base\"\n",
    "tokenizer = AutoTokenizer.from_pretrained(model_name)\n",
    "model = AutoModelForSeq2SeqLM.from_pretrained(model_name)\n",
    "generator = pipeline(\"text2text-generation\", model=model, tokenizer=tokenizer)\n",
    "\n",
    "# Modelo para embeddings (vectorización)\n",
    "embedder = SentenceTransformer(\"sentence-transformers/paraphrase-multilingual-MiniLM-L12-v2\")"
   ]
  },
  {
   "cell_type": "markdown",
   "metadata": {
    "id": "qEm3RbcU5Je0"
   },
   "source": [
    "## 🧠 Búsqueda Semántica y Generación de Respuestas\n",
    "\n",
    "* **Estas funciones permiten buscar fragmentos relevantes mediante similitud semántica y generar respuestas con un modelo LLM.**\n",
    "\n",
    "### ⚙️ ¿Cómo funciona?\n",
    "\n",
    "* 🔎 **`search_similar_chunks( )`**  \n",
    "  Genera un embedding para la consulta del usuario y lo compara contra el índice FAISS para encontrar los fragmentos más relevantes.  \n",
    "  Si no se encuentra ningún resultado con una similitud suficiente (basada en el `threshold`), retorna `None`.  \n",
    "  Si hay coincidencias, devuelve los textos correspondientes desde los metadatos.\n",
    "\n",
    "* 🧩 **`build_prompt( )`**  \n",
    "  Construye un mensaje (prompt) combinando los fragmentos de contexto recuperados con la pregunta del usuario.  \n",
    "  Este prompt es lo que se le entrega al modelo generador para que forme una respuesta informada y contextualizada.\n",
    "\n",
    "* 💬 **`generate_answer( )`**  \n",
    "  Orquesta el flujo completo: busca los fragmentos más parecidos a la consulta, genera el prompt y produce una respuesta con el modelo `flan-t5-base`.  \n",
    "  Si no se encuentran fragmentos relevantes, devuelve un mensaje de disculpa.\n",
    "\n",
    "* 💾 **Carga del índice y metadatos**  \n",
    "  Se cargan el índice FAISS (`chatbot_index.faiss`) y los metadatos (`chatbot_metadata.pkl`) previamente guardados, para que el sistema esté listo para responder sin tener que reentrenar o reprocesar documentos."
   ]
  },
  {
   "cell_type": "code",
   "execution_count": 22,
   "metadata": {
    "id": "WlVqMthHneso"
   },
   "outputs": [],
   "source": [
    "def build_prompt(query, context_chunks):\n",
    "    context = \"\\n\".join(context_chunks)\n",
    "    prompt = (\n",
    "        f\"Con este contexto:\\n\"\n",
    "        f\"{context}\\n\\n\"\n",
    "        f\"Responde brevemente:\\n\"\n",
    "        f\"{query}\"\n",
    "    )\n",
    "    return prompt\n",
    "\n",
    "def search_similar_chunks(query, top_k=3, threshold=0.3):\n",
    "    query_embedding = embedder.encode([query])\n",
    "    query_embedding = normalize(query_embedding, axis=1) #Normalizar los embeddings\n",
    "    distances, indices = index.search(query_embedding, top_k)\n",
    "    if max(distances[0] < threshold):\n",
    "      return None\n",
    "\n",
    "    results = []\n",
    "    for i in indices[0]:\n",
    "        results.append(metadata[i]['text'])\n",
    "    return results\n",
    "\n",
    "def generate_answer(query, top_k=3):\n",
    "    chunks = search_similar_chunks(query, top_k=top_k)\n",
    "    if chunks is None:\n",
    "      return \"Lo siento, no encontré información suficiente para responder a eso.\"\n",
    "    prompt = build_prompt(query, chunks)\n",
    "\n",
    "    output = generator(prompt, max_new_tokens=256, do_sample=False)\n",
    "    return output[0]['generated_text']\n",
    "\n",
    "# Cargar índice\n",
    "index = faiss.read_index(\"chatbot_index.faiss\")\n",
    "\n",
    "# Cargar metadatos\n",
    "with open(\"chatbot_metadata.pkl\", \"rb\") as f:\n",
    "    metadata = pickle.load(f)"
   ]
  },
  {
   "cell_type": "markdown",
   "metadata": {
    "id": "OOfeqsQb5ttD"
   },
   "source": [
    "# **El chatbot, incluyendo ejemplos de prueba.**"
   ]
  },
  {
   "cell_type": "markdown",
   "metadata": {
    "id": "OiyJ8qcM5ltH"
   },
   "source": [
    "## 🤖 Prueba de Consultas al Chatbot\n",
    "\n",
    "* **Evalúa una lista de preguntas simuladas y muestra las respuestas generadas.**\n",
    "\n",
    "### ⚙️ ¿Cómo funciona?\n",
    "\n",
    "* 🧾 **Lista de preguntas (`queries`)**  \n",
    "  Contiene ejemplos representativos de preguntas que un usuario podría hacerle al chatbot, relacionadas con ansiedad, depresión y emociones humanas.\n",
    "\n",
    "* 🔄 **Bucle de interacción con el chatbot**  \n",
    "  Para cada pregunta:\n",
    "  - Se imprime la consulta.\n",
    "  - Se llama a `generate_answer()` para obtener una respuesta contextual.\n",
    "  - La respuesta se imprime.\n",
    "\n",
    "Este bloque permite probar y validar cómo responde el sistema a distintas consultas, ideal para demostraciones, testing o debugging del chatbot.\n"
   ]
  },
  {
   "cell_type": "code",
   "execution_count": 23,
   "metadata": {
    "colab": {
     "base_uri": "https://localhost:8080/"
    },
    "id": "0t3eNHkfkGvx",
    "outputId": "736fb80b-06cc-4124-87a0-750ac401bca7"
   },
   "outputs": [
    {
     "name": "stdout",
     "output_type": "stream",
     "text": [
      "============================================================\n",
      ">> 👨🏻‍💻 Pregunta realizada:\n",
      "Cómo superar la ansiedad?\n",
      "\n",
      "++ 💻 Respuesta del chatbot:\n",
      "• Controle su preocupación. Escoja un lugar y una hora para preocuparse. • Los sntomas de ansiedad originales pueden volver. Considere otras formas de hacer frente a sus sntomas. For example, aprenda a relajarse. Cambiar los comportamientos relacionados con la ansiedad • Trate de reconocer cuando está evitando cosas. • Siempre que se puede tratar de hacer frente a estostemores, no todos a la vez pero siempre gradual. Responde briefly:\n",
      "============================================================\n",
      ">> 👨🏻‍💻 Pregunta realizada:\n",
      "Qué es ansiedad?\n",
      "\n",
      "++ 💻 Respuesta del chatbot:\n",
      "Para la ansiedad Los sntomas de la ansiedad incluyen: agitación, tensión, irritabilidad, palpitaciones, temblores, sudoración, preocuparse en exceso, dormir mal, falta de concentración, respiración rapida, sensación de “pellizco en el estómago” y tensión muscular\n",
      "============================================================\n",
      ">> 👨🏻‍💻 Pregunta realizada:\n",
      "Cuando es grave la ansiedad?\n",
      "\n",
      "++ 💻 Respuesta del chatbot:\n",
      "• Graves and desagradables. • Duran mucho tiempo. • Ocurren con demasiada frecuencia. S. Son los siguientes: • Trastorno de ansiedad generalizada. La ansiedad puede ser una sensación general y constante de preocupación. Para la ansiedad Los sntomas de la ansiedad incluyen: agitación, tensión, irritabilidad, palpitaciones, temblores, sudoración, preocuparse en exceso, dormir mal, falta de concentración, respiración rapida, sensación de “pellizco en el estómago” y tensión muscular\n",
      "============================================================\n",
      ">> 👨🏻‍💻 Pregunta realizada:\n",
      "Cuales son los sintomas de la ansiedad\n",
      "\n",
      "++ 💻 Respuesta del chatbot:\n",
      "agitación, tensión, irritabilidad, palpitaciones, temblores, sudoración, preocuparse en exceso, dormir mal, falta de concentración, respiración rápida, sensación de “pellizco en el estómago” y tensión muscular.\n",
      "============================================================\n",
      ">> 👨🏻‍💻 Pregunta realizada:\n",
      "Qué hacer si estoy triste?\n",
      "\n",
      "++ 💻 Respuesta del chatbot:\n",
      "Me echo a llorar por cualquier cosa y todo me sienta mal. No digas “Estoy triste” si las palabras que mejor describiran tu estado emocional seran decepcionado, compungido, melancólico o herido. Sé concreto.\n",
      "============================================================\n",
      ">> 👨🏻‍💻 Pregunta realizada:\n",
      "Qué es una depresión?\n",
      "\n",
      "++ 💻 Respuesta del chatbot:\n",
      "La depresión es una enfermedad, como lo es la diabetes o una lcera de estómago\n",
      "============================================================\n",
      ">> 👨🏻‍💻 Pregunta realizada:\n",
      "¿Cúales son las causas de la depresión?\n",
      "\n",
      "++ 💻 Respuesta del chatbot:\n",
      "Para lo general, se considera que existen “factores” biológicos, psicológicos y ambientales (aquéls relacionados con el entorno social o la familia).\n",
      "============================================================\n",
      ">> 👨🏻‍💻 Pregunta realizada:\n",
      "Quieres ser mi amigo?\n",
      "\n",
      "++ 💻 Respuesta del chatbot:\n",
      "Puedo encontrar a una amiga que me acompae y aprovechar para conversar.\n",
      "============================================================\n",
      ">> 👨🏻‍💻 Pregunta realizada:\n",
      "Que es un iPhone?\n",
      "\n",
      "++ 💻 Respuesta del chatbot:\n",
      "Lo siento, no encontré información suficiente para responder a eso.\n"
     ]
    }
   ],
   "source": [
    "queries = [\n",
    "    \"Cómo superar la ansiedad?\",\n",
    "    \"Qué es ansiedad?\",\n",
    "    \"Cuando es grave la ansiedad?\",\n",
    "    \"Cuales son los sintomas de la ansiedad\",\n",
    "    \"Qué hacer si estoy triste?\",\n",
    "    \"Qué es una depresión?\",\n",
    "    \"¿Cúales son las causas de la depresión?\",\n",
    "    \"Quieres ser mi amigo?\",\n",
    "    \"Que es un iPhone?\"\n",
    "           ]\n",
    "\n",
    "for query in queries:\n",
    "  print(f\"=\"*60)\n",
    "  print(f\">> 👨🏻‍💻 Pregunta realizada:\\n{query}\\n\")\n",
    "  respuesta = generate_answer(query)\n",
    "  print(\"++ 💻 Respuesta del chatbot:\")\n",
    "  print(respuesta)"
   ]
  },
  {
   "cell_type": "markdown",
   "metadata": {
    "id": "mBUXG3vr56ev"
   },
   "source": [
    "## 🖼️ Despliegue de Interfaz Interactiva con Gradio\n",
    "\n",
    "* **Por último, se crea una interfaz web simple para interactuar con el chatbot directamente desde el navegador.**\n",
    "\n",
    "### ⚙️ ¿Cómo funciona?\n",
    "\n",
    "* 🔌 **`chat_interface(question)`**  \n",
    "  Define una función que toma una pregunta como entrada, genera una respuesta utilizando `generate_answer()`, y la retorna. Esta será la función que conecta la interfaz con la lógica del chatbot.\n",
    "\n",
    "* 🧪 **`gr.Interface(...)`**  \n",
    "  Utiliza la librería `Gradio` para crear una interfaz gráfica mínima:\n",
    "  - `inputs=\"text\"` permite al usuario ingresar una pregunta en una caja de texto.\n",
    "  - `outputs=\"text\"` muestra la respuesta generada.\n",
    "  - `launch(share=True)` despliega la interfaz y genera un enlace público para compartirla fácilmente.\n",
    "\n",
    "  ### Captura de interfaz con Gradio:\n",
    "  <img src=\"https://drive.google.com/uc?id=1cyyi2xpzoqWzWiK4OQVcgSx9eUTEwXwx\" width=\"1200\">"
   ]
  },
  {
   "cell_type": "markdown",
   "metadata": {
    "id": "6QVsp7TrQsvS"
   },
   "source": [
    "\n"
   ]
  },
  {
   "cell_type": "code",
   "execution_count": 24,
   "metadata": {
    "colab": {
     "base_uri": "https://localhost:8080/",
     "height": 612
    },
    "id": "Lw1bxsYeQrMn",
    "outputId": "7de3cd47-5e50-446b-de15-cb2ffe70d3af"
   },
   "outputs": [
    {
     "name": "stdout",
     "output_type": "stream",
     "text": [
      "Colab notebook detected. To show errors in colab notebook, set debug=True in launch()\n",
      "* Running on public URL: https://7b1c0885a6dfdd66d2.gradio.live\n",
      "\n",
      "This share link expires in 1 week. For free permanent hosting and GPU upgrades, run `gradio deploy` from the terminal in the working directory to deploy to Hugging Face Spaces (https://huggingface.co/spaces)\n"
     ]
    },
    {
     "data": {
      "text/html": [
       "<div><iframe src=\"https://7b1c0885a6dfdd66d2.gradio.live\" width=\"100%\" height=\"500\" allow=\"autoplay; camera; microphone; clipboard-read; clipboard-write;\" frameborder=\"0\" allowfullscreen></iframe></div>"
      ],
      "text/plain": [
       "<IPython.core.display.HTML object>"
      ]
     },
     "metadata": {},
     "output_type": "display_data"
    },
    {
     "data": {
      "text/plain": []
     },
     "execution_count": 24,
     "metadata": {},
     "output_type": "execute_result"
    }
   ],
   "source": [
    "import gradio as gr\n",
    "def chat_interface(question):\n",
    "    answer = generate_answer(question)\n",
    "    return answer\n",
    "gr.Interface(fn=chat_interface, inputs=\"text\", outputs=\"text\").launch(share=True)"
   ]
  },
  {
   "cell_type": "markdown",
   "metadata": {
    "id": "Kx-dZSFJz9cK"
   },
   "source": [
    "\n",
    "# **Conclusiones:**"
   ]
  },
  {
   "cell_type": "markdown",
   "metadata": {
    "id": "3w3usdaC0BCj"
   },
   "source": [
    "* #### **Conclusiones de la actividad chatbot LLM + RAG:**\n",
    "\n",
    "**Aprendizajes generales**\n",
    "- Como equipo, logramos implementar un enfoque de Retrieval-Augmented Generation que permitió combinar la potencia de los modelos generativos con la precisión del sistema de recuperación documental mediante FAISS. Esto demostró ser útil para responder preguntas específicas del dominio de salud mental, generando respuestas contextualizadas y coherentes.\n",
    "\n",
    "- Al utilizar corpus en español y modelos preentrenados compatibles con el idioma, se buscó la adecuación lingüística del chatbot para usuarios hispanohablantes. Este enfoque nos confirma la importancia de adaptar los modelos LLM a las necesidades culturales y lingüísticas de los usuarios.\n",
    "\n",
    "- El prototipo desarrollado tiene potencial para convertirse en una herramienta de apoyo accesible para personas en búsqueda de información confiable y actualizada relacionada con salud mental.\n",
    "\n",
    "- Se comprendió la arquitectura RAG como una solución que combina lo mejor del acceso a información (retrieval) con la generación fluida de lenguaje natural (LLM).\n",
    "\n",
    "- Se identificó que los modelos LLM por sí solos pueden llegar a tener límites si no están conectados a una base de conocimiento actualizada o contextual.\n",
    "\n",
    "- El enfoque RAG permitió ofrecer respuestas más precisas, relevantes y trazables, especialmente útil en temas delicados como salud mental.\n",
    "\n",
    "\n",
    "**Técnicas y Herramientas Implementadas**\n",
    "\n",
    "- Se utilizaron embeddings semánticos para representar texto y permitir búsquedas por similitud en lugar de coincidencia exacta de palabras clave.\n",
    "\n",
    "- Se trabajó con herramientas como FAISS para construir índices de recuperación eficientes.\n",
    "\n",
    "- Se aplicó un umbral de similitud para filtrar respuestas no relacionadas, mejorando la precisión del chatbot.\n",
    "\n",
    "- Se integró el sistema en una interfaz interactiva mediante Gradio, facilitando la interacción con el usuario final.\n",
    "\n",
    "- Se reafirmó la importancia del preprocesamiento del texto, incluyendo limpieza, normalización y tokenización.\n",
    "\n",
    "- Se emplearon modelos preentrenados de HuggingFace Transformers para tareas de generación de texto, en busca de coherencia y naturalidad.\n",
    "\n",
    "- Se comprobó que los LLM pueden ampliar, matizar o contextualizar mejor la información cuando se utilizan junto con RAG.\n",
    "\n",
    "- Se logró generar respuestas basadas en fuentes específicas.\n",
    "\n",
    "- Se apreciaron los beneficos de que es un enfoque modular y escalable, permitiendo incorporar nuevos documentos sin necesidad de reentrenar el modelo.\n",
    "\n",
    "**Retos y Reflexiones**\n",
    "\n",
    "- Se observan oportunidades en las respuestas, ya que hay errores en cuanto a formato, mezcla de idiomas e incluso omisión de caracteres. Esto pudiera mejorarse ya sea agregando instrucciones al promppt, hacer un proceso de limpieza más extensivo o aplicar filtros de idioma.\n",
    "\n",
    "- Se identificó que definir un umbral de similitud adecuado es clave para evitar respuestas irrelevantes.\n",
    "\n",
    "- Se observó que la curación del corpus (selección y fragmentación del contenido) tiene un impacto directo en la calidad del chatbot.\n",
    "\n",
    "- Se concluyó que este enfoque puede adaptarse a otros dominios como educación, derecho, atención médica o servicio al cliente.\n",
    "\n",
    "- Se reconoció que la estructura RAG es multilingüe y adaptable, facilitando su implementación en diversos contextos.\n",
    "\n",
    "- Se evidenció el potencial para escalar esta tecnología hacia sistemas más complejos como tutores virtuales, asistentes personales o motores de búsqueda especializados."
   ]
  },
  {
   "cell_type": "markdown",
   "metadata": {
    "id": "CtB5Q3m41YQ0"
   },
   "source": [
    "# **Fin de la actividad chatbot: LLM + RAG**"
   ]
  }
 ],
 "metadata": {
  "accelerator": "GPU",
  "colab": {
   "gpuType": "T4",
   "provenance": []
  },
  "kernelspec": {
   "display_name": "Python 3",
   "name": "python3"
  },
  "language_info": {
   "name": "python"
  }
 },
 "nbformat": 4,
 "nbformat_minor": 0
}
